{
 "cells": [
  {
   "cell_type": "markdown",
   "metadata": {},
   "source": [
    "# Sentiment Analysis Web App\n",
    "\n",
    "_Deep Learning Nanodegree Program | Deployment_\n",
    "\n",
    "---\n",
    "\n",
    "In this notebook we will use Amazon's SageMaker service to construct a random tree model to predict the sentiment of a movie review. In addition, we will deploy this model to an endpoint and construct a very simple web app which will interact with our model's deployed endpoint.\n",
    "\n",
    "## General Outline\n",
    "\n",
    "Typically, when using a notebook instance with SageMaker, you will proceed through the following steps. Of course, not every step will need to be done with each project. Also, there is quite a lot of room for variation in many of the steps, as you will see throughout these lessons.\n",
    "\n",
    "1. Download or otherwise retrieve the data.\n",
    "2. Process / Prepare the data.\n",
    "3. Upload the processed data to S3.\n",
    "4. Train a chosen model.\n",
    "5. Test the trained model (typically using a batch transform job).\n",
    "6. Deploy the trained model.\n",
    "7. Use the deployed model.\n",
    "\n",
    "In this notebook we will progress through each of the steps above. We will also see that the final step, using the deployed model, can be quite challenging."
   ]
  },
  {
   "cell_type": "markdown",
   "metadata": {},
   "source": [
    "## Step 1: Downloading the data\n",
    "\n",
    "The dataset we are going to use is very popular among researchers in Natural Language Processing, usually referred to as the [IMDb dataset](http://ai.stanford.edu/~amaas/data/sentiment/). It consists of movie reviews from the website [imdb.com](http://www.imdb.com/), each labeled as either '**pos**itive', if the reviewer enjoyed the film, or '**neg**ative' otherwise.\n",
    "\n",
    "> Maas, Andrew L., et al. [Learning Word Vectors for Sentiment Analysis](http://ai.stanford.edu/~amaas/data/sentiment/). In _Proceedings of the 49th Annual Meeting of the Association for Computational Linguistics: Human Language Technologies_. Association for Computational Linguistics, 2011.\n",
    "\n",
    "We begin by using some Jupyter Notebook magic to download and extract the dataset."
   ]
  },
  {
   "cell_type": "code",
   "execution_count": 1,
   "metadata": {},
   "outputs": [
    {
     "name": "stdout",
     "output_type": "stream",
     "text": [
      "mkdir: cannot create directory ‘../data’: File exists\n",
      "--2020-11-28 04:17:13--  http://ai.stanford.edu/~amaas/data/sentiment/aclImdb_v1.tar.gz\n",
      "Resolving ai.stanford.edu (ai.stanford.edu)... 171.64.68.10\n",
      "Connecting to ai.stanford.edu (ai.stanford.edu)|171.64.68.10|:80... connected.\n",
      "HTTP request sent, awaiting response... 200 OK\n",
      "Length: 84125825 (80M) [application/x-gzip]\n",
      "Saving to: ‘../data/aclImdb_v1.tar.gz’\n",
      "\n",
      "../data/aclImdb_v1. 100%[===================>]  80.23M  26.2MB/s    in 4.0s    \n",
      "\n",
      "2020-11-28 04:17:17 (20.3 MB/s) - ‘../data/aclImdb_v1.tar.gz’ saved [84125825/84125825]\n",
      "\n"
     ]
    }
   ],
   "source": [
    "%mkdir ../data\n",
    "!wget -O ../data/aclImdb_v1.tar.gz http://ai.stanford.edu/~amaas/data/sentiment/aclImdb_v1.tar.gz\n",
    "!tar -zxf ../data/aclImdb_v1.tar.gz -C ../data"
   ]
  },
  {
   "cell_type": "markdown",
   "metadata": {},
   "source": [
    "## Step 2: Preparing and Processing the data\n",
    "\n",
    "The data we have downloaded is split into various files, each of which contains a single review. It will be much easier going forward if we combine these individual files into two large files, one for training and one for testing."
   ]
  },
  {
   "cell_type": "code",
   "execution_count": 2,
   "metadata": {},
   "outputs": [],
   "source": [
    "import os\n",
    "import glob\n",
    "\n",
    "def read_imdb_data(data_dir='../data/aclImdb'):\n",
    "    data = {}\n",
    "    labels = {}\n",
    "    \n",
    "    for data_type in ['train', 'test']:\n",
    "        data[data_type] = {}\n",
    "        labels[data_type] = {}\n",
    "        \n",
    "        for sentiment in ['pos', 'neg']:\n",
    "            data[data_type][sentiment] = []\n",
    "            labels[data_type][sentiment] = []\n",
    "            \n",
    "            path = os.path.join(data_dir, data_type, sentiment, '*.txt')\n",
    "            files = glob.glob(path)\n",
    "            \n",
    "            for f in files:\n",
    "                with open(f) as review:\n",
    "                    data[data_type][sentiment].append(review.read())\n",
    "                    # Here we represent a positive review by '1' and a negative review by '0'\n",
    "                    labels[data_type][sentiment].append(1 if sentiment == 'pos' else 0)\n",
    "                    \n",
    "            assert len(data[data_type][sentiment]) == len(labels[data_type][sentiment]), \\\n",
    "                    \"{}/{} data size does not match labels size\".format(data_type, sentiment)\n",
    "                \n",
    "    return data, labels"
   ]
  },
  {
   "cell_type": "code",
   "execution_count": 3,
   "metadata": {},
   "outputs": [
    {
     "name": "stdout",
     "output_type": "stream",
     "text": [
      "IMDB reviews: train = 12500 pos / 12500 neg, test = 12500 pos / 12500 neg\n"
     ]
    }
   ],
   "source": [
    "data, labels = read_imdb_data()\n",
    "print(\"IMDB reviews: train = {} pos / {} neg, test = {} pos / {} neg\".format(\n",
    "            len(data['train']['pos']), len(data['train']['neg']),\n",
    "            len(data['test']['pos']), len(data['test']['neg'])))"
   ]
  },
  {
   "cell_type": "code",
   "execution_count": 4,
   "metadata": {},
   "outputs": [],
   "source": [
    "from sklearn.utils import shuffle\n",
    "\n",
    "def prepare_imdb_data(data, labels):\n",
    "    \"\"\"Prepare training and test sets from IMDb movie reviews.\"\"\"\n",
    "    \n",
    "    #Combine positive and negative reviews and labels\n",
    "    data_train = data['train']['pos'] + data['train']['neg']\n",
    "    data_test = data['test']['pos'] + data['test']['neg']\n",
    "    labels_train = labels['train']['pos'] + labels['train']['neg']\n",
    "    labels_test = labels['test']['pos'] + labels['test']['neg']\n",
    "    \n",
    "    #Shuffle reviews and corresponding labels within training and test sets\n",
    "    data_train, labels_train = shuffle(data_train, labels_train)\n",
    "    data_test, labels_test = shuffle(data_test, labels_test)\n",
    "    \n",
    "    # Return a unified training data, test data, training labels, test labets\n",
    "    return data_train, data_test, labels_train, labels_test"
   ]
  },
  {
   "cell_type": "code",
   "execution_count": 5,
   "metadata": {},
   "outputs": [
    {
     "name": "stdout",
     "output_type": "stream",
     "text": [
      "IMDb reviews (combined): train = 25000, test = 25000\n"
     ]
    }
   ],
   "source": [
    "train_X, test_X, train_y, test_y = prepare_imdb_data(data, labels)\n",
    "print(\"IMDb reviews (combined): train = {}, test = {}\".format(len(train_X), len(test_X)))"
   ]
  },
  {
   "cell_type": "code",
   "execution_count": 6,
   "metadata": {},
   "outputs": [
    {
     "data": {
      "text/plain": [
       "\"I have to tell you, this is a great movie. It surprises me sometimes how good a movie with no pretenses can be. This one is just fabulous. It could be that it isn't TRYING too hard to send any kind of message; it just tells a whimsical, fun story. I gave it a 10 out of 10.\""
      ]
     },
     "execution_count": 6,
     "metadata": {},
     "output_type": "execute_result"
    }
   ],
   "source": [
    "train_X[100]"
   ]
  },
  {
   "cell_type": "markdown",
   "metadata": {},
   "source": [
    "## Processing the data\n",
    "\n",
    "Now that we have our training and testing datasets merged and ready to use, we need to start processing the raw data into something that will be useable by our machine learning algorithm. To begin with, we remove any html formatting and any non-alpha numeric characters that may appear in the reviews. We will do this in a very simplistic way using Python's regular expression module. We will discuss the reason for this rather simplistic pre-processing later on."
   ]
  },
  {
   "cell_type": "code",
   "execution_count": 7,
   "metadata": {},
   "outputs": [],
   "source": [
    "import re\n",
    "\n",
    "REPLACE_NO_SPACE = re.compile(\"(\\.)|(\\;)|(\\:)|(\\!)|(\\')|(\\?)|(\\,)|(\\\")|(\\()|(\\))|(\\[)|(\\])\")\n",
    "REPLACE_WITH_SPACE = re.compile(\"(<br\\s*/><br\\s*/>)|(\\-)|(\\/)\")\n",
    "\n",
    "def review_to_words(review):\n",
    "    words = REPLACE_NO_SPACE.sub(\"\", review.lower())\n",
    "    words = REPLACE_WITH_SPACE.sub(\" \", words)\n",
    "    return words"
   ]
  },
  {
   "cell_type": "code",
   "execution_count": 8,
   "metadata": {},
   "outputs": [
    {
     "data": {
      "text/plain": [
       "'i have to tell you this is a great movie it surprises me sometimes how good a movie with no pretenses can be this one is just fabulous it could be that it isnt trying too hard to send any kind of message it just tells a whimsical fun story i gave it a 10 out of 10'"
      ]
     },
     "execution_count": 8,
     "metadata": {},
     "output_type": "execute_result"
    }
   ],
   "source": [
    "review_to_words(train_X[100])"
   ]
  },
  {
   "cell_type": "code",
   "execution_count": 9,
   "metadata": {},
   "outputs": [],
   "source": [
    "import pickle\n",
    "\n",
    "cache_dir = os.path.join(\"../cache\", \"sentiment_web_app\")  # where to store cache files\n",
    "os.makedirs(cache_dir, exist_ok=True)  # ensure cache directory exists\n",
    "\n",
    "def preprocess_data(data_train, data_test, labels_train, labels_test,\n",
    "                    cache_dir=cache_dir, cache_file=\"preprocessed_data.pkl\"):\n",
    "    \"\"\"Convert each review to words; read from cache if available.\"\"\"\n",
    "\n",
    "    # If cache_file is not None, try to read from it first\n",
    "    cache_data = None\n",
    "    if cache_file is not None:\n",
    "        try:\n",
    "            with open(os.path.join(cache_dir, cache_file), \"rb\") as f:\n",
    "                cache_data = pickle.load(f)\n",
    "            print(\"Read preprocessed data from cache file:\", cache_file)\n",
    "        except:\n",
    "            pass  # unable to read from cache, but that's okay\n",
    "    \n",
    "    # If cache is missing, then do the heavy lifting\n",
    "    if cache_data is None:\n",
    "        # Preprocess training and test data to obtain words for each review\n",
    "        #words_train = list(map(review_to_words, data_train))\n",
    "        #words_test = list(map(review_to_words, data_test))\n",
    "        words_train = [review_to_words(review) for review in data_train]\n",
    "        words_test = [review_to_words(review) for review in data_test]\n",
    "        \n",
    "        # Write to cache file for future runs\n",
    "        if cache_file is not None:\n",
    "            cache_data = dict(words_train=words_train, words_test=words_test,\n",
    "                              labels_train=labels_train, labels_test=labels_test)\n",
    "            with open(os.path.join(cache_dir, cache_file), \"wb\") as f:\n",
    "                pickle.dump(cache_data, f)\n",
    "            print(\"Wrote preprocessed data to cache file:\", cache_file)\n",
    "    else:\n",
    "        # Unpack data loaded from cache file\n",
    "        words_train, words_test, labels_train, labels_test = (cache_data['words_train'],\n",
    "                cache_data['words_test'], cache_data['labels_train'], cache_data['labels_test'])\n",
    "    \n",
    "    return words_train, words_test, labels_train, labels_test"
   ]
  },
  {
   "cell_type": "code",
   "execution_count": 10,
   "metadata": {},
   "outputs": [
    {
     "name": "stdout",
     "output_type": "stream",
     "text": [
      "Read preprocessed data from cache file: preprocessed_data.pkl\n"
     ]
    }
   ],
   "source": [
    "# Preprocess data\n",
    "train_X, test_X, train_y, test_y = preprocess_data(train_X, test_X, train_y, test_y)"
   ]
  },
  {
   "cell_type": "markdown",
   "metadata": {},
   "source": [
    "### Extract Bag-of-Words features\n",
    "\n",
    "For the model we will be implementing, rather than using the reviews directly, we are going to transform each review into a Bag-of-Words feature representation. Keep in mind that 'in the wild' we will only have access to the training set so our transformer can only use the training set to construct a representation."
   ]
  },
  {
   "cell_type": "code",
   "execution_count": 11,
   "metadata": {},
   "outputs": [],
   "source": [
    "import numpy as np\n",
    "from sklearn.feature_extraction.text import CountVectorizer\n",
    "\n",
    "# sklearn.externals.joblib is deprecated in 0.21 and will be removed in 0.23. \n",
    "# from sklearn.externals import joblib\n",
    "\n",
    "# Import joblib package directly\n",
    "import joblib\n",
    "# joblib is an enhanced version of pickle that is more efficient for storing NumPy arrays\n",
    "\n",
    "def extract_BoW_features(words_train, words_test, vocabulary_size=5000,\n",
    "                         cache_dir=cache_dir, cache_file=\"bow_features.pkl\"):\n",
    "    \"\"\"Extract Bag-of-Words for a given set of documents, already preprocessed into words.\"\"\"\n",
    "    \n",
    "    # If cache_file is not None, try to read from it first\n",
    "    cache_data = None\n",
    "    if cache_file is not None:\n",
    "        try:\n",
    "            with open(os.path.join(cache_dir, cache_file), \"rb\") as f:\n",
    "                cache_data = joblib.load(f)\n",
    "            print(\"Read features from cache file:\", cache_file)\n",
    "        except:\n",
    "            pass  # unable to read from cache, but that's okay\n",
    "    \n",
    "    # If cache is missing, then do the heavy lifting\n",
    "    if cache_data is None:\n",
    "        # Fit a vectorizer to training documents and use it to transform them\n",
    "        # NOTE: Training documents have already been preprocessed and tokenized into words;\n",
    "        #       pass in dummy functions to skip those steps, e.g. preprocessor=lambda x: x\n",
    "        vectorizer = CountVectorizer(max_features=vocabulary_size)\n",
    "        features_train = vectorizer.fit_transform(words_train).toarray()\n",
    "\n",
    "        # Apply the same vectorizer to transform the test documents (ignore unknown words)\n",
    "        features_test = vectorizer.transform(words_test).toarray()\n",
    "        \n",
    "        # NOTE: Remember to convert the features using .toarray() for a compact representation\n",
    "        \n",
    "        # Write to cache file for future runs (store vocabulary as well)\n",
    "        if cache_file is not None:\n",
    "            vocabulary = vectorizer.vocabulary_\n",
    "            cache_data = dict(features_train=features_train, features_test=features_test,\n",
    "                             vocabulary=vocabulary)\n",
    "            with open(os.path.join(cache_dir, cache_file), \"wb\") as f:\n",
    "                joblib.dump(cache_data, f)\n",
    "            print(\"Wrote features to cache file:\", cache_file)\n",
    "    else:\n",
    "        # Unpack data loaded from cache file\n",
    "        features_train, features_test, vocabulary = (cache_data['features_train'],\n",
    "                cache_data['features_test'], cache_data['vocabulary'])\n",
    "    \n",
    "    # Return both the extracted features as well as the vocabulary\n",
    "    return features_train, features_test, vocabulary"
   ]
  },
  {
   "cell_type": "code",
   "execution_count": 12,
   "metadata": {},
   "outputs": [
    {
     "name": "stdout",
     "output_type": "stream",
     "text": [
      "Read features from cache file: bow_features.pkl\n"
     ]
    }
   ],
   "source": [
    "# Extract Bag of Words features for both training and test datasets\n",
    "train_X, test_X, vocabulary = extract_BoW_features(train_X, test_X)"
   ]
  },
  {
   "cell_type": "code",
   "execution_count": 13,
   "metadata": {},
   "outputs": [
    {
     "data": {
      "text/plain": [
       "5000"
      ]
     },
     "execution_count": 13,
     "metadata": {},
     "output_type": "execute_result"
    }
   ],
   "source": [
    "len(train_X[100])"
   ]
  },
  {
   "cell_type": "markdown",
   "metadata": {},
   "source": [
    "## Step 3: Upload data to S3\n",
    "\n",
    "Now that we have created the feature representation of our training (and testing) data, it is time to start setting up and using the XGBoost classifier provided by SageMaker.\n",
    "\n",
    "### Writing the datasets\n",
    "\n",
    "The XGBoost classifier that we will be using requires the dataset to be written to a file and stored using Amazon S3. To do this, we will start by splitting the training dataset into two parts, the data we will train the model with and a validation set. Then, we will write those datasets to a file locally and then upload the files to S3. In addition, we will write the test set to a file and upload that file to S3. This is so that we can use SageMakers Batch Transform functionality to test our model once we've fit it."
   ]
  },
  {
   "cell_type": "code",
   "execution_count": 14,
   "metadata": {},
   "outputs": [],
   "source": [
    "import pandas as pd\n",
    "\n",
    "# Earlier we shuffled the training dataset so to make things simple we can just assign\n",
    "# the first 10 000 reviews to the validation set and use the remaining reviews for training.\n",
    "val_X = pd.DataFrame(train_X[:10000])\n",
    "train_X = pd.DataFrame(train_X[10000:])\n",
    "\n",
    "val_y = pd.DataFrame(train_y[:10000])\n",
    "train_y = pd.DataFrame(train_y[10000:])"
   ]
  },
  {
   "cell_type": "markdown",
   "metadata": {},
   "source": [
    "The documentation for the XGBoost algorithm in SageMaker requires that the training and validation datasets should contain no headers or index and that the label should occur first for each sample.\n",
    "\n",
    "For more information about this and other algorithms, the SageMaker developer documentation can be found on __[Amazon's website.](https://docs.aws.amazon.com/sagemaker/latest/dg/)__"
   ]
  },
  {
   "cell_type": "code",
   "execution_count": 15,
   "metadata": {},
   "outputs": [],
   "source": [
    "# First we make sure that the local directory in which we'd like to store the training and validation csv files exists.\n",
    "data_dir = '../data/sentiment_web_app'\n",
    "if not os.path.exists(data_dir):\n",
    "    os.makedirs(data_dir)"
   ]
  },
  {
   "cell_type": "code",
   "execution_count": 16,
   "metadata": {},
   "outputs": [],
   "source": [
    "pd.DataFrame(test_X).to_csv(os.path.join(data_dir, 'test.csv'), header=False, index=False)\n",
    "\n",
    "pd.concat([val_y, val_X], axis=1).to_csv(os.path.join(data_dir, 'validation.csv'), header=False, index=False)\n",
    "pd.concat([train_y, train_X], axis=1).to_csv(os.path.join(data_dir, 'train.csv'), header=False, index=False)"
   ]
  },
  {
   "cell_type": "code",
   "execution_count": 17,
   "metadata": {},
   "outputs": [],
   "source": [
    "# To save a bit of memory we can set text_X, train_X, val_X, train_y and val_y to None.\n",
    "\n",
    "test_X = train_X = val_X = train_y = val_y = None"
   ]
  },
  {
   "cell_type": "markdown",
   "metadata": {},
   "source": [
    "### Uploading Training / Validation files to S3\n",
    "\n",
    "Amazon's S3 service allows us to store files that can be accessed by both the built-in training models such as the XGBoost model we will be using as well as custom models such as the one we will see a little later.\n",
    "\n",
    "For this and most other tasks we will be doing using SageMaker, there are two methods we could use. The first is to use the low level functionality of SageMaker which requires knowing each of the objects involved in the SageMaker environment. The second is to use the high level functionality in which certain choices have been made on the user's behalf. The low level approach benefits from allowing the user a great deal of flexibility while the high level approach makes development much quicker. For our purposes we will opt to use the high level approach although using the low-level approach is certainly an option.\n",
    "\n",
    "Recall the method `upload_data()` which is a member of the object representing our current SageMaker session. What this method does is upload the data to the default bucket (which is created if it does not exist) into the path described by the key_prefix variable. To see this for yourself, once you have uploaded the data files, go to the S3 console and look to see where the files have been uploaded.\n",
    "\n",
    "For additional resources, see the __[SageMaker API documentation](http://sagemaker.readthedocs.io/en/latest/)__ and in addition the __[SageMaker Developer Guide.](https://docs.aws.amazon.com/sagemaker/latest/dg/)__"
   ]
  },
  {
   "cell_type": "code",
   "execution_count": 18,
   "metadata": {},
   "outputs": [],
   "source": [
    "import sagemaker\n",
    "\n",
    "session = sagemaker.Session() # Store the current SageMaker session\n",
    "\n",
    "# S3 prefix (which folder will we use)\n",
    "prefix = 'sentiment-web-app'\n",
    "\n",
    "test_location = session.upload_data(os.path.join(data_dir, 'test.csv'), key_prefix=prefix)\n",
    "val_location = session.upload_data(os.path.join(data_dir, 'validation.csv'), key_prefix=prefix)\n",
    "train_location = session.upload_data(os.path.join(data_dir, 'train.csv'), key_prefix=prefix)"
   ]
  },
  {
   "cell_type": "markdown",
   "metadata": {},
   "source": [
    "## Step 4: Creating the XGBoost model\n",
    "\n",
    "Now that the data has been uploaded it is time to create the XGBoost model. To begin with, we need to do some setup. At this point it is worth discussing what a model is in SageMaker. It is easiest to think of a model of comprising three different objects in the SageMaker ecosystem, which interact with one another.\n",
    "\n",
    "- Model Artifacts\n",
    "- Training Code (Container)\n",
    "- Inference Code (Container)\n",
    "\n",
    "The Model Artifacts are what you might think of as the actual model itself. For example, if you were building a neural network, the model artifacts would be the weights of the various layers. In our case, for an XGBoost model, the artifacts are the actual trees that are created during training.\n",
    "\n",
    "The other two objects, the training code and the inference code are then used to manipulate the training artifacts. More precisely, the training code uses the training data that is provided and creates the model artifacts, while the inference code uses the model artifacts to make predictions on new data.\n",
    "\n",
    "The way that SageMaker runs the training and inference code is by making use of Docker containers. For now, think of a container as being a way of packaging code up so that dependencies aren't an issue."
   ]
  },
  {
   "cell_type": "code",
   "execution_count": 19,
   "metadata": {},
   "outputs": [],
   "source": [
    "from sagemaker import get_execution_role\n",
    "\n",
    "# Our current execution role is required when creating the model as the training\n",
    "# and inference code will need to access the model artifacts.\n",
    "role = get_execution_role()"
   ]
  },
  {
   "cell_type": "code",
   "execution_count": 20,
   "metadata": {},
   "outputs": [
    {
     "name": "stderr",
     "output_type": "stream",
     "text": [
      "'get_image_uri' method will be deprecated in favor of 'ImageURIProvider' class in SageMaker Python SDK v2.\n",
      "There is a more up to date SageMaker XGBoost image. To use the newer image, please set 'repo_version'='1.0-1'. For example:\n",
      "\tget_image_uri(region, 'xgboost', '1.0-1').\n"
     ]
    }
   ],
   "source": [
    "# We need to retrieve the location of the container which is provided by Amazon for using XGBoost.\n",
    "# As a matter of convenience, the training and inference code both use the same container.\n",
    "from sagemaker.amazon.amazon_estimator import get_image_uri\n",
    "\n",
    "container = get_image_uri(session.boto_region_name, 'xgboost')"
   ]
  },
  {
   "cell_type": "code",
   "execution_count": 21,
   "metadata": {},
   "outputs": [
    {
     "name": "stderr",
     "output_type": "stream",
     "text": [
      "Parameter image_name will be renamed to image_uri in SageMaker Python SDK v2.\n"
     ]
    }
   ],
   "source": [
    "# First we create a SageMaker estimator object for our model.\n",
    "xgb = sagemaker.estimator.Estimator(container, # The location of the container we wish to use\n",
    "                                    role,                                    # What is our current IAM Role\n",
    "                                    train_instance_count=1,                  # How many compute instances\n",
    "                                    train_instance_type='ml.m4.xlarge',      # What kind of compute instances\n",
    "                                    output_path='s3://{}/{}/output'.format(session.default_bucket(), prefix),\n",
    "                                    sagemaker_session=session)\n",
    "\n",
    "# And then set the algorithm specific parameters.\n",
    "xgb.set_hyperparameters(max_depth=5,\n",
    "                        eta=0.2,\n",
    "                        gamma=4,\n",
    "                        min_child_weight=6,\n",
    "                        subsample=0.8,\n",
    "                        silent=0,\n",
    "                        objective='binary:logistic',\n",
    "                        early_stopping_rounds=10,\n",
    "                        num_round=500)"
   ]
  },
  {
   "cell_type": "markdown",
   "metadata": {},
   "source": [
    "### Fit the XGBoost model\n",
    "\n",
    "Now that our model has been set up we simply need to attach the training and validation datasets and then ask SageMaker to set up the computation."
   ]
  },
  {
   "cell_type": "code",
   "execution_count": 22,
   "metadata": {},
   "outputs": [
    {
     "name": "stderr",
     "output_type": "stream",
     "text": [
      "'s3_input' class will be renamed to 'TrainingInput' in SageMaker Python SDK v2.\n",
      "'s3_input' class will be renamed to 'TrainingInput' in SageMaker Python SDK v2.\n"
     ]
    }
   ],
   "source": [
    "s3_input_train = sagemaker.s3_input(s3_data=train_location, content_type='csv')\n",
    "s3_input_validation = sagemaker.s3_input(s3_data=val_location, content_type='csv')"
   ]
  },
  {
   "cell_type": "code",
   "execution_count": 23,
   "metadata": {},
   "outputs": [
    {
     "name": "stdout",
     "output_type": "stream",
     "text": [
      "2020-11-28 04:18:59 Starting - Starting the training job...\n",
      "2020-11-28 04:19:01 Starting - Launching requested ML instances......\n",
      "2020-11-28 04:20:04 Starting - Preparing the instances for training...\n",
      "2020-11-28 04:20:58 Downloading - Downloading input data......\n",
      "2020-11-28 04:21:55 Training - Training image download completed. Training in progress..\u001b[34mArguments: train\u001b[0m\n",
      "\u001b[34m[2020-11-28:04:21:56:INFO] Running standalone xgboost training.\u001b[0m\n",
      "\u001b[34m[2020-11-28:04:21:56:INFO] File size need to be processed in the node: 238.5mb. Available memory size in the node: 8445.22mb\u001b[0m\n",
      "\u001b[34m[2020-11-28:04:21:56:INFO] Determined delimiter of CSV input is ','\u001b[0m\n",
      "\u001b[34m[04:21:56] S3DistributionType set as FullyReplicated\u001b[0m\n",
      "\u001b[34m[04:21:58] 15000x5000 matrix with 75000000 entries loaded from /opt/ml/input/data/train?format=csv&label_column=0&delimiter=,\u001b[0m\n",
      "\u001b[34m[2020-11-28:04:21:58:INFO] Determined delimiter of CSV input is ','\u001b[0m\n",
      "\u001b[34m[04:21:58] S3DistributionType set as FullyReplicated\u001b[0m\n",
      "\u001b[34m[04:21:59] 10000x5000 matrix with 50000000 entries loaded from /opt/ml/input/data/validation?format=csv&label_column=0&delimiter=,\u001b[0m\n",
      "\u001b[34m[04:22:03] src/tree/updater_prune.cc:74: tree pruning end, 1 roots, 44 extra nodes, 6 pruned nodes, max_depth=5\u001b[0m\n",
      "\u001b[34m[0]#011train-error:0.302133#011validation-error:0.3219\u001b[0m\n",
      "\u001b[34mMultiple eval metrics have been passed: 'validation-error' will be used for early stopping.\n",
      "\u001b[0m\n",
      "\u001b[34mWill train until validation-error hasn't improved in 10 rounds.\u001b[0m\n",
      "\u001b[34m[04:22:04] src/tree/updater_prune.cc:74: tree pruning end, 1 roots, 40 extra nodes, 6 pruned nodes, max_depth=5\u001b[0m\n",
      "\u001b[34m[1]#011train-error:0.299133#011validation-error:0.3109\u001b[0m\n",
      "\u001b[34m[04:22:05] src/tree/updater_prune.cc:74: tree pruning end, 1 roots, 48 extra nodes, 0 pruned nodes, max_depth=5\u001b[0m\n",
      "\u001b[34m[2]#011train-error:0.273067#011validation-error:0.2933\u001b[0m\n",
      "\u001b[34m[04:22:07] src/tree/updater_prune.cc:74: tree pruning end, 1 roots, 26 extra nodes, 8 pruned nodes, max_depth=5\u001b[0m\n",
      "\u001b[34m[3]#011train-error:0.264333#011validation-error:0.2807\u001b[0m\n",
      "\u001b[34m[04:22:08] src/tree/updater_prune.cc:74: tree pruning end, 1 roots, 36 extra nodes, 4 pruned nodes, max_depth=5\u001b[0m\n",
      "\u001b[34m[4]#011train-error:0.259733#011validation-error:0.2712\u001b[0m\n",
      "\u001b[34m[04:22:10] src/tree/updater_prune.cc:74: tree pruning end, 1 roots, 36 extra nodes, 8 pruned nodes, max_depth=5\u001b[0m\n",
      "\u001b[34m[5]#011train-error:0.253267#011validation-error:0.2662\u001b[0m\n",
      "\u001b[34m[04:22:11] src/tree/updater_prune.cc:74: tree pruning end, 1 roots, 26 extra nodes, 10 pruned nodes, max_depth=5\u001b[0m\n",
      "\u001b[34m[6]#011train-error:0.247133#011validation-error:0.261\u001b[0m\n",
      "\u001b[34m[04:22:12] src/tree/updater_prune.cc:74: tree pruning end, 1 roots, 32 extra nodes, 0 pruned nodes, max_depth=5\u001b[0m\n",
      "\u001b[34m[7]#011train-error:0.2404#011validation-error:0.257\u001b[0m\n",
      "\u001b[34m[04:22:13] src/tree/updater_prune.cc:74: tree pruning end, 1 roots, 32 extra nodes, 2 pruned nodes, max_depth=5\u001b[0m\n",
      "\u001b[34m[8]#011train-error:0.232867#011validation-error:0.25\u001b[0m\n",
      "\u001b[34m[04:22:15] src/tree/updater_prune.cc:74: tree pruning end, 1 roots, 26 extra nodes, 6 pruned nodes, max_depth=5\u001b[0m\n",
      "\u001b[34m[9]#011train-error:0.2252#011validation-error:0.2436\u001b[0m\n",
      "\u001b[34m[04:22:16] src/tree/updater_prune.cc:74: tree pruning end, 1 roots, 28 extra nodes, 10 pruned nodes, max_depth=5\u001b[0m\n",
      "\u001b[34m[10]#011train-error:0.2224#011validation-error:0.2383\u001b[0m\n",
      "\u001b[34m[04:22:17] src/tree/updater_prune.cc:74: tree pruning end, 1 roots, 34 extra nodes, 4 pruned nodes, max_depth=5\u001b[0m\n",
      "\u001b[34m[11]#011train-error:0.218467#011validation-error:0.2381\u001b[0m\n",
      "\u001b[34m[04:22:19] src/tree/updater_prune.cc:74: tree pruning end, 1 roots, 30 extra nodes, 4 pruned nodes, max_depth=5\u001b[0m\n",
      "\u001b[34m[12]#011train-error:0.215267#011validation-error:0.2349\u001b[0m\n",
      "\u001b[34m[04:22:20] src/tree/updater_prune.cc:74: tree pruning end, 1 roots, 40 extra nodes, 4 pruned nodes, max_depth=5\u001b[0m\n",
      "\u001b[34m[13]#011train-error:0.2088#011validation-error:0.2291\u001b[0m\n",
      "\u001b[34m[04:22:21] src/tree/updater_prune.cc:74: tree pruning end, 1 roots, 30 extra nodes, 10 pruned nodes, max_depth=5\u001b[0m\n",
      "\u001b[34m[14]#011train-error:0.204133#011validation-error:0.2241\u001b[0m\n",
      "\u001b[34m[04:22:22] src/tree/updater_prune.cc:74: tree pruning end, 1 roots, 42 extra nodes, 2 pruned nodes, max_depth=5\u001b[0m\n",
      "\u001b[34m[15]#011train-error:0.200667#011validation-error:0.2227\u001b[0m\n",
      "\u001b[34m[04:22:24] src/tree/updater_prune.cc:74: tree pruning end, 1 roots, 22 extra nodes, 10 pruned nodes, max_depth=5\u001b[0m\n",
      "\u001b[34m[16]#011train-error:0.196133#011validation-error:0.2222\u001b[0m\n",
      "\u001b[34m[04:22:25] src/tree/updater_prune.cc:74: tree pruning end, 1 roots, 30 extra nodes, 12 pruned nodes, max_depth=5\u001b[0m\n",
      "\u001b[34m[17]#011train-error:0.195467#011validation-error:0.2203\u001b[0m\n",
      "\u001b[34m[04:22:26] src/tree/updater_prune.cc:74: tree pruning end, 1 roots, 26 extra nodes, 8 pruned nodes, max_depth=5\u001b[0m\n",
      "\u001b[34m[18]#011train-error:0.192133#011validation-error:0.2143\u001b[0m\n",
      "\u001b[34m[04:22:27] src/tree/updater_prune.cc:74: tree pruning end, 1 roots, 36 extra nodes, 10 pruned nodes, max_depth=5\u001b[0m\n",
      "\u001b[34m[19]#011train-error:0.19#011validation-error:0.2146\u001b[0m\n",
      "\u001b[34m[04:22:29] src/tree/updater_prune.cc:74: tree pruning end, 1 roots, 30 extra nodes, 12 pruned nodes, max_depth=5\u001b[0m\n",
      "\u001b[34m[20]#011train-error:0.185067#011validation-error:0.2133\u001b[0m\n",
      "\u001b[34m[04:22:30] src/tree/updater_prune.cc:74: tree pruning end, 1 roots, 30 extra nodes, 6 pruned nodes, max_depth=5\u001b[0m\n",
      "\u001b[34m[21]#011train-error:0.181733#011validation-error:0.211\u001b[0m\n",
      "\u001b[34m[04:22:31] src/tree/updater_prune.cc:74: tree pruning end, 1 roots, 30 extra nodes, 6 pruned nodes, max_depth=5\u001b[0m\n",
      "\u001b[34m[22]#011train-error:0.1804#011validation-error:0.2066\u001b[0m\n",
      "\u001b[34m[04:22:33] src/tree/updater_prune.cc:74: tree pruning end, 1 roots, 36 extra nodes, 8 pruned nodes, max_depth=5\u001b[0m\n",
      "\u001b[34m[23]#011train-error:0.176867#011validation-error:0.2067\u001b[0m\n",
      "\u001b[34m[04:22:34] src/tree/updater_prune.cc:74: tree pruning end, 1 roots, 32 extra nodes, 6 pruned nodes, max_depth=5\u001b[0m\n",
      "\u001b[34m[24]#011train-error:0.1754#011validation-error:0.2046\u001b[0m\n",
      "\u001b[34m[04:22:35] src/tree/updater_prune.cc:74: tree pruning end, 1 roots, 40 extra nodes, 4 pruned nodes, max_depth=5\u001b[0m\n",
      "\u001b[34m[25]#011train-error:0.171067#011validation-error:0.203\u001b[0m\n",
      "\u001b[34m[04:22:36] src/tree/updater_prune.cc:74: tree pruning end, 1 roots, 34 extra nodes, 6 pruned nodes, max_depth=5\u001b[0m\n",
      "\u001b[34m[26]#011train-error:0.1696#011validation-error:0.2003\u001b[0m\n",
      "\u001b[34m[04:22:38] src/tree/updater_prune.cc:74: tree pruning end, 1 roots, 36 extra nodes, 12 pruned nodes, max_depth=5\u001b[0m\n",
      "\u001b[34m[27]#011train-error:0.167733#011validation-error:0.1985\u001b[0m\n",
      "\u001b[34m[04:22:39] src/tree/updater_prune.cc:74: tree pruning end, 1 roots, 18 extra nodes, 8 pruned nodes, max_depth=5\u001b[0m\n",
      "\u001b[34m[28]#011train-error:0.1658#011validation-error:0.1981\u001b[0m\n",
      "\u001b[34m[04:22:40] src/tree/updater_prune.cc:74: tree pruning end, 1 roots, 28 extra nodes, 16 pruned nodes, max_depth=5\u001b[0m\n",
      "\u001b[34m[29]#011train-error:0.164667#011validation-error:0.1985\u001b[0m\n",
      "\u001b[34m[04:22:42] src/tree/updater_prune.cc:74: tree pruning end, 1 roots, 16 extra nodes, 12 pruned nodes, max_depth=5\u001b[0m\n",
      "\u001b[34m[30]#011train-error:0.163267#011validation-error:0.1973\u001b[0m\n",
      "\u001b[34m[04:22:43] src/tree/updater_prune.cc:74: tree pruning end, 1 roots, 24 extra nodes, 10 pruned nodes, max_depth=5\u001b[0m\n",
      "\u001b[34m[31]#011train-error:0.162067#011validation-error:0.1961\u001b[0m\n",
      "\u001b[34m[04:22:44] src/tree/updater_prune.cc:74: tree pruning end, 1 roots, 28 extra nodes, 12 pruned nodes, max_depth=5\u001b[0m\n",
      "\u001b[34m[32]#011train-error:0.16#011validation-error:0.1919\u001b[0m\n",
      "\u001b[34m[04:22:45] src/tree/updater_prune.cc:74: tree pruning end, 1 roots, 34 extra nodes, 2 pruned nodes, max_depth=5\u001b[0m\n",
      "\u001b[34m[33]#011train-error:0.1574#011validation-error:0.1914\u001b[0m\n",
      "\u001b[34m[04:22:47] src/tree/updater_prune.cc:74: tree pruning end, 1 roots, 18 extra nodes, 10 pruned nodes, max_depth=5\u001b[0m\n",
      "\u001b[34m[34]#011train-error:0.155067#011validation-error:0.1901\u001b[0m\n",
      "\u001b[34m[04:22:48] src/tree/updater_prune.cc:74: tree pruning end, 1 roots, 16 extra nodes, 10 pruned nodes, max_depth=5\u001b[0m\n",
      "\u001b[34m[35]#011train-error:0.1534#011validation-error:0.1891\u001b[0m\n",
      "\u001b[34m[04:22:49] src/tree/updater_prune.cc:74: tree pruning end, 1 roots, 24 extra nodes, 4 pruned nodes, max_depth=5\u001b[0m\n",
      "\u001b[34m[36]#011train-error:0.152467#011validation-error:0.1887\u001b[0m\n",
      "\u001b[34m[04:22:50] src/tree/updater_prune.cc:74: tree pruning end, 1 roots, 34 extra nodes, 6 pruned nodes, max_depth=5\u001b[0m\n",
      "\u001b[34m[37]#011train-error:0.151067#011validation-error:0.1892\u001b[0m\n",
      "\u001b[34m[04:22:52] src/tree/updater_prune.cc:74: tree pruning end, 1 roots, 28 extra nodes, 8 pruned nodes, max_depth=5\u001b[0m\n",
      "\u001b[34m[38]#011train-error:0.150667#011validation-error:0.1888\u001b[0m\n",
      "\u001b[34m[04:22:53] src/tree/updater_prune.cc:74: tree pruning end, 1 roots, 14 extra nodes, 10 pruned nodes, max_depth=5\u001b[0m\n",
      "\u001b[34m[39]#011train-error:0.149467#011validation-error:0.1866\u001b[0m\n",
      "\u001b[34m[04:22:54] src/tree/updater_prune.cc:74: tree pruning end, 1 roots, 20 extra nodes, 14 pruned nodes, max_depth=5\u001b[0m\n",
      "\u001b[34m[40]#011train-error:0.149333#011validation-error:0.1851\u001b[0m\n",
      "\u001b[34m[04:22:56] src/tree/updater_prune.cc:74: tree pruning end, 1 roots, 10 extra nodes, 16 pruned nodes, max_depth=5\u001b[0m\n",
      "\u001b[34m[41]#011train-error:0.1482#011validation-error:0.1851\u001b[0m\n",
      "\u001b[34m[04:22:57] src/tree/updater_prune.cc:74: tree pruning end, 1 roots, 16 extra nodes, 14 pruned nodes, max_depth=5\u001b[0m\n",
      "\u001b[34m[42]#011train-error:0.1466#011validation-error:0.1846\u001b[0m\n",
      "\u001b[34m[04:22:58] src/tree/updater_prune.cc:74: tree pruning end, 1 roots, 38 extra nodes, 10 pruned nodes, max_depth=5\u001b[0m\n",
      "\u001b[34m[43]#011train-error:0.144533#011validation-error:0.1838\u001b[0m\n"
     ]
    },
    {
     "name": "stdout",
     "output_type": "stream",
     "text": [
      "\u001b[34m[04:22:59] src/tree/updater_prune.cc:74: tree pruning end, 1 roots, 22 extra nodes, 8 pruned nodes, max_depth=5\u001b[0m\n",
      "\u001b[34m[44]#011train-error:0.143467#011validation-error:0.1827\u001b[0m\n",
      "\u001b[34m[04:23:01] src/tree/updater_prune.cc:74: tree pruning end, 1 roots, 22 extra nodes, 4 pruned nodes, max_depth=5\u001b[0m\n",
      "\u001b[34m[45]#011train-error:0.141867#011validation-error:0.1828\u001b[0m\n",
      "\u001b[34m[04:23:02] src/tree/updater_prune.cc:74: tree pruning end, 1 roots, 22 extra nodes, 8 pruned nodes, max_depth=5\u001b[0m\n",
      "\u001b[34m[46]#011train-error:0.1394#011validation-error:0.1817\u001b[0m\n",
      "\u001b[34m[04:23:03] src/tree/updater_prune.cc:74: tree pruning end, 1 roots, 24 extra nodes, 14 pruned nodes, max_depth=5\u001b[0m\n",
      "\u001b[34m[47]#011train-error:0.1388#011validation-error:0.1802\u001b[0m\n",
      "\u001b[34m[04:23:05] src/tree/updater_prune.cc:74: tree pruning end, 1 roots, 28 extra nodes, 10 pruned nodes, max_depth=5\u001b[0m\n",
      "\u001b[34m[48]#011train-error:0.137933#011validation-error:0.1791\u001b[0m\n",
      "\u001b[34m[04:23:06] src/tree/updater_prune.cc:74: tree pruning end, 1 roots, 20 extra nodes, 16 pruned nodes, max_depth=5\u001b[0m\n",
      "\u001b[34m[49]#011train-error:0.137333#011validation-error:0.1803\u001b[0m\n",
      "\u001b[34m[04:23:07] src/tree/updater_prune.cc:74: tree pruning end, 1 roots, 10 extra nodes, 14 pruned nodes, max_depth=5\u001b[0m\n",
      "\u001b[34m[50]#011train-error:0.137#011validation-error:0.1796\u001b[0m\n",
      "\u001b[34m[04:23:08] src/tree/updater_prune.cc:74: tree pruning end, 1 roots, 22 extra nodes, 12 pruned nodes, max_depth=5\u001b[0m\n",
      "\u001b[34m[51]#011train-error:0.136667#011validation-error:0.1798\u001b[0m\n",
      "\u001b[34m[04:23:10] src/tree/updater_prune.cc:74: tree pruning end, 1 roots, 24 extra nodes, 8 pruned nodes, max_depth=5\u001b[0m\n",
      "\u001b[34m[52]#011train-error:0.135667#011validation-error:0.1794\u001b[0m\n",
      "\u001b[34m[04:23:11] src/tree/updater_prune.cc:74: tree pruning end, 1 roots, 18 extra nodes, 8 pruned nodes, max_depth=5\u001b[0m\n",
      "\u001b[34m[53]#011train-error:0.134933#011validation-error:0.1782\u001b[0m\n",
      "\u001b[34m[04:23:12] src/tree/updater_prune.cc:74: tree pruning end, 1 roots, 22 extra nodes, 6 pruned nodes, max_depth=5\u001b[0m\n",
      "\u001b[34m[54]#011train-error:0.135267#011validation-error:0.1774\u001b[0m\n",
      "\u001b[34m[04:23:14] src/tree/updater_prune.cc:74: tree pruning end, 1 roots, 32 extra nodes, 6 pruned nodes, max_depth=5\u001b[0m\n",
      "\u001b[34m[55]#011train-error:0.135267#011validation-error:0.1775\u001b[0m\n",
      "\u001b[34m[04:23:15] src/tree/updater_prune.cc:74: tree pruning end, 1 roots, 34 extra nodes, 8 pruned nodes, max_depth=5\u001b[0m\n",
      "\u001b[34m[56]#011train-error:0.133533#011validation-error:0.1757\u001b[0m\n",
      "\u001b[34m[04:23:16] src/tree/updater_prune.cc:74: tree pruning end, 1 roots, 26 extra nodes, 8 pruned nodes, max_depth=5\u001b[0m\n",
      "\u001b[34m[57]#011train-error:0.132#011validation-error:0.1738\u001b[0m\n",
      "\u001b[34m[04:23:17] src/tree/updater_prune.cc:74: tree pruning end, 1 roots, 18 extra nodes, 4 pruned nodes, max_depth=5\u001b[0m\n",
      "\u001b[34m[58]#011train-error:0.1314#011validation-error:0.1736\u001b[0m\n",
      "\u001b[34m[04:23:19] src/tree/updater_prune.cc:74: tree pruning end, 1 roots, 14 extra nodes, 14 pruned nodes, max_depth=5\u001b[0m\n",
      "\u001b[34m[59]#011train-error:0.130933#011validation-error:0.173\u001b[0m\n",
      "\u001b[34m[04:23:20] src/tree/updater_prune.cc:74: tree pruning end, 1 roots, 24 extra nodes, 10 pruned nodes, max_depth=5\u001b[0m\n",
      "\u001b[34m[60]#011train-error:0.129867#011validation-error:0.1737\u001b[0m\n",
      "\u001b[34m[04:23:21] src/tree/updater_prune.cc:74: tree pruning end, 1 roots, 32 extra nodes, 8 pruned nodes, max_depth=5\u001b[0m\n",
      "\u001b[34m[61]#011train-error:0.128733#011validation-error:0.1739\u001b[0m\n",
      "\u001b[34m[04:23:23] src/tree/updater_prune.cc:74: tree pruning end, 1 roots, 28 extra nodes, 8 pruned nodes, max_depth=5\u001b[0m\n",
      "\u001b[34m[62]#011train-error:0.1272#011validation-error:0.1727\u001b[0m\n",
      "\u001b[34m[04:23:24] src/tree/updater_prune.cc:74: tree pruning end, 1 roots, 26 extra nodes, 4 pruned nodes, max_depth=5\u001b[0m\n",
      "\u001b[34m[63]#011train-error:0.126667#011validation-error:0.1722\u001b[0m\n",
      "\u001b[34m[04:23:25] src/tree/updater_prune.cc:74: tree pruning end, 1 roots, 18 extra nodes, 8 pruned nodes, max_depth=5\u001b[0m\n",
      "\u001b[34m[64]#011train-error:0.125533#011validation-error:0.1705\u001b[0m\n",
      "\u001b[34m[04:23:26] src/tree/updater_prune.cc:74: tree pruning end, 1 roots, 18 extra nodes, 20 pruned nodes, max_depth=5\u001b[0m\n",
      "\u001b[34m[65]#011train-error:0.123933#011validation-error:0.1693\u001b[0m\n",
      "\u001b[34m[04:23:28] src/tree/updater_prune.cc:74: tree pruning end, 1 roots, 26 extra nodes, 14 pruned nodes, max_depth=5\u001b[0m\n",
      "\u001b[34m[66]#011train-error:0.123867#011validation-error:0.1689\u001b[0m\n",
      "\u001b[34m[04:23:29] src/tree/updater_prune.cc:74: tree pruning end, 1 roots, 30 extra nodes, 6 pruned nodes, max_depth=5\u001b[0m\n",
      "\u001b[34m[67]#011train-error:0.122467#011validation-error:0.1684\u001b[0m\n",
      "\u001b[34m[04:23:30] src/tree/updater_prune.cc:74: tree pruning end, 1 roots, 24 extra nodes, 2 pruned nodes, max_depth=5\u001b[0m\n",
      "\u001b[34m[68]#011train-error:0.121867#011validation-error:0.1667\u001b[0m\n",
      "\u001b[34m[04:23:32] src/tree/updater_prune.cc:74: tree pruning end, 1 roots, 28 extra nodes, 6 pruned nodes, max_depth=5\u001b[0m\n",
      "\u001b[34m[69]#011train-error:0.119467#011validation-error:0.166\u001b[0m\n",
      "\u001b[34m[04:23:33] src/tree/updater_prune.cc:74: tree pruning end, 1 roots, 22 extra nodes, 12 pruned nodes, max_depth=5\u001b[0m\n",
      "\u001b[34m[70]#011train-error:0.1188#011validation-error:0.1649\u001b[0m\n",
      "\u001b[34m[04:23:34] src/tree/updater_prune.cc:74: tree pruning end, 1 roots, 26 extra nodes, 8 pruned nodes, max_depth=5\u001b[0m\n",
      "\u001b[34m[71]#011train-error:0.117733#011validation-error:0.1651\u001b[0m\n",
      "\u001b[34m[04:23:35] src/tree/updater_prune.cc:74: tree pruning end, 1 roots, 20 extra nodes, 12 pruned nodes, max_depth=5\u001b[0m\n",
      "\u001b[34m[72]#011train-error:0.116867#011validation-error:0.1636\u001b[0m\n",
      "\u001b[34m[04:23:37] src/tree/updater_prune.cc:74: tree pruning end, 1 roots, 22 extra nodes, 4 pruned nodes, max_depth=5\u001b[0m\n",
      "\u001b[34m[73]#011train-error:0.117133#011validation-error:0.1642\u001b[0m\n",
      "\u001b[34m[04:23:38] src/tree/updater_prune.cc:74: tree pruning end, 1 roots, 22 extra nodes, 8 pruned nodes, max_depth=5\u001b[0m\n",
      "\u001b[34m[74]#011train-error:0.115267#011validation-error:0.1637\u001b[0m\n",
      "\u001b[34m[04:23:39] src/tree/updater_prune.cc:74: tree pruning end, 1 roots, 10 extra nodes, 2 pruned nodes, max_depth=5\u001b[0m\n",
      "\u001b[34m[75]#011train-error:0.114933#011validation-error:0.1641\u001b[0m\n",
      "\u001b[34m[04:23:40] src/tree/updater_prune.cc:74: tree pruning end, 1 roots, 28 extra nodes, 0 pruned nodes, max_depth=5\u001b[0m\n",
      "\u001b[34m[76]#011train-error:0.1144#011validation-error:0.1627\u001b[0m\n",
      "\u001b[34m[04:23:42] src/tree/updater_prune.cc:74: tree pruning end, 1 roots, 10 extra nodes, 16 pruned nodes, max_depth=5\u001b[0m\n",
      "\u001b[34m[77]#011train-error:0.114467#011validation-error:0.1619\u001b[0m\n",
      "\u001b[34m[04:23:43] src/tree/updater_prune.cc:74: tree pruning end, 1 roots, 16 extra nodes, 4 pruned nodes, max_depth=5\u001b[0m\n",
      "\u001b[34m[78]#011train-error:0.1142#011validation-error:0.1606\u001b[0m\n",
      "\u001b[34m[04:23:44] src/tree/updater_prune.cc:74: tree pruning end, 1 roots, 18 extra nodes, 10 pruned nodes, max_depth=5\u001b[0m\n",
      "\u001b[34m[79]#011train-error:0.114267#011validation-error:0.1607\u001b[0m\n",
      "\u001b[34m[04:23:46] src/tree/updater_prune.cc:74: tree pruning end, 1 roots, 10 extra nodes, 16 pruned nodes, max_depth=5\u001b[0m\n",
      "\u001b[34m[80]#011train-error:0.114533#011validation-error:0.1614\u001b[0m\n",
      "\u001b[34m[04:23:47] src/tree/updater_prune.cc:74: tree pruning end, 1 roots, 28 extra nodes, 10 pruned nodes, max_depth=5\u001b[0m\n",
      "\u001b[34m[81]#011train-error:0.1134#011validation-error:0.161\u001b[0m\n",
      "\u001b[34m[04:23:48] src/tree/updater_prune.cc:74: tree pruning end, 1 roots, 18 extra nodes, 12 pruned nodes, max_depth=5\u001b[0m\n",
      "\u001b[34m[82]#011train-error:0.112733#011validation-error:0.16\u001b[0m\n",
      "\u001b[34m[04:23:49] src/tree/updater_prune.cc:74: tree pruning end, 1 roots, 14 extra nodes, 12 pruned nodes, max_depth=5\u001b[0m\n",
      "\u001b[34m[83]#011train-error:0.112467#011validation-error:0.1595\u001b[0m\n",
      "\u001b[34m[04:23:51] src/tree/updater_prune.cc:74: tree pruning end, 1 roots, 12 extra nodes, 6 pruned nodes, max_depth=5\u001b[0m\n",
      "\u001b[34m[84]#011train-error:0.1122#011validation-error:0.159\u001b[0m\n",
      "\u001b[34m[04:23:52] src/tree/updater_prune.cc:74: tree pruning end, 1 roots, 14 extra nodes, 12 pruned nodes, max_depth=5\u001b[0m\n",
      "\u001b[34m[85]#011train-error:0.111267#011validation-error:0.1597\u001b[0m\n",
      "\u001b[34m[04:23:53] src/tree/updater_prune.cc:74: tree pruning end, 1 roots, 16 extra nodes, 10 pruned nodes, max_depth=5\u001b[0m\n",
      "\u001b[34m[86]#011train-error:0.1106#011validation-error:0.1584\u001b[0m\n",
      "\u001b[34m[04:23:55] src/tree/updater_prune.cc:74: tree pruning end, 1 roots, 22 extra nodes, 8 pruned nodes, max_depth=5\u001b[0m\n",
      "\u001b[34m[87]#011train-error:0.109133#011validation-error:0.1569\u001b[0m\n",
      "\u001b[34m[04:23:56] src/tree/updater_prune.cc:74: tree pruning end, 1 roots, 16 extra nodes, 12 pruned nodes, max_depth=5\u001b[0m\n",
      "\u001b[34m[88]#011train-error:0.1088#011validation-error:0.1561\u001b[0m\n",
      "\u001b[34m[04:23:57] src/tree/updater_prune.cc:74: tree pruning end, 1 roots, 26 extra nodes, 10 pruned nodes, max_depth=5\u001b[0m\n",
      "\u001b[34m[89]#011train-error:0.108467#011validation-error:0.1574\u001b[0m\n",
      "\u001b[34m[04:23:58] src/tree/updater_prune.cc:74: tree pruning end, 1 roots, 16 extra nodes, 10 pruned nodes, max_depth=5\u001b[0m\n",
      "\u001b[34m[90]#011train-error:0.107733#011validation-error:0.1573\u001b[0m\n",
      "\u001b[34m[04:24:00] src/tree/updater_prune.cc:74: tree pruning end, 1 roots, 24 extra nodes, 10 pruned nodes, max_depth=5\u001b[0m\n",
      "\u001b[34m[91]#011train-error:0.106467#011validation-error:0.1569\u001b[0m\n"
     ]
    },
    {
     "name": "stdout",
     "output_type": "stream",
     "text": [
      "\u001b[34m[04:24:01] src/tree/updater_prune.cc:74: tree pruning end, 1 roots, 40 extra nodes, 12 pruned nodes, max_depth=5\u001b[0m\n",
      "\u001b[34m[92]#011train-error:0.106533#011validation-error:0.1574\u001b[0m\n",
      "\u001b[34m[04:24:02] src/tree/updater_prune.cc:74: tree pruning end, 1 roots, 20 extra nodes, 12 pruned nodes, max_depth=5\u001b[0m\n",
      "\u001b[34m[93]#011train-error:0.105533#011validation-error:0.1561\u001b[0m\n",
      "\u001b[34m[04:24:04] src/tree/updater_prune.cc:74: tree pruning end, 1 roots, 14 extra nodes, 6 pruned nodes, max_depth=5\u001b[0m\n",
      "\u001b[34m[94]#011train-error:0.104867#011validation-error:0.1559\u001b[0m\n",
      "\u001b[34m[04:24:05] src/tree/updater_prune.cc:74: tree pruning end, 1 roots, 18 extra nodes, 2 pruned nodes, max_depth=5\u001b[0m\n",
      "\u001b[34m[95]#011train-error:0.104133#011validation-error:0.1557\u001b[0m\n",
      "\u001b[34m[04:24:06] src/tree/updater_prune.cc:74: tree pruning end, 1 roots, 12 extra nodes, 8 pruned nodes, max_depth=5\u001b[0m\n",
      "\u001b[34m[96]#011train-error:0.103667#011validation-error:0.1549\u001b[0m\n",
      "\u001b[34m[04:24:07] src/tree/updater_prune.cc:74: tree pruning end, 1 roots, 28 extra nodes, 8 pruned nodes, max_depth=5\u001b[0m\n",
      "\u001b[34m[97]#011train-error:0.103#011validation-error:0.1548\u001b[0m\n",
      "\u001b[34m[04:24:09] src/tree/updater_prune.cc:74: tree pruning end, 1 roots, 22 extra nodes, 4 pruned nodes, max_depth=5\u001b[0m\n",
      "\u001b[34m[98]#011train-error:0.102467#011validation-error:0.1536\u001b[0m\n",
      "\u001b[34m[04:24:10] src/tree/updater_prune.cc:74: tree pruning end, 1 roots, 14 extra nodes, 6 pruned nodes, max_depth=5\u001b[0m\n",
      "\u001b[34m[99]#011train-error:0.1018#011validation-error:0.1537\u001b[0m\n",
      "\u001b[34m[04:24:11] src/tree/updater_prune.cc:74: tree pruning end, 1 roots, 10 extra nodes, 6 pruned nodes, max_depth=5\u001b[0m\n",
      "\u001b[34m[100]#011train-error:0.101533#011validation-error:0.1533\u001b[0m\n",
      "\u001b[34m[04:24:12] src/tree/updater_prune.cc:74: tree pruning end, 1 roots, 10 extra nodes, 12 pruned nodes, max_depth=5\u001b[0m\n",
      "\u001b[34m[101]#011train-error:0.100867#011validation-error:0.1531\u001b[0m\n",
      "\u001b[34m[04:24:14] src/tree/updater_prune.cc:74: tree pruning end, 1 roots, 32 extra nodes, 6 pruned nodes, max_depth=5\u001b[0m\n",
      "\u001b[34m[102]#011train-error:0.100467#011validation-error:0.1532\u001b[0m\n",
      "\u001b[34m[04:24:15] src/tree/updater_prune.cc:74: tree pruning end, 1 roots, 26 extra nodes, 14 pruned nodes, max_depth=5\u001b[0m\n",
      "\u001b[34m[103]#011train-error:0.100667#011validation-error:0.1529\u001b[0m\n",
      "\u001b[34m[04:24:16] src/tree/updater_prune.cc:74: tree pruning end, 1 roots, 10 extra nodes, 2 pruned nodes, max_depth=5\u001b[0m\n",
      "\u001b[34m[104]#011train-error:0.100267#011validation-error:0.1522\u001b[0m\n",
      "\u001b[34m[04:24:18] src/tree/updater_prune.cc:74: tree pruning end, 1 roots, 20 extra nodes, 10 pruned nodes, max_depth=5\u001b[0m\n",
      "\u001b[34m[105]#011train-error:0.099733#011validation-error:0.1519\u001b[0m\n",
      "\u001b[34m[04:24:19] src/tree/updater_prune.cc:74: tree pruning end, 1 roots, 28 extra nodes, 8 pruned nodes, max_depth=5\u001b[0m\n",
      "\u001b[34m[106]#011train-error:0.098533#011validation-error:0.1525\u001b[0m\n",
      "\u001b[34m[04:24:20] src/tree/updater_prune.cc:74: tree pruning end, 1 roots, 18 extra nodes, 4 pruned nodes, max_depth=5\u001b[0m\n",
      "\u001b[34m[107]#011train-error:0.098#011validation-error:0.1521\u001b[0m\n",
      "\u001b[34m[04:24:21] src/tree/updater_prune.cc:74: tree pruning end, 1 roots, 18 extra nodes, 4 pruned nodes, max_depth=5\u001b[0m\n",
      "\u001b[34m[108]#011train-error:0.097867#011validation-error:0.1517\u001b[0m\n",
      "\u001b[34m[04:24:23] src/tree/updater_prune.cc:74: tree pruning end, 1 roots, 24 extra nodes, 12 pruned nodes, max_depth=5\u001b[0m\n",
      "\u001b[34m[109]#011train-error:0.0976#011validation-error:0.151\u001b[0m\n",
      "\u001b[34m[04:24:24] src/tree/updater_prune.cc:74: tree pruning end, 1 roots, 16 extra nodes, 16 pruned nodes, max_depth=5\u001b[0m\n",
      "\u001b[34m[110]#011train-error:0.097467#011validation-error:0.1506\u001b[0m\n",
      "\u001b[34m[04:24:25] src/tree/updater_prune.cc:74: tree pruning end, 1 roots, 16 extra nodes, 12 pruned nodes, max_depth=5\u001b[0m\n",
      "\u001b[34m[111]#011train-error:0.096333#011validation-error:0.1507\u001b[0m\n",
      "\u001b[34m[04:24:27] src/tree/updater_prune.cc:74: tree pruning end, 1 roots, 18 extra nodes, 12 pruned nodes, max_depth=5\u001b[0m\n",
      "\u001b[34m[112]#011train-error:0.096467#011validation-error:0.1502\u001b[0m\n",
      "\u001b[34m[04:24:28] src/tree/updater_prune.cc:74: tree pruning end, 1 roots, 18 extra nodes, 8 pruned nodes, max_depth=5\u001b[0m\n",
      "\u001b[34m[113]#011train-error:0.096067#011validation-error:0.1508\u001b[0m\n",
      "\u001b[34m[04:24:29] src/tree/updater_prune.cc:74: tree pruning end, 1 roots, 18 extra nodes, 8 pruned nodes, max_depth=5\u001b[0m\n",
      "\u001b[34m[114]#011train-error:0.095467#011validation-error:0.1505\u001b[0m\n",
      "\u001b[34m[04:24:30] src/tree/updater_prune.cc:74: tree pruning end, 1 roots, 10 extra nodes, 8 pruned nodes, max_depth=5\u001b[0m\n",
      "\u001b[34m[115]#011train-error:0.0952#011validation-error:0.1501\u001b[0m\n",
      "\u001b[34m[04:24:32] src/tree/updater_prune.cc:74: tree pruning end, 1 roots, 10 extra nodes, 8 pruned nodes, max_depth=5\u001b[0m\n",
      "\u001b[34m[116]#011train-error:0.094867#011validation-error:0.1501\u001b[0m\n",
      "\u001b[34m[04:24:33] src/tree/updater_prune.cc:74: tree pruning end, 1 roots, 16 extra nodes, 6 pruned nodes, max_depth=5\u001b[0m\n",
      "\u001b[34m[117]#011train-error:0.094333#011validation-error:0.1507\u001b[0m\n",
      "\u001b[34m[04:24:34] src/tree/updater_prune.cc:74: tree pruning end, 1 roots, 36 extra nodes, 12 pruned nodes, max_depth=5\u001b[0m\n",
      "\u001b[34m[118]#011train-error:0.0936#011validation-error:0.1513\u001b[0m\n",
      "\u001b[34m[04:24:36] src/tree/updater_prune.cc:74: tree pruning end, 1 roots, 14 extra nodes, 8 pruned nodes, max_depth=5\u001b[0m\n",
      "\u001b[34m[119]#011train-error:0.093#011validation-error:0.1509\u001b[0m\n",
      "\u001b[34m[04:24:37] src/tree/updater_prune.cc:74: tree pruning end, 1 roots, 10 extra nodes, 6 pruned nodes, max_depth=5\u001b[0m\n",
      "\u001b[34m[120]#011train-error:0.092467#011validation-error:0.1503\u001b[0m\n",
      "\u001b[34m[04:24:38] src/tree/updater_prune.cc:74: tree pruning end, 1 roots, 24 extra nodes, 6 pruned nodes, max_depth=5\u001b[0m\n",
      "\u001b[34m[121]#011train-error:0.091933#011validation-error:0.1501\u001b[0m\n",
      "\u001b[34m[04:24:39] src/tree/updater_prune.cc:74: tree pruning end, 1 roots, 20 extra nodes, 6 pruned nodes, max_depth=5\u001b[0m\n",
      "\u001b[34m[122]#011train-error:0.0916#011validation-error:0.1501\u001b[0m\n",
      "\u001b[34m[04:24:41] src/tree/updater_prune.cc:74: tree pruning end, 1 roots, 24 extra nodes, 8 pruned nodes, max_depth=5\u001b[0m\n",
      "\u001b[34m[123]#011train-error:0.091133#011validation-error:0.149\u001b[0m\n",
      "\u001b[34m[04:24:42] src/tree/updater_prune.cc:74: tree pruning end, 1 roots, 28 extra nodes, 4 pruned nodes, max_depth=5\u001b[0m\n",
      "\u001b[34m[124]#011train-error:0.090533#011validation-error:0.1493\u001b[0m\n",
      "\u001b[34m[04:24:43] src/tree/updater_prune.cc:74: tree pruning end, 1 roots, 12 extra nodes, 20 pruned nodes, max_depth=5\u001b[0m\n",
      "\u001b[34m[125]#011train-error:0.091067#011validation-error:0.1494\u001b[0m\n",
      "\u001b[34m[04:24:45] src/tree/updater_prune.cc:74: tree pruning end, 1 roots, 20 extra nodes, 6 pruned nodes, max_depth=5\u001b[0m\n",
      "\u001b[34m[126]#011train-error:0.0904#011validation-error:0.1493\u001b[0m\n",
      "\u001b[34m[04:24:46] src/tree/updater_prune.cc:74: tree pruning end, 1 roots, 14 extra nodes, 4 pruned nodes, max_depth=5\u001b[0m\n",
      "\u001b[34m[127]#011train-error:0.090133#011validation-error:0.1496\u001b[0m\n",
      "\u001b[34m[04:24:47] src/tree/updater_prune.cc:74: tree pruning end, 1 roots, 10 extra nodes, 4 pruned nodes, max_depth=5\u001b[0m\n",
      "\u001b[34m[128]#011train-error:0.089867#011validation-error:0.1498\u001b[0m\n",
      "\u001b[34m[04:24:48] src/tree/updater_prune.cc:74: tree pruning end, 1 roots, 30 extra nodes, 4 pruned nodes, max_depth=5\u001b[0m\n",
      "\u001b[34m[129]#011train-error:0.0904#011validation-error:0.1495\u001b[0m\n",
      "\u001b[34m[04:24:50] src/tree/updater_prune.cc:74: tree pruning end, 1 roots, 22 extra nodes, 6 pruned nodes, max_depth=5\u001b[0m\n",
      "\u001b[34m[130]#011train-error:0.089933#011validation-error:0.1487\u001b[0m\n",
      "\u001b[34m[04:24:51] src/tree/updater_prune.cc:74: tree pruning end, 1 roots, 10 extra nodes, 6 pruned nodes, max_depth=5\u001b[0m\n",
      "\u001b[34m[131]#011train-error:0.089667#011validation-error:0.1483\u001b[0m\n",
      "\u001b[34m[04:24:52] src/tree/updater_prune.cc:74: tree pruning end, 1 roots, 14 extra nodes, 12 pruned nodes, max_depth=5\u001b[0m\n",
      "\u001b[34m[132]#011train-error:0.0888#011validation-error:0.1473\u001b[0m\n",
      "\u001b[34m[04:24:53] src/tree/updater_prune.cc:74: tree pruning end, 1 roots, 10 extra nodes, 2 pruned nodes, max_depth=5\u001b[0m\n",
      "\u001b[34m[133]#011train-error:0.088933#011validation-error:0.147\u001b[0m\n",
      "\u001b[34m[04:24:55] src/tree/updater_prune.cc:74: tree pruning end, 1 roots, 14 extra nodes, 2 pruned nodes, max_depth=5\u001b[0m\n",
      "\u001b[34m[134]#011train-error:0.0888#011validation-error:0.147\u001b[0m\n",
      "\u001b[34m[04:24:56] src/tree/updater_prune.cc:74: tree pruning end, 1 roots, 14 extra nodes, 16 pruned nodes, max_depth=5\u001b[0m\n",
      "\u001b[34m[135]#011train-error:0.0884#011validation-error:0.147\u001b[0m\n"
     ]
    },
    {
     "name": "stdout",
     "output_type": "stream",
     "text": [
      "\u001b[34m[04:24:57] src/tree/updater_prune.cc:74: tree pruning end, 1 roots, 10 extra nodes, 4 pruned nodes, max_depth=5\u001b[0m\n",
      "\u001b[34m[136]#011train-error:0.088267#011validation-error:0.1461\u001b[0m\n",
      "\u001b[34m[04:24:59] src/tree/updater_prune.cc:74: tree pruning end, 1 roots, 14 extra nodes, 10 pruned nodes, max_depth=5\u001b[0m\n",
      "\u001b[34m[137]#011train-error:0.087667#011validation-error:0.1458\u001b[0m\n",
      "\u001b[34m[04:25:00] src/tree/updater_prune.cc:74: tree pruning end, 1 roots, 16 extra nodes, 0 pruned nodes, max_depth=5\u001b[0m\n",
      "\u001b[34m[138]#011train-error:0.087667#011validation-error:0.1465\u001b[0m\n",
      "\u001b[34m[04:25:01] src/tree/updater_prune.cc:74: tree pruning end, 1 roots, 20 extra nodes, 20 pruned nodes, max_depth=5\u001b[0m\n",
      "\u001b[34m[139]#011train-error:0.087#011validation-error:0.1461\u001b[0m\n",
      "\u001b[34m[04:25:02] src/tree/updater_prune.cc:74: tree pruning end, 1 roots, 36 extra nodes, 12 pruned nodes, max_depth=5\u001b[0m\n",
      "\u001b[34m[140]#011train-error:0.086333#011validation-error:0.1454\u001b[0m\n",
      "\u001b[34m[04:25:04] src/tree/updater_prune.cc:74: tree pruning end, 1 roots, 10 extra nodes, 4 pruned nodes, max_depth=5\u001b[0m\n",
      "\u001b[34m[141]#011train-error:0.0858#011validation-error:0.1452\u001b[0m\n",
      "\u001b[34m[04:25:05] src/tree/updater_prune.cc:74: tree pruning end, 1 roots, 18 extra nodes, 6 pruned nodes, max_depth=5\u001b[0m\n",
      "\u001b[34m[142]#011train-error:0.085333#011validation-error:0.1446\u001b[0m\n",
      "\u001b[34m[04:25:06] src/tree/updater_prune.cc:74: tree pruning end, 1 roots, 10 extra nodes, 6 pruned nodes, max_depth=5\u001b[0m\n",
      "\u001b[34m[143]#011train-error:0.085067#011validation-error:0.1444\u001b[0m\n",
      "\u001b[34m[04:25:08] src/tree/updater_prune.cc:74: tree pruning end, 1 roots, 18 extra nodes, 6 pruned nodes, max_depth=5\u001b[0m\n",
      "\u001b[34m[144]#011train-error:0.084067#011validation-error:0.1448\u001b[0m\n",
      "\u001b[34m[04:25:09] src/tree/updater_prune.cc:74: tree pruning end, 1 roots, 10 extra nodes, 2 pruned nodes, max_depth=5\u001b[0m\n",
      "\u001b[34m[145]#011train-error:0.084467#011validation-error:0.1444\u001b[0m\n",
      "\u001b[34m[04:25:10] src/tree/updater_prune.cc:74: tree pruning end, 1 roots, 12 extra nodes, 16 pruned nodes, max_depth=5\u001b[0m\n",
      "\u001b[34m[146]#011train-error:0.084533#011validation-error:0.1439\u001b[0m\n",
      "\u001b[34m[04:25:11] src/tree/updater_prune.cc:74: tree pruning end, 1 roots, 12 extra nodes, 6 pruned nodes, max_depth=5\u001b[0m\n",
      "\u001b[34m[147]#011train-error:0.084267#011validation-error:0.1436\u001b[0m\n",
      "\u001b[34m[04:25:13] src/tree/updater_prune.cc:74: tree pruning end, 1 roots, 12 extra nodes, 4 pruned nodes, max_depth=5\u001b[0m\n",
      "\u001b[34m[148]#011train-error:0.0842#011validation-error:0.1439\u001b[0m\n",
      "\u001b[34m[04:25:14] src/tree/updater_prune.cc:74: tree pruning end, 1 roots, 10 extra nodes, 0 pruned nodes, max_depth=5\u001b[0m\n",
      "\u001b[34m[149]#011train-error:0.0838#011validation-error:0.1434\u001b[0m\n",
      "\u001b[34m[04:25:15] src/tree/updater_prune.cc:74: tree pruning end, 1 roots, 16 extra nodes, 10 pruned nodes, max_depth=5\u001b[0m\n",
      "\u001b[34m[150]#011train-error:0.083467#011validation-error:0.1428\u001b[0m\n",
      "\u001b[34m[04:25:17] src/tree/updater_prune.cc:74: tree pruning end, 1 roots, 28 extra nodes, 12 pruned nodes, max_depth=5\u001b[0m\n",
      "\u001b[34m[151]#011train-error:0.082933#011validation-error:0.1429\u001b[0m\n",
      "\u001b[34m[04:25:18] src/tree/updater_prune.cc:74: tree pruning end, 1 roots, 28 extra nodes, 8 pruned nodes, max_depth=5\u001b[0m\n",
      "\u001b[34m[152]#011train-error:0.0834#011validation-error:0.1436\u001b[0m\n",
      "\u001b[34m[04:25:19] src/tree/updater_prune.cc:74: tree pruning end, 1 roots, 12 extra nodes, 6 pruned nodes, max_depth=5\u001b[0m\n",
      "\u001b[34m[153]#011train-error:0.083533#011validation-error:0.1434\u001b[0m\n",
      "\u001b[34m[04:25:20] src/tree/updater_prune.cc:74: tree pruning end, 1 roots, 12 extra nodes, 0 pruned nodes, max_depth=5\u001b[0m\n",
      "\u001b[34m[154]#011train-error:0.083467#011validation-error:0.1432\u001b[0m\n",
      "\u001b[34m[04:25:22] src/tree/updater_prune.cc:74: tree pruning end, 1 roots, 24 extra nodes, 10 pruned nodes, max_depth=5\u001b[0m\n",
      "\u001b[34m[155]#011train-error:0.083667#011validation-error:0.1433\u001b[0m\n",
      "\u001b[34m[04:25:23] src/tree/updater_prune.cc:74: tree pruning end, 1 roots, 20 extra nodes, 10 pruned nodes, max_depth=5\u001b[0m\n",
      "\u001b[34m[156]#011train-error:0.083133#011validation-error:0.1428\u001b[0m\n",
      "\u001b[34m[04:25:24] src/tree/updater_prune.cc:74: tree pruning end, 1 roots, 14 extra nodes, 6 pruned nodes, max_depth=5\u001b[0m\n",
      "\u001b[34m[157]#011train-error:0.0828#011validation-error:0.1423\u001b[0m\n",
      "\u001b[34m[04:25:26] src/tree/updater_prune.cc:74: tree pruning end, 1 roots, 12 extra nodes, 10 pruned nodes, max_depth=5\u001b[0m\n",
      "\u001b[34m[158]#011train-error:0.082867#011validation-error:0.1422\u001b[0m\n",
      "\u001b[34m[04:25:27] src/tree/updater_prune.cc:74: tree pruning end, 1 roots, 14 extra nodes, 8 pruned nodes, max_depth=5\u001b[0m\n",
      "\u001b[34m[159]#011train-error:0.082133#011validation-error:0.1413\u001b[0m\n",
      "\u001b[34m[04:25:28] src/tree/updater_prune.cc:74: tree pruning end, 1 roots, 12 extra nodes, 8 pruned nodes, max_depth=5\u001b[0m\n",
      "\u001b[34m[160]#011train-error:0.0818#011validation-error:0.142\u001b[0m\n",
      "\u001b[34m[04:25:29] src/tree/updater_prune.cc:74: tree pruning end, 1 roots, 18 extra nodes, 10 pruned nodes, max_depth=5\u001b[0m\n",
      "\u001b[34m[161]#011train-error:0.082#011validation-error:0.1425\u001b[0m\n",
      "\u001b[34m[04:25:31] src/tree/updater_prune.cc:74: tree pruning end, 1 roots, 14 extra nodes, 12 pruned nodes, max_depth=5\u001b[0m\n",
      "\u001b[34m[162]#011train-error:0.0814#011validation-error:0.1424\u001b[0m\n",
      "\u001b[34m[04:25:32] src/tree/updater_prune.cc:74: tree pruning end, 1 roots, 12 extra nodes, 8 pruned nodes, max_depth=5\u001b[0m\n",
      "\u001b[34m[163]#011train-error:0.081067#011validation-error:0.1423\u001b[0m\n",
      "\u001b[34m[04:25:33] src/tree/updater_prune.cc:74: tree pruning end, 1 roots, 24 extra nodes, 14 pruned nodes, max_depth=5\u001b[0m\n",
      "\u001b[34m[164]#011train-error:0.0802#011validation-error:0.1409\u001b[0m\n",
      "\u001b[34m[04:25:35] src/tree/updater_prune.cc:74: tree pruning end, 1 roots, 10 extra nodes, 4 pruned nodes, max_depth=5\u001b[0m\n",
      "\u001b[34m[165]#011train-error:0.0804#011validation-error:0.1405\u001b[0m\n",
      "\u001b[34m[04:25:36] src/tree/updater_prune.cc:74: tree pruning end, 1 roots, 10 extra nodes, 6 pruned nodes, max_depth=5\u001b[0m\n",
      "\u001b[34m[166]#011train-error:0.079867#011validation-error:0.1403\u001b[0m\n",
      "\u001b[34m[04:25:37] src/tree/updater_prune.cc:74: tree pruning end, 1 roots, 18 extra nodes, 12 pruned nodes, max_depth=5\u001b[0m\n",
      "\u001b[34m[167]#011train-error:0.08#011validation-error:0.1413\u001b[0m\n",
      "\u001b[34m[04:25:38] src/tree/updater_prune.cc:74: tree pruning end, 1 roots, 10 extra nodes, 0 pruned nodes, max_depth=5\u001b[0m\n",
      "\u001b[34m[168]#011train-error:0.079867#011validation-error:0.1408\u001b[0m\n",
      "\u001b[34m[04:25:40] src/tree/updater_prune.cc:74: tree pruning end, 1 roots, 20 extra nodes, 10 pruned nodes, max_depth=5\u001b[0m\n",
      "\u001b[34m[169]#011train-error:0.080067#011validation-error:0.1407\u001b[0m\n",
      "\u001b[34m[04:25:41] src/tree/updater_prune.cc:74: tree pruning end, 1 roots, 18 extra nodes, 12 pruned nodes, max_depth=5\u001b[0m\n",
      "\u001b[34m[170]#011train-error:0.079533#011validation-error:0.1412\u001b[0m\n",
      "\u001b[34m[04:25:42] src/tree/updater_prune.cc:74: tree pruning end, 1 roots, 10 extra nodes, 8 pruned nodes, max_depth=5\u001b[0m\n",
      "\u001b[34m[171]#011train-error:0.078867#011validation-error:0.1409\u001b[0m\n",
      "\u001b[34m[04:25:43] src/tree/updater_prune.cc:74: tree pruning end, 1 roots, 14 extra nodes, 8 pruned nodes, max_depth=5\u001b[0m\n",
      "\u001b[34m[172]#011train-error:0.079267#011validation-error:0.1404\u001b[0m\n",
      "\u001b[34m[04:25:45] src/tree/updater_prune.cc:74: tree pruning end, 1 roots, 12 extra nodes, 8 pruned nodes, max_depth=5\u001b[0m\n",
      "\u001b[34m[173]#011train-error:0.0792#011validation-error:0.1408\u001b[0m\n",
      "\u001b[34m[04:25:46] src/tree/updater_prune.cc:74: tree pruning end, 1 roots, 18 extra nodes, 10 pruned nodes, max_depth=5\u001b[0m\n",
      "\u001b[34m[174]#011train-error:0.078267#011validation-error:0.141\u001b[0m\n",
      "\u001b[34m[04:25:47] src/tree/updater_prune.cc:74: tree pruning end, 1 roots, 16 extra nodes, 12 pruned nodes, max_depth=5\u001b[0m\n",
      "\u001b[34m[175]#011train-error:0.078267#011validation-error:0.1409\u001b[0m\n",
      "\n",
      "2020-11-28 04:25:56 Uploading - Uploading generated training model\n",
      "2020-11-28 04:25:56 Completed - Training job completed\n",
      "\u001b[34m[04:25:49] src/tree/updater_prune.cc:74: tree pruning end, 1 roots, 16 extra nodes, 8 pruned nodes, max_depth=5\u001b[0m\n",
      "\u001b[34m[176]#011train-error:0.0776#011validation-error:0.1408\u001b[0m\n",
      "\u001b[34mStopping. Best iteration:\u001b[0m\n",
      "\u001b[34m[166]#011train-error:0.079867#011validation-error:0.1403\n",
      "\u001b[0m\n",
      "Training seconds: 298\n",
      "Billable seconds: 298\n"
     ]
    }
   ],
   "source": [
    "xgb.fit({'train': s3_input_train, 'validation': s3_input_validation})"
   ]
  },
  {
   "cell_type": "markdown",
   "metadata": {},
   "source": [
    "## Step 5: Testing the model\n",
    "\n",
    "Now that we've fit our XGBoost model, it's time to see how well it performs. To do this we will use SageMakers Batch Transform functionality. Batch Transform is a convenient way to perform inference on a large dataset in a way that is not realtime. That is, we don't necessarily need to use our model's results immediately and instead we can perform inference on a large number of samples. An example of this in industry might be performing an end of month report. This method of inference can also be useful to us as it means that we can perform inference on our entire test set. \n",
    "\n",
    "To perform a Batch Transformation we need to first create a transformer objects from our trained estimator object."
   ]
  },
  {
   "cell_type": "code",
   "execution_count": 24,
   "metadata": {},
   "outputs": [
    {
     "name": "stderr",
     "output_type": "stream",
     "text": [
      "Parameter image will be renamed to image_uri in SageMaker Python SDK v2.\n"
     ]
    }
   ],
   "source": [
    "xgb_transformer = xgb.transformer(instance_count = 1, instance_type = 'ml.m4.xlarge')"
   ]
  },
  {
   "cell_type": "markdown",
   "metadata": {},
   "source": [
    "Next we actually perform the transform job. When doing so we need to make sure to specify the type of data we are sending so that it is serialized correctly in the background. In our case we are providing our model with csv data so we specify `text/csv`. Also, if the test data that we have provided is too large to process all at once then we need to specify how the data file should be split up. Since each line is a single entry in our data set we tell SageMaker that it can split the input on each line."
   ]
  },
  {
   "cell_type": "code",
   "execution_count": 25,
   "metadata": {},
   "outputs": [],
   "source": [
    "xgb_transformer.transform(test_location, content_type='text/csv', split_type='Line')"
   ]
  },
  {
   "cell_type": "markdown",
   "metadata": {},
   "source": [
    "Currently the transform job is running but it is doing so in the background. Since we wish to wait until the transform job is done and we would like a bit of feedback we can run the `wait()` method."
   ]
  },
  {
   "cell_type": "code",
   "execution_count": 26,
   "metadata": {},
   "outputs": [
    {
     "name": "stdout",
     "output_type": "stream",
     "text": [
      "...............................\u001b[34mArguments: serve\u001b[0m\n",
      "\u001b[35mArguments: serve\u001b[0m\n",
      "\u001b[34m[2020-11-28 04:31:13 +0000] [1] [INFO] Starting gunicorn 19.7.1\u001b[0m\n",
      "\u001b[34m[2020-11-28 04:31:13 +0000] [1] [INFO] Listening at: http://0.0.0.0:8080 (1)\u001b[0m\n",
      "\u001b[34m[2020-11-28 04:31:13 +0000] [1] [INFO] Using worker: gevent\u001b[0m\n",
      "\u001b[34m[2020-11-28 04:31:13 +0000] [36] [INFO] Booting worker with pid: 36\u001b[0m\n",
      "\u001b[34m[2020-11-28 04:31:13 +0000] [37] [INFO] Booting worker with pid: 37\u001b[0m\n",
      "\u001b[34m[2020-11-28 04:31:13 +0000] [38] [INFO] Booting worker with pid: 38\u001b[0m\n",
      "\u001b[34m[2020-11-28:04:31:13:INFO] Model loaded successfully for worker : 36\u001b[0m\n",
      "\u001b[35m[2020-11-28 04:31:13 +0000] [1] [INFO] Starting gunicorn 19.7.1\u001b[0m\n",
      "\u001b[35m[2020-11-28 04:31:13 +0000] [1] [INFO] Listening at: http://0.0.0.0:8080 (1)\u001b[0m\n",
      "\u001b[35m[2020-11-28 04:31:13 +0000] [1] [INFO] Using worker: gevent\u001b[0m\n",
      "\u001b[35m[2020-11-28 04:31:13 +0000] [36] [INFO] Booting worker with pid: 36\u001b[0m\n",
      "\u001b[35m[2020-11-28 04:31:13 +0000] [37] [INFO] Booting worker with pid: 37\u001b[0m\n",
      "\u001b[35m[2020-11-28 04:31:13 +0000] [38] [INFO] Booting worker with pid: 38\u001b[0m\n",
      "\u001b[35m[2020-11-28:04:31:13:INFO] Model loaded successfully for worker : 36\u001b[0m\n",
      "\u001b[34m[2020-11-28:04:31:13:INFO] Model loaded successfully for worker : 37\u001b[0m\n",
      "\u001b[34m[2020-11-28 04:31:13 +0000] [39] [INFO] Booting worker with pid: 39\u001b[0m\n",
      "\u001b[34m[2020-11-28:04:31:13:INFO] Model loaded successfully for worker : 38\u001b[0m\n",
      "\u001b[34m[2020-11-28:04:31:13:INFO] Model loaded successfully for worker : 39\u001b[0m\n",
      "\u001b[34m[2020-11-28:04:31:13:INFO] Sniff delimiter as ','\u001b[0m\n",
      "\u001b[34m[2020-11-28:04:31:13:INFO] Determined delimiter of CSV input is ','\u001b[0m\n",
      "\u001b[34m[2020-11-28:04:31:13:INFO] Sniff delimiter as ','\u001b[0m\n",
      "\u001b[34m[2020-11-28:04:31:13:INFO] Determined delimiter of CSV input is ','\u001b[0m\n",
      "\u001b[35m[2020-11-28:04:31:13:INFO] Model loaded successfully for worker : 37\u001b[0m\n",
      "\u001b[35m[2020-11-28 04:31:13 +0000] [39] [INFO] Booting worker with pid: 39\u001b[0m\n",
      "\u001b[35m[2020-11-28:04:31:13:INFO] Model loaded successfully for worker : 38\u001b[0m\n",
      "\u001b[35m[2020-11-28:04:31:13:INFO] Model loaded successfully for worker : 39\u001b[0m\n",
      "\u001b[35m[2020-11-28:04:31:13:INFO] Sniff delimiter as ','\u001b[0m\n",
      "\u001b[35m[2020-11-28:04:31:13:INFO] Determined delimiter of CSV input is ','\u001b[0m\n",
      "\u001b[35m[2020-11-28:04:31:13:INFO] Sniff delimiter as ','\u001b[0m\n",
      "\u001b[35m[2020-11-28:04:31:13:INFO] Determined delimiter of CSV input is ','\u001b[0m\n",
      "\u001b[34m[2020-11-28:04:31:14:INFO] Sniff delimiter as ','\u001b[0m\n",
      "\u001b[34m[2020-11-28:04:31:14:INFO] Determined delimiter of CSV input is ','\u001b[0m\n",
      "\u001b[34m[2020-11-28:04:31:14:INFO] Sniff delimiter as ','\u001b[0m\n",
      "\u001b[34m[2020-11-28:04:31:14:INFO] Determined delimiter of CSV input is ','\u001b[0m\n",
      "\u001b[35m[2020-11-28:04:31:14:INFO] Sniff delimiter as ','\u001b[0m\n",
      "\u001b[35m[2020-11-28:04:31:14:INFO] Determined delimiter of CSV input is ','\u001b[0m\n",
      "\u001b[35m[2020-11-28:04:31:14:INFO] Sniff delimiter as ','\u001b[0m\n",
      "\u001b[35m[2020-11-28:04:31:14:INFO] Determined delimiter of CSV input is ','\u001b[0m\n",
      "\u001b[34m[2020-11-28:04:31:16:INFO] Sniff delimiter as ','\u001b[0m\n",
      "\u001b[35m[2020-11-28:04:31:16:INFO] Sniff delimiter as ','\u001b[0m\n",
      "\u001b[34m[2020-11-28:04:31:16:INFO] Determined delimiter of CSV input is ','\u001b[0m\n",
      "\u001b[34m[2020-11-28:04:31:16:INFO] Sniff delimiter as ','\u001b[0m\n",
      "\u001b[34m[2020-11-28:04:31:16:INFO] Determined delimiter of CSV input is ','\u001b[0m\n",
      "\u001b[34m[2020-11-28:04:31:16:INFO] Sniff delimiter as ','\u001b[0m\n",
      "\u001b[34m[2020-11-28:04:31:16:INFO] Determined delimiter of CSV input is ','\u001b[0m\n",
      "\u001b[34m[2020-11-28:04:31:16:INFO] Sniff delimiter as ','\u001b[0m\n",
      "\u001b[34m[2020-11-28:04:31:16:INFO] Determined delimiter of CSV input is ','\u001b[0m\n",
      "\u001b[35m[2020-11-28:04:31:16:INFO] Determined delimiter of CSV input is ','\u001b[0m\n",
      "\u001b[35m[2020-11-28:04:31:16:INFO] Sniff delimiter as ','\u001b[0m\n",
      "\u001b[35m[2020-11-28:04:31:16:INFO] Determined delimiter of CSV input is ','\u001b[0m\n",
      "\u001b[35m[2020-11-28:04:31:16:INFO] Sniff delimiter as ','\u001b[0m\n",
      "\u001b[35m[2020-11-28:04:31:16:INFO] Determined delimiter of CSV input is ','\u001b[0m\n",
      "\u001b[35m[2020-11-28:04:31:16:INFO] Sniff delimiter as ','\u001b[0m\n",
      "\u001b[35m[2020-11-28:04:31:16:INFO] Determined delimiter of CSV input is ','\u001b[0m\n",
      "\u001b[32m2020-11-28T04:31:13.547:[sagemaker logs]: MaxConcurrentTransforms=4, MaxPayloadInMB=6, BatchStrategy=MULTI_RECORD\u001b[0m\n",
      "\u001b[34m[2020-11-28:04:31:18:INFO] Sniff delimiter as ','\u001b[0m\n",
      "\u001b[34m[2020-11-28:04:31:18:INFO] Determined delimiter of CSV input is ','\u001b[0m\n",
      "\u001b[34m[2020-11-28:04:31:19:INFO] Sniff delimiter as ','\u001b[0m\n",
      "\u001b[34m[2020-11-28:04:31:19:INFO] Determined delimiter of CSV input is ','\u001b[0m\n",
      "\u001b[35m[2020-11-28:04:31:18:INFO] Sniff delimiter as ','\u001b[0m\n",
      "\u001b[35m[2020-11-28:04:31:18:INFO] Determined delimiter of CSV input is ','\u001b[0m\n",
      "\u001b[35m[2020-11-28:04:31:19:INFO] Sniff delimiter as ','\u001b[0m\n",
      "\u001b[35m[2020-11-28:04:31:19:INFO] Determined delimiter of CSV input is ','\u001b[0m\n",
      "\u001b[34m[2020-11-28:04:31:19:INFO] Sniff delimiter as ','\u001b[0m\n",
      "\u001b[34m[2020-11-28:04:31:19:INFO] Determined delimiter of CSV input is ','\u001b[0m\n",
      "\u001b[34m[2020-11-28:04:31:19:INFO] Sniff delimiter as ','\u001b[0m\n",
      "\u001b[34m[2020-11-28:04:31:19:INFO] Determined delimiter of CSV input is ','\u001b[0m\n",
      "\u001b[35m[2020-11-28:04:31:19:INFO] Sniff delimiter as ','\u001b[0m\n",
      "\u001b[35m[2020-11-28:04:31:19:INFO] Determined delimiter of CSV input is ','\u001b[0m\n",
      "\u001b[35m[2020-11-28:04:31:19:INFO] Sniff delimiter as ','\u001b[0m\n",
      "\u001b[35m[2020-11-28:04:31:19:INFO] Determined delimiter of CSV input is ','\u001b[0m\n",
      "\u001b[34m[2020-11-28:04:31:21:INFO] Sniff delimiter as ','\u001b[0m\n",
      "\u001b[34m[2020-11-28:04:31:21:INFO] Determined delimiter of CSV input is ','\u001b[0m\n",
      "\u001b[34m[2020-11-28:04:31:21:INFO] Sniff delimiter as ','\u001b[0m\n",
      "\u001b[34m[2020-11-28:04:31:21:INFO] Determined delimiter of CSV input is ','\u001b[0m\n",
      "\u001b[34m[2020-11-28:04:31:21:INFO] Sniff delimiter as ','\u001b[0m\n",
      "\u001b[34m[2020-11-28:04:31:21:INFO] Determined delimiter of CSV input is ','\u001b[0m\n",
      "\u001b[34m[2020-11-28:04:31:21:INFO] Sniff delimiter as ','\u001b[0m\n",
      "\u001b[34m[2020-11-28:04:31:21:INFO] Determined delimiter of CSV input is ','\u001b[0m\n",
      "\u001b[35m[2020-11-28:04:31:21:INFO] Sniff delimiter as ','\u001b[0m\n",
      "\u001b[35m[2020-11-28:04:31:21:INFO] Determined delimiter of CSV input is ','\u001b[0m\n",
      "\u001b[35m[2020-11-28:04:31:21:INFO] Sniff delimiter as ','\u001b[0m\n",
      "\u001b[35m[2020-11-28:04:31:21:INFO] Determined delimiter of CSV input is ','\u001b[0m\n",
      "\u001b[35m[2020-11-28:04:31:21:INFO] Sniff delimiter as ','\u001b[0m\n",
      "\u001b[35m[2020-11-28:04:31:21:INFO] Determined delimiter of CSV input is ','\u001b[0m\n",
      "\u001b[35m[2020-11-28:04:31:21:INFO] Sniff delimiter as ','\u001b[0m\n",
      "\u001b[35m[2020-11-28:04:31:21:INFO] Determined delimiter of CSV input is ','\u001b[0m\n",
      "\u001b[34m[2020-11-28:04:31:26:INFO] Sniff delimiter as ','\u001b[0m\n",
      "\u001b[34m[2020-11-28:04:31:26:INFO] Determined delimiter of CSV input is ','\u001b[0m\n",
      "\u001b[34m[2020-11-28:04:31:26:INFO] Sniff delimiter as ','\u001b[0m\n",
      "\u001b[34m[2020-11-28:04:31:26:INFO] Determined delimiter of CSV input is ','\u001b[0m\n",
      "\u001b[34m[2020-11-28:04:31:26:INFO] Sniff delimiter as ','\u001b[0m\n",
      "\u001b[34m[2020-11-28:04:31:26:INFO] Determined delimiter of CSV input is ','\u001b[0m\n",
      "\u001b[34m[2020-11-28:04:31:26:INFO] Sniff delimiter as ','\u001b[0m\n",
      "\u001b[34m[2020-11-28:04:31:26:INFO] Determined delimiter of CSV input is ','\u001b[0m\n",
      "\u001b[35m[2020-11-28:04:31:26:INFO] Sniff delimiter as ','\u001b[0m\n",
      "\u001b[35m[2020-11-28:04:31:26:INFO] Determined delimiter of CSV input is ','\u001b[0m\n",
      "\u001b[35m[2020-11-28:04:31:26:INFO] Sniff delimiter as ','\u001b[0m\n",
      "\u001b[35m[2020-11-28:04:31:26:INFO] Determined delimiter of CSV input is ','\u001b[0m\n",
      "\u001b[35m[2020-11-28:04:31:26:INFO] Sniff delimiter as ','\u001b[0m\n",
      "\u001b[35m[2020-11-28:04:31:26:INFO] Determined delimiter of CSV input is ','\u001b[0m\n",
      "\u001b[35m[2020-11-28:04:31:26:INFO] Sniff delimiter as ','\u001b[0m\n",
      "\u001b[35m[2020-11-28:04:31:26:INFO] Determined delimiter of CSV input is ','\u001b[0m\n",
      "\u001b[34m[2020-11-28:04:31:28:INFO] Sniff delimiter as ','\u001b[0m\n",
      "\u001b[34m[2020-11-28:04:31:28:INFO] Determined delimiter of CSV input is ','\u001b[0m\n",
      "\u001b[34m[2020-11-28:04:31:28:INFO] Sniff delimiter as ','\u001b[0m\n",
      "\u001b[34m[2020-11-28:04:31:28:INFO] Determined delimiter of CSV input is ','\u001b[0m\n",
      "\u001b[35m[2020-11-28:04:31:28:INFO] Sniff delimiter as ','\u001b[0m\n",
      "\u001b[35m[2020-11-28:04:31:28:INFO] Determined delimiter of CSV input is ','\u001b[0m\n",
      "\u001b[35m[2020-11-28:04:31:28:INFO] Sniff delimiter as ','\u001b[0m\n",
      "\u001b[35m[2020-11-28:04:31:28:INFO] Determined delimiter of CSV input is ','\u001b[0m\n",
      "\u001b[34m[2020-11-28:04:31:29:INFO] Sniff delimiter as ','\u001b[0m\n",
      "\u001b[34m[2020-11-28:04:31:29:INFO] Determined delimiter of CSV input is ','\u001b[0m\n",
      "\u001b[34m[2020-11-28:04:31:29:INFO] Sniff delimiter as ','\u001b[0m\n",
      "\u001b[34m[2020-11-28:04:31:29:INFO] Determined delimiter of CSV input is ','\u001b[0m\n",
      "\u001b[35m[2020-11-28:04:31:29:INFO] Sniff delimiter as ','\u001b[0m\n",
      "\u001b[35m[2020-11-28:04:31:29:INFO] Determined delimiter of CSV input is ','\u001b[0m\n",
      "\u001b[35m[2020-11-28:04:31:29:INFO] Sniff delimiter as ','\u001b[0m\n",
      "\u001b[35m[2020-11-28:04:31:29:INFO] Determined delimiter of CSV input is ','\u001b[0m\n",
      "\u001b[34m[2020-11-28:04:31:31:INFO] Sniff delimiter as ','\u001b[0m\n",
      "\u001b[34m[2020-11-28:04:31:31:INFO] Determined delimiter of CSV input is ','\u001b[0m\n",
      "\u001b[35m[2020-11-28:04:31:31:INFO] Sniff delimiter as ','\u001b[0m\n",
      "\u001b[35m[2020-11-28:04:31:31:INFO] Determined delimiter of CSV input is ','\u001b[0m\n",
      "\u001b[34m[2020-11-28:04:31:31:INFO] Sniff delimiter as ','\u001b[0m\n",
      "\u001b[34m[2020-11-28:04:31:31:INFO] Determined delimiter of CSV input is ','\u001b[0m\n",
      "\u001b[34m[2020-11-28:04:31:31:INFO] Sniff delimiter as ','\u001b[0m\n",
      "\u001b[34m[2020-11-28:04:31:31:INFO] Determined delimiter of CSV input is ','\u001b[0m\n",
      "\u001b[34m[2020-11-28:04:31:31:INFO] Sniff delimiter as ','\u001b[0m\n",
      "\u001b[34m[2020-11-28:04:31:31:INFO] Determined delimiter of CSV input is ','\u001b[0m\n",
      "\u001b[35m[2020-11-28:04:31:31:INFO] Sniff delimiter as ','\u001b[0m\n",
      "\u001b[35m[2020-11-28:04:31:31:INFO] Determined delimiter of CSV input is ','\u001b[0m\n",
      "\u001b[35m[2020-11-28:04:31:31:INFO] Sniff delimiter as ','\u001b[0m\n",
      "\u001b[35m[2020-11-28:04:31:31:INFO] Determined delimiter of CSV input is ','\u001b[0m\n",
      "\u001b[35m[2020-11-28:04:31:31:INFO] Sniff delimiter as ','\u001b[0m\n",
      "\u001b[35m[2020-11-28:04:31:31:INFO] Determined delimiter of CSV input is ','\u001b[0m\n"
     ]
    },
    {
     "name": "stdout",
     "output_type": "stream",
     "text": [
      "\n",
      "\u001b[34m[2020-11-28:04:31:34:INFO] Sniff delimiter as ','\u001b[0m\n",
      "\u001b[34m[2020-11-28:04:31:34:INFO] Determined delimiter of CSV input is ','\u001b[0m\n",
      "\u001b[35m[2020-11-28:04:31:34:INFO] Sniff delimiter as ','\u001b[0m\n",
      "\u001b[35m[2020-11-28:04:31:34:INFO] Determined delimiter of CSV input is ','\u001b[0m\n",
      "\u001b[34m[2020-11-28:04:31:36:INFO] Sniff delimiter as ','\u001b[0m\n",
      "\u001b[34m[2020-11-28:04:31:36:INFO] Determined delimiter of CSV input is ','\u001b[0m\n",
      "\u001b[35m[2020-11-28:04:31:36:INFO] Sniff delimiter as ','\u001b[0m\n",
      "\u001b[35m[2020-11-28:04:31:36:INFO] Determined delimiter of CSV input is ','\u001b[0m\n",
      "\u001b[34m[2020-11-28:04:31:36:INFO] Sniff delimiter as ','\u001b[0m\n",
      "\u001b[34m[2020-11-28:04:31:36:INFO] Determined delimiter of CSV input is ','\u001b[0m\n",
      "\u001b[34m[2020-11-28:04:31:36:INFO] Sniff delimiter as ','\u001b[0m\n",
      "\u001b[35m[2020-11-28:04:31:36:INFO] Sniff delimiter as ','\u001b[0m\n",
      "\u001b[35m[2020-11-28:04:31:36:INFO] Determined delimiter of CSV input is ','\u001b[0m\n",
      "\u001b[35m[2020-11-28:04:31:36:INFO] Sniff delimiter as ','\u001b[0m\n",
      "\u001b[34m[2020-11-28:04:31:36:INFO] Determined delimiter of CSV input is ','\u001b[0m\n",
      "\u001b[34m[2020-11-28:04:31:36:INFO] Sniff delimiter as ','\u001b[0m\n",
      "\u001b[34m[2020-11-28:04:31:36:INFO] Determined delimiter of CSV input is ','\u001b[0m\n",
      "\u001b[35m[2020-11-28:04:31:36:INFO] Determined delimiter of CSV input is ','\u001b[0m\n",
      "\u001b[35m[2020-11-28:04:31:36:INFO] Sniff delimiter as ','\u001b[0m\n",
      "\u001b[35m[2020-11-28:04:31:36:INFO] Determined delimiter of CSV input is ','\u001b[0m\n"
     ]
    }
   ],
   "source": [
    "xgb_transformer.wait()"
   ]
  },
  {
   "cell_type": "markdown",
   "metadata": {},
   "source": [
    "Now the transform job has executed and the result, the estimated sentiment of each review, has been saved on S3. Since we would rather work on this file locally we can perform a bit of notebook magic to copy the file to the `data_dir`."
   ]
  },
  {
   "cell_type": "code",
   "execution_count": 27,
   "metadata": {},
   "outputs": [
    {
     "name": "stdout",
     "output_type": "stream",
     "text": [
      "Completed 256.0 KiB/370.0 KiB (3.3 MiB/s) with 1 file(s) remaining\r",
      "Completed 370.0 KiB/370.0 KiB (4.7 MiB/s) with 1 file(s) remaining\r",
      "download: s3://sagemaker-us-east-2-075581609547/xgboost-2020-11-28-04-26-14-671/test.csv.out to ../data/sentiment_web_app/test.csv.out\r\n"
     ]
    }
   ],
   "source": [
    "!aws s3 cp --recursive $xgb_transformer.output_path $data_dir"
   ]
  },
  {
   "cell_type": "markdown",
   "metadata": {},
   "source": [
    "The last step is now to read in the output from our model, convert the output to something a little more usable, in this case we want the sentiment to be either `1` (positive) or `0` (negative), and then compare to the ground truth labels."
   ]
  },
  {
   "cell_type": "code",
   "execution_count": 28,
   "metadata": {},
   "outputs": [],
   "source": [
    "predictions = pd.read_csv(os.path.join(data_dir, 'test.csv.out'), header=None)\n",
    "predictions = [round(num) for num in predictions.squeeze().values]"
   ]
  },
  {
   "cell_type": "code",
   "execution_count": 29,
   "metadata": {},
   "outputs": [
    {
     "data": {
      "text/plain": [
       "0.85984"
      ]
     },
     "execution_count": 29,
     "metadata": {},
     "output_type": "execute_result"
    }
   ],
   "source": [
    "from sklearn.metrics import accuracy_score\n",
    "accuracy_score(test_y, predictions)"
   ]
  },
  {
   "cell_type": "markdown",
   "metadata": {},
   "source": [
    "## Step 6: Deploying the model\n",
    "\n",
    "Once we construct and fit our model, SageMaker stores the resulting model artifacts and we can use those to deploy an endpoint (inference code). To see this, look in the SageMaker console and you should see that a model has been created along with a link to the S3 location where the model artifacts have been stored.\n",
    "\n",
    "Deploying an endpoint is a lot like training the model with a few important differences. The first is that a deployed model doesn't change the model artifacts, so as you send it various testing instances the model won't change. Another difference is that since we aren't performing a fixed computation, as we were in the training step or while performing a batch transform, the compute instance that gets started stays running until we tell it to stop. This is important to note as if we forget and leave it running we will be charged the entire time.\n",
    "\n",
    "In other words **If you are no longer using a deployed endpoint, shut it down!**"
   ]
  },
  {
   "cell_type": "code",
   "execution_count": 30,
   "metadata": {},
   "outputs": [
    {
     "name": "stderr",
     "output_type": "stream",
     "text": [
      "Parameter image will be renamed to image_uri in SageMaker Python SDK v2.\n",
      "Using already existing model: xgboost-2020-11-28-04-18-59-717\n"
     ]
    },
    {
     "name": "stdout",
     "output_type": "stream",
     "text": [
      "-------------!"
     ]
    }
   ],
   "source": [
    "xgb_predictor = xgb.deploy(initial_instance_count = 1, instance_type = 'ml.m4.xlarge')"
   ]
  },
  {
   "cell_type": "markdown",
   "metadata": {},
   "source": [
    "### Testing the model (again)\n",
    "\n",
    "Now that we have deployed our endpoint, we can send the testing data to it and get back the inference results. We already did this earlier using the batch transform functionality of SageMaker, however, we will test our model again using the newly deployed endpoint so that we can make sure that it works properly and to get a bit of a feel for how the endpoint works.\n",
    "\n",
    "When using the created endpoint it is important to know that we are limited in the amount of information we can send in each call so we need to break the testing data up into chunks and then send each chunk. Also, we need to serialize our data before we send it to the endpoint to ensure that our data is transmitted properly. Fortunately, SageMaker can do the serialization part for us provided we tell it the format of our data."
   ]
  },
  {
   "cell_type": "code",
   "execution_count": 31,
   "metadata": {},
   "outputs": [],
   "source": [
    "from sagemaker.predictor import csv_serializer\n",
    "\n",
    "# We need to tell the endpoint what format the data we are sending is in so that SageMaker can perform the serialization.\n",
    "xgb_predictor.content_type = 'text/csv'\n",
    "xgb_predictor.serializer = csv_serializer"
   ]
  },
  {
   "cell_type": "code",
   "execution_count": 32,
   "metadata": {},
   "outputs": [],
   "source": [
    "# We split the data into chunks and send each chunk seperately, accumulating the results.\n",
    "\n",
    "def predict(data, rows=512):\n",
    "    split_array = np.array_split(data, int(data.shape[0] / float(rows) + 1))\n",
    "    predictions = ''\n",
    "    for array in split_array:\n",
    "        predictions = ','.join([predictions, xgb_predictor.predict(array).decode('utf-8')])\n",
    "    \n",
    "    return np.fromstring(predictions[1:], sep=',')"
   ]
  },
  {
   "cell_type": "code",
   "execution_count": 33,
   "metadata": {},
   "outputs": [],
   "source": [
    "test_X = pd.read_csv(os.path.join(data_dir, 'test.csv'), header=None).values\n",
    "\n",
    "predictions = predict(test_X)\n",
    "predictions = [round(num) for num in predictions]"
   ]
  },
  {
   "cell_type": "markdown",
   "metadata": {},
   "source": [
    "Lastly, we check to see what the accuracy of our model is."
   ]
  },
  {
   "cell_type": "code",
   "execution_count": 34,
   "metadata": {},
   "outputs": [
    {
     "data": {
      "text/plain": [
       "0.85984"
      ]
     },
     "execution_count": 34,
     "metadata": {},
     "output_type": "execute_result"
    }
   ],
   "source": [
    "from sklearn.metrics import accuracy_score\n",
    "accuracy_score(test_y, predictions)"
   ]
  },
  {
   "cell_type": "markdown",
   "metadata": {},
   "source": [
    "And the results here should agree with the model testing that we did earlier using the batch transform job.\n",
    "\n",
    "### Cleaning up\n",
    "\n",
    "Now that we've determined that deploying our model works as expected, we are going to shut it down. Remember that the longer the endpoint is left running, the greater the cost and since we have a bit more work to do before we are able to use our endpoint with our simple web app, we should shut everything down."
   ]
  },
  {
   "cell_type": "code",
   "execution_count": 35,
   "metadata": {},
   "outputs": [],
   "source": [
    "xgb_predictor.delete_endpoint()"
   ]
  },
  {
   "cell_type": "markdown",
   "metadata": {},
   "source": [
    "## Step 7: Putting our model to work\n",
    "\n",
    "As we've mentioned a few times now, our goal is to have our model deployed and then access it using a very simple web app. The intent is for this web app to take some user submitted data (a review), send it off to our endpoint (the model) and then display the result.\n",
    "\n",
    "However, there is a small catch. Currently the only way we can access the endpoint to send it data is using the SageMaker API. We can, if we wish, expose the actual URL that our model's endpoint is receiving data from, however, if we just send it data ourselves we will not get anything in return. This is because the endpoint created by SageMaker requires the entity accessing it have the correct permissions. So, we would need to somehow authenticate our web app with AWS.\n",
    "\n",
    "Having a website that authenticates to AWS seems a bit beyond the scope of this lesson so we will opt for an alternative approach. Namely, we will create a new endpoint which does not require authentication and which acts as a proxy for the SageMaker endpoint.\n",
    "\n",
    "As an additional constraint, we will try to avoid doing any data processing in the web app itself. Remember that when we constructed and tested our model we started with a movie review, then we simplified it by removing any html formatting and punctuation, then we constructed a bag of words embedding and the resulting vector is what we sent to our model. All of this needs to be done to our user input as well.\n",
    "\n",
    "Fortunately we can do all of this data processing in the backend, using Amazon's Lambda service.\n",
    "\n",
    "<img src=\"Web App Diagram.svg\">\n",
    "\n",
    "The diagram above gives an overview of how the various services will work together. On the far right is the model which we trained above and which will be deployed using SageMaker. On the far left is our web app that collects a user's movie review, sends it off and expects a positive or negative sentiment in return.\n",
    "\n",
    "In the middle is where some of the magic happens. We will construct a Lambda function, which you can think of as a straightforward Python function that can be executed whenever a specified event occurs. This Python function will do the data processing we need to perform on a user submitted review. In addition, we will give this function permission to send and recieve data from a SageMaker endpoint.\n",
    "\n",
    "Lastly, the method we will use to execute the Lambda function is a new endpoint that we will create using API Gateway. This endpoint will be a url that listens for data to be sent to it. Once it gets some data it will pass that data on to the Lambda function and then return whatever the Lambda function returns. Essentially it will act as an interface that lets our web app communicate with the Lambda function.\n",
    "\n",
    "### Processing a single review\n",
    "\n",
    "For now, suppose we are given a movie review by our user in the form of a string, like so:"
   ]
  },
  {
   "cell_type": "code",
   "execution_count": 36,
   "metadata": {},
   "outputs": [],
   "source": [
    "test_review = \"Nothing but a disgusting materialistic pageant of glistening abed remote control greed zombies, totally devoid of any heart or heat. A romantic comedy that has zero romantic chemestry and zero laughs!\""
   ]
  },
  {
   "cell_type": "markdown",
   "metadata": {},
   "source": [
    "How do we go from this string to the bag of words feature vector that is expected by our model?\n",
    "\n",
    "If we recall at the beginning of this notebook, the first step is to remove any unnecessary characters using the `review_to_words` method. Remember that we intentionally did this in a very simplistic way. This is because we are going to have to copy this method to our (eventual) Lambda function (we will go into more detail later) and this means it needs to be rather simplistic."
   ]
  },
  {
   "cell_type": "code",
   "execution_count": 37,
   "metadata": {},
   "outputs": [
    {
     "name": "stdout",
     "output_type": "stream",
     "text": [
      "nothing but a disgusting materialistic pageant of glistening abed remote control greed zombies totally devoid of any heart or heat a romantic comedy that has zero romantic chemestry and zero laughs\n"
     ]
    }
   ],
   "source": [
    "test_words = review_to_words(test_review)\n",
    "print(test_words)"
   ]
  },
  {
   "cell_type": "markdown",
   "metadata": {},
   "source": [
    "Next, we need to construct a bag of words embedding of the `test_words` string. To do this, remember that a bag of words embedding uses a `vocabulary` consisting of the most frequently appearing words in a set of documents. Then, for each word in the vocabulary we record the number of times that word appears in `test_words`. We constructed the `vocabulary` earlier using the training set for our problem so encoding `test_words` is relatively straightforward."
   ]
  },
  {
   "cell_type": "code",
   "execution_count": 38,
   "metadata": {},
   "outputs": [],
   "source": [
    "def bow_encoding(words, vocabulary):\n",
    "    bow = [0] * len(vocabulary) # Start by setting the count for each word in the vocabulary to zero.\n",
    "    for word in words.split():  # For each word in the string\n",
    "        if word in vocabulary:  # If the word is one that occurs in the vocabulary, increase its count.\n",
    "            bow[vocabulary[word]] += 1\n",
    "    return bow"
   ]
  },
  {
   "cell_type": "code",
   "execution_count": 39,
   "metadata": {},
   "outputs": [
    {
     "name": "stdout",
     "output_type": "stream",
     "text": [
      "[0, 0, 0, 0, 0, 0, 0, 0, 0, 0, 0, 0, 0, 0, 0, 0, 0, 0, 0, 0, 0, 0, 0, 0, 0, 0, 0, 0, 0, 0, 0, 0, 0, 0, 0, 0, 0, 0, 0, 0, 0, 0, 0, 0, 0, 0, 0, 0, 0, 0, 0, 0, 0, 0, 0, 0, 0, 0, 0, 0, 0, 0, 0, 0, 0, 0, 0, 0, 0, 0, 0, 0, 0, 0, 0, 0, 0, 0, 0, 0, 0, 0, 0, 0, 0, 0, 0, 0, 0, 0, 0, 0, 0, 0, 0, 0, 0, 0, 0, 0, 0, 0, 0, 0, 0, 0, 0, 0, 0, 0, 0, 0, 0, 0, 0, 0, 0, 0, 0, 0, 0, 0, 0, 0, 0, 0, 0, 0, 0, 0, 0, 0, 0, 0, 0, 0, 0, 0, 0, 0, 0, 0, 0, 0, 0, 0, 0, 0, 0, 0, 0, 0, 0, 0, 0, 0, 0, 0, 0, 0, 0, 0, 0, 0, 0, 0, 0, 0, 0, 0, 0, 0, 0, 0, 0, 0, 0, 0, 0, 0, 0, 0, 0, 0, 0, 0, 0, 0, 0, 0, 0, 0, 0, 0, 0, 0, 0, 0, 0, 0, 0, 0, 0, 0, 0, 0, 0, 0, 0, 0, 0, 0, 0, 0, 0, 0, 0, 0, 0, 0, 0, 0, 0, 0, 0, 0, 1, 0, 0, 0, 0, 0, 0, 0, 0, 0, 0, 0, 0, 0, 0, 0, 0, 0, 0, 0, 0, 0, 0, 0, 0, 0, 0, 0, 0, 0, 1, 0, 0, 0, 0, 0, 0, 0, 0, 0, 0, 0, 0, 0, 0, 0, 0, 0, 0, 0, 0, 0, 0, 0, 0, 0, 0, 0, 0, 0, 0, 0, 0, 0, 0, 0, 0, 0, 0, 0, 0, 0, 0, 0, 0, 0, 0, 0, 0, 0, 0, 0, 0, 0, 0, 0, 0, 0, 0, 0, 0, 0, 0, 0, 0, 0, 0, 0, 0, 0, 0, 0, 0, 0, 0, 0, 0, 0, 0, 0, 0, 0, 0, 0, 0, 0, 0, 0, 0, 0, 0, 0, 0, 0, 0, 0, 0, 0, 0, 0, 0, 0, 0, 0, 0, 0, 0, 0, 0, 0, 0, 0, 0, 0, 0, 0, 0, 0, 0, 0, 0, 0, 0, 0, 0, 0, 0, 0, 0, 0, 0, 0, 0, 0, 0, 0, 0, 0, 0, 0, 0, 0, 0, 0, 0, 0, 0, 0, 0, 0, 0, 0, 0, 0, 0, 0, 0, 0, 0, 0, 0, 0, 0, 0, 0, 0, 0, 0, 0, 0, 0, 0, 0, 0, 0, 0, 0, 0, 0, 0, 0, 0, 0, 0, 0, 0, 0, 0, 0, 0, 0, 0, 0, 0, 0, 0, 0, 0, 0, 0, 0, 0, 0, 0, 0, 0, 0, 0, 0, 0, 0, 0, 0, 0, 0, 0, 0, 0, 0, 0, 0, 0, 0, 0, 0, 0, 0, 0, 0, 0, 0, 0, 0, 0, 0, 0, 0, 0, 0, 0, 0, 0, 0, 0, 0, 0, 0, 0, 0, 0, 0, 0, 0, 0, 0, 0, 0, 0, 0, 0, 0, 0, 0, 0, 0, 0, 0, 0, 0, 0, 0, 0, 0, 0, 0, 0, 0, 0, 0, 0, 0, 0, 0, 0, 0, 0, 0, 0, 0, 0, 0, 0, 0, 0, 0, 0, 0, 0, 0, 0, 0, 0, 0, 0, 0, 0, 0, 0, 0, 0, 0, 0, 0, 0, 0, 0, 0, 0, 0, 0, 0, 0, 0, 0, 0, 0, 0, 0, 0, 0, 0, 0, 0, 0, 0, 0, 0, 0, 0, 0, 0, 0, 0, 0, 0, 0, 0, 0, 0, 0, 0, 0, 0, 0, 0, 0, 0, 0, 0, 0, 0, 0, 0, 0, 0, 0, 0, 0, 0, 0, 0, 0, 0, 0, 0, 0, 0, 0, 0, 0, 1, 0, 0, 0, 0, 0, 0, 0, 0, 0, 0, 0, 0, 0, 0, 0, 0, 0, 0, 0, 0, 0, 0, 0, 0, 0, 0, 0, 0, 0, 0, 0, 0, 0, 0, 0, 0, 0, 0, 0, 0, 0, 0, 0, 0, 0, 0, 0, 0, 0, 0, 0, 0, 0, 0, 0, 0, 0, 0, 0, 0, 0, 0, 0, 0, 0, 0, 0, 0, 0, 0, 0, 0, 0, 0, 0, 0, 0, 0, 0, 0, 0, 0, 0, 0, 0, 0, 0, 0, 0, 0, 0, 0, 0, 0, 0, 0, 0, 0, 0, 0, 0, 0, 0, 0, 0, 0, 0, 0, 0, 0, 0, 0, 0, 0, 0, 0, 0, 0, 0, 0, 0, 0, 0, 0, 0, 0, 0, 0, 0, 0, 0, 0, 0, 0, 0, 0, 0, 0, 0, 0, 0, 0, 0, 0, 0, 0, 0, 0, 0, 0, 0, 0, 0, 0, 0, 0, 0, 0, 0, 0, 0, 0, 0, 0, 0, 0, 0, 0, 0, 0, 0, 0, 0, 0, 0, 0, 0, 0, 0, 0, 0, 0, 0, 0, 0, 0, 0, 0, 0, 0, 0, 0, 0, 0, 0, 0, 0, 0, 0, 0, 0, 0, 0, 0, 0, 0, 0, 0, 0, 0, 0, 0, 0, 0, 0, 0, 0, 0, 0, 0, 0, 0, 0, 0, 0, 0, 0, 0, 0, 0, 0, 0, 0, 0, 0, 0, 0, 0, 0, 0, 0, 0, 0, 0, 0, 0, 0, 0, 0, 0, 0, 0, 0, 1, 0, 0, 0, 0, 0, 0, 0, 0, 0, 0, 0, 0, 0, 0, 0, 0, 0, 0, 0, 0, 0, 0, 0, 0, 0, 0, 0, 0, 0, 0, 0, 0, 0, 0, 0, 0, 0, 0, 0, 0, 0, 0, 0, 0, 0, 0, 0, 0, 0, 0, 0, 0, 0, 0, 0, 0, 0, 0, 0, 0, 0, 0, 0, 0, 0, 0, 0, 0, 0, 0, 0, 0, 0, 0, 0, 0, 0, 0, 0, 0, 0, 0, 0, 0, 0, 0, 1, 0, 0, 0, 0, 0, 0, 0, 0, 0, 0, 0, 0, 0, 0, 0, 0, 0, 0, 0, 0, 0, 0, 0, 0, 0, 0, 0, 0, 0, 0, 0, 0, 0, 0, 0, 0, 0, 0, 0, 0, 0, 0, 0, 0, 0, 0, 0, 0, 0, 0, 0, 0, 0, 0, 0, 0, 0, 0, 0, 0, 0, 0, 0, 0, 0, 0, 0, 0, 0, 0, 0, 0, 0, 0, 0, 0, 0, 0, 0, 0, 0, 0, 0, 0, 0, 0, 0, 0, 0, 0, 0, 0, 0, 0, 0, 0, 0, 0, 0, 0, 0, 0, 0, 0, 0, 0, 0, 0, 0, 0, 0, 0, 0, 0, 0, 0, 0, 0, 0, 0, 0, 0, 0, 0, 0, 0, 0, 0, 0, 0, 0, 0, 0, 0, 0, 0, 0, 0, 0, 0, 0, 0, 0, 0, 0, 0, 0, 0, 0, 0, 0, 0, 0, 0, 0, 0, 0, 0, 0, 0, 0, 0, 0, 0, 0, 0, 0, 0, 0, 0, 0, 0, 0, 0, 0, 0, 0, 0, 0, 0, 0, 0, 0, 0, 0, 0, 0, 0, 0, 0, 0, 0, 0, 0, 0, 0, 0, 0, 0, 0, 0, 0, 0, 0, 0, 0, 0, 0, 0, 0, 0, 0, 0, 0, 0, 0, 0, 0, 0, 0, 0, 0, 0, 0, 0, 0, 0, 0, 0, 0, 0, 0, 0, 0, 0, 0, 0, 0, 0, 0, 0, 0, 0, 0, 0, 0, 0, 0, 0, 0, 0, 0, 1, 0, 0, 0, 0, 0, 0, 0, 0, 0, 0, 0, 0, 0, 0, 0, 0, 0, 0, 0, 0, 0, 0, 0, 0, 0, 0, 0, 0, 0, 0, 0, 0, 0, 0, 0, 0, 0, 0, 0, 0, 0, 0, 0, 0, 0, 0, 0, 0, 0, 0, 0, 0, 0, 0, 0, 1, 0, 0, 0, 0, 0, 0, 0, 0, 0, 0, 0, 0, 0, 0, 0, 0, 0, 0, 0, 0, 0, 0, 0, 0, 0, 0, 0, 0, 0, 0, 0, 0, 0, 0, 0, 0, 0, 0, 0, 0, 0, 0, 0, 0, 0, 0, 0, 0, 0, 0, 0, 0, 0, 0, 0, 0, 0, 0, 0, 0, 0, 0, 0, 0, 0, 0, 0, 0, 0, 0, 0, 0, 0, 0, 0, 0, 0, 0, 0, 0, 0, 0, 0, 0, 0, 0, 0, 0, 0, 0, 0, 0, 0, 0, 0, 0, 0, 0, 0, 0, 0, 0, 0, 0, 0, 0, 0, 0, 0, 0, 0, 0, 0, 0, 0, 0, 0, 0, 0, 0, 0, 0, 0, 0, 0, 0, 0, 0, 0, 0, 0, 0, 0, 0, 0, 0, 0, 0, 0, 0, 0, 0, 0, 0, 0, 0, 0, 0, 0, 0, 0, 0, 0, 0, 0, 0, 0, 0, 0, 0, 0, 0, 0, 0, 0, 0, 0, 0, 0, 0, 0, 0, 0, 0, 0, 0, 0, 0, 0, 0, 0, 0, 0, 0, 0, 0, 0, 0, 0, 0, 0, 0, 0, 0, 0, 0, 0, 0, 0, 0, 0, 0, 0, 0, 0, 0, 0, 0, 0, 0, 0, 0, 0, 0, 0, 0, 0, 0, 0, 0, 0, 0, 0, 0, 0, 0, 0, 0, 0, 0, 0, 0, 0, 0, 0, 0, 0, 0, 0, 0, 0, 0, 0, 0, 0, 0, 0, 0, 0, 0, 0, 0, 0, 0, 0, 0, 0, 0, 0, 0, 0, 0, 0, 0, 0, 0, 0, 0, 0, 0, 0, 0, 0, 0, 0, 0, 0, 0, 0, 0, 0, 0, 0, 0, 0, 0, 0, 0, 0, 0, 0, 0, 0, 0, 0, 0, 0, 0, 0, 0, 0, 0, 0, 0, 0, 0, 0, 0, 0, 0, 0, 0, 0, 0, 0, 0, 0, 0, 0, 0, 0, 0, 0, 0, 0, 0, 0, 0, 0, 0, 0, 0, 0, 0, 0, 0, 0, 0, 0, 0, 0, 0, 0, 0, 0, 0, 0, 0, 0, 0, 0, 0, 0, 0, 0, 0, 0, 0, 0, 0, 0, 0, 0, 0, 0, 0, 0, 0, 0, 0, 0, 0, 0, 0, 0, 0, 0, 0, 0, 0, 0, 0, 0, 0, 0, 0, 0, 0, 0, 0, 0, 0, 0, 0, 0, 0, 0, 0, 0, 0, 0, 0, 0, 0, 0, 0, 0, 0, 0, 0, 0, 0, 0, 0, 0, 0, 0, 0, 0, 0, 0, 0, 0, 0, 0, 0, 0, 0, 0, 0, 0, 0, 0, 0, 0, 0, 0, 0, 0, 0, 0, 0, 0, 0, 0, 0, 0, 0, 0, 0, 0, 0, 0, 0, 0, 0, 0, 0, 0, 0, 0, 0, 0, 0, 0, 0, 0, 0, 0, 0, 0, 0, 0, 0, 0, 0, 0, 0, 0, 0, 0, 0, 0, 0, 0, 0, 0, 0, 0, 0, 0, 0, 0, 0, 0, 0, 0, 0, 0, 0, 0, 0, 0, 0, 0, 0, 0, 0, 0, 0, 0, 0, 0, 0, 0, 0, 0, 0, 0, 0, 0, 0, 0, 0, 0, 0, 0, 0, 0, 0, 0, 0, 0, 0, 0, 0, 0, 0, 0, 0, 0, 0, 0, 0, 0, 0, 0, 0, 0, 0, 0, 0, 0, 0, 0, 0, 0, 0, 0, 0, 0, 0, 0, 0, 0, 0, 0, 0, 0, 0, 0, 0, 0, 0, 0, 0, 0, 0, 0, 0, 0, 0, 0, 0, 0, 0, 0, 0, 0, 0, 0, 0, 0, 0, 0, 0, 0, 0, 0, 0, 0, 0, 0, 0, 0, 0, 0, 0, 0, 0, 0, 0, 0, 0, 0, 0, 0, 0, 0, 0, 0, 0, 0, 0, 0, 0, 0, 0, 0, 0, 0, 0, 0, 0, 0, 0, 0, 0, 0, 0, 0, 0, 0, 0, 0, 0, 0, 0, 0, 0, 0, 0, 0, 0, 0, 0, 0, 0, 0, 0, 0, 0, 0, 0, 0, 0, 0, 0, 0, 0, 0, 0, 0, 0, 0, 0, 0, 0, 0, 0, 0, 1, 0, 0, 0, 0, 0, 0, 0, 0, 0, 0, 0, 0, 0, 0, 0, 0, 0, 0, 0, 0, 0, 0, 0, 0, 0, 0, 0, 0, 0, 0, 0, 0, 0, 0, 0, 0, 0, 0, 0, 0, 0, 0, 0, 0, 0, 0, 0, 0, 0, 0, 0, 0, 0, 0, 0, 0, 0, 0, 0, 0, 0, 0, 0, 0, 0, 0, 0, 0, 0, 0, 0, 0, 0, 0, 1, 0, 0, 0, 0, 0, 0, 0, 0, 0, 0, 0, 0, 0, 0, 0, 0, 0, 0, 0, 0, 1, 0, 0, 1, 0, 0, 0, 0, 0, 0, 0, 0, 0, 0, 0, 0, 0, 0, 0, 0, 0, 0, 0, 0, 0, 0, 0, 0, 0, 0, 0, 0, 0, 0, 0, 0, 0, 0, 0, 0, 0, 0, 0, 0, 0, 0, 0, 0, 0, 0, 0, 0, 0, 0, 0, 0, 0, 0, 0, 0, 0, 0, 0, 0, 0, 0, 0, 0, 0, 0, 0, 0, 0, 0, 0, 0, 0, 0, 0, 0, 0, 0, 0, 0, 0, 0, 0, 0, 0, 0, 0, 0, 0, 0, 0, 0, 0, 0, 0, 0, 0, 0, 0, 0, 0, 0, 0, 0, 0, 0, 0, 0, 0, 0, 0, 0, 0, 0, 0, 0, 0, 0, 0, 0, 0, 0, 0, 0, 0, 0, 0, 0, 0, 0, 0, 0, 0, 0, 0, 0, 0, 0, 0, 0, 0, 0, 0, 0, 0, 0, 0, 0, 0, 0, 0, 0, 0, 0, 0, 0, 0, 0, 0, 0, 0, 0, 0, 0, 0, 0, 0, 0, 0, 0, 0, 0, 0, 0, 0, 0, 0, 0, 0, 0, 0, 0, 0, 0, 0, 0, 0, 0, 0, 0, 0, 0, 0, 0, 0, 0, 0, 0, 0, 0, 0, 0, 0, 0, 0, 0, 0, 0, 0, 0, 0, 0, 0, 0, 0, 0, 0, 0, 0, 0, 0, 0, 0, 0, 0, 0, 0, 0, 0, 0, 0, 0, 0, 0, 0, 0, 0, 0, 0, 0, 0, 0, 0, 0, 0, 0, 0, 0, 0, 0, 0, 0, 0, 0, 0, 0, 0, 0, 0, 0, 0, 0, 0, 0, 0, 0, 0, 0, 0, 0, 0, 0, 0, 0, 0, 0, 0, 0, 0, 0, 0, 0, 0, 0, 0, 0, 0, 0, 0, 0, 0, 0, 0, 0, 0, 0, 0, 0, 0, 0, 0, 0, 0, 0, 0, 0, 0, 0, 0, 0, 0, 0, 0, 0, 0, 0, 0, 0, 0, 0, 0, 0, 0, 0, 0, 0, 0, 0, 0, 0, 0, 0, 0, 0, 0, 0, 0, 0, 0, 0, 0, 0, 0, 0, 0, 0, 0, 0, 0, 0, 0, 0, 0, 0, 0, 0, 0, 0, 0, 0, 0, 0, 0, 0, 0, 0, 0, 0, 0, 0, 0, 0, 0, 0, 0, 0, 0, 0, 0, 0, 0, 0, 0, 0, 0, 0, 0, 0, 0, 0, 0, 0, 0, 0, 0, 0, 0, 0, 0, 0, 0, 0, 0, 0, 0, 0, 0, 0, 0, 0, 0, 0, 0, 0, 0, 0, 0, 0, 0, 0, 0, 0, 0, 0, 0, 0, 0, 0, 0, 0, 0, 0, 0, 0, 0, 0, 0, 0, 0, 0, 0, 0, 0, 0, 0, 0, 0, 0, 0, 0, 0, 0, 0, 0, 0, 0, 0, 0, 0, 0, 0, 0, 0, 0, 0, 0, 1, 0, 0, 0, 0, 0, 0, 0, 0, 0, 0, 0, 0, 0, 0, 0, 0, 0, 0, 0, 0, 0, 0, 0, 0, 0, 0, 0, 0, 0, 0, 0, 0, 0, 0, 0, 0, 0, 0, 0, 0, 0, 0, 0, 0, 0, 0, 0, 0, 0, 0, 0, 0, 0, 0, 0, 0, 0, 0, 0, 0, 0, 0, 0, 0, 0, 0, 0, 0, 0, 0, 0, 0, 0, 0, 0, 0, 0, 0, 0, 0, 0, 0, 0, 0, 0, 0, 0, 0, 0, 0, 0, 0, 0, 0, 0, 0, 0, 0, 0, 0, 0, 0, 0, 0, 0, 0, 0, 0, 0, 0, 0, 0, 0, 0, 0, 0, 0, 0, 0, 0, 0, 0, 0, 0, 0, 0, 0, 0, 0, 0, 0, 0, 0, 0, 0, 0, 0, 0, 0, 0, 0, 0, 0, 0, 0, 0, 0, 0, 0, 0, 0, 0, 0, 0, 0, 0, 0, 0, 0, 0, 0, 0, 0, 0, 0, 0, 0, 0, 0, 0, 0, 0, 0, 0, 0, 0, 0, 0, 0, 0, 0, 0, 0, 0, 0, 0, 0, 0, 0, 0, 0, 0, 0, 0, 0, 0, 0, 0, 0, 0, 0, 0, 0, 0, 0, 0, 0, 0, 0, 0, 0, 0, 0, 0, 0, 0, 0, 0, 0, 0, 0, 0, 0, 0, 0, 0, 0, 0, 0, 0, 0, 0, 0, 0, 0, 0, 0, 0, 0, 0, 0, 0, 0, 0, 0, 0, 0, 0, 0, 0, 0, 0, 0, 0, 0, 0, 0, 0, 0, 0, 0, 0, 0, 0, 0, 0, 0, 0, 0, 0, 0, 0, 0, 0, 0, 0, 0, 0, 0, 0, 0, 0, 0, 0, 0, 0, 0, 0, 0, 0, 0, 0, 0, 0, 0, 0, 0, 0, 0, 0, 0, 0, 0, 0, 0, 0, 0, 0, 0, 0, 0, 0, 0, 0, 0, 0, 0, 0, 0, 0, 0, 0, 0, 0, 0, 0, 0, 0, 0, 0, 0, 0, 0, 0, 0, 0, 0, 0, 0, 0, 0, 0, 0, 0, 0, 0, 0, 0, 0, 0, 0, 0, 0, 0, 0, 0, 0, 0, 0, 0, 0, 0, 0, 0, 0, 0, 0, 0, 0, 0, 0, 0, 0, 0, 0, 0, 0, 0, 0, 0, 0, 0, 0, 0, 0, 0, 0, 0, 0, 0, 0, 0, 0, 0, 0, 0, 0, 0, 0, 0, 0, 0, 0, 0, 0, 0, 0, 0, 0, 0, 0, 0, 0, 0, 0, 0, 0, 0, 0, 0, 0, 0, 0, 0, 0, 0, 0, 0, 0, 0, 0, 0, 0, 0, 0, 0, 0, 0, 0, 0, 0, 0, 0, 0, 0, 0, 0, 0, 0, 0, 0, 0, 0, 0, 0, 0, 0, 0, 0, 0, 0, 0, 0, 0, 0, 0, 0, 0, 0, 0, 0, 0, 0, 0, 0, 0, 0, 0, 0, 0, 0, 0, 0, 0, 0, 0, 0, 0, 0, 0, 0, 0, 0, 0, 0, 0, 0, 0, 0, 0, 0, 0, 0, 0, 0, 0, 0, 0, 0, 0, 0, 0, 1, 0, 0, 0, 0, 0, 0, 0, 0, 0, 0, 0, 0, 0, 0, 0, 0, 0, 0, 0, 0, 0, 0, 0, 0, 0, 0, 0, 0, 0, 0, 0, 0, 0, 0, 0, 2, 0, 0, 0, 0, 0, 0, 0, 0, 0, 0, 0, 0, 0, 0, 0, 0, 0, 0, 0, 0, 0, 0, 0, 0, 0, 0, 0, 0, 0, 0, 0, 0, 0, 0, 0, 0, 0, 0, 0, 0, 1, 0, 0, 0, 0, 0, 0, 0, 0, 0, 0, 0, 0, 0, 0, 0, 0, 0, 0, 0, 0, 0, 0, 0, 0, 0, 0, 0, 0, 0, 0, 0, 0, 0, 0, 0, 0, 0, 0, 0, 0, 0, 0, 0, 0, 0, 0, 0, 0, 0, 0, 0, 0, 0, 0, 0, 0, 0, 0, 0, 0, 0, 0, 0, 0, 0, 0, 0, 0, 0, 0, 0, 0, 0, 0, 0, 0, 0, 0, 0, 0, 0, 0, 0, 0, 0, 0, 0, 0, 0, 0, 0, 0, 0, 0, 0, 0, 0, 0, 0, 0, 0, 0, 0, 0, 0, 0, 0, 0, 0, 0, 0, 0, 0, 0, 0, 0, 0, 0, 0, 0, 0, 0, 0, 0, 0, 0, 0, 0, 0, 0, 0, 0, 0, 0, 0, 0, 0, 0, 0, 0, 0, 0, 0, 0, 0, 0, 0, 0, 0, 0, 0, 0, 0, 0, 0, 0, 0, 0, 0, 0, 0, 0, 0, 0, 0, 0, 0, 0, 0, 0, 0, 0, 0, 0, 0, 0, 0, 0, 0, 0, 0, 0, 0, 0, 0, 0, 0, 0, 0, 0, 0, 0, 0, 0, 0, 0, 0, 0, 0, 0, 0, 0, 0, 0, 0, 0, 0, 0, 0, 0, 0, 0, 0, 0, 0, 0, 0, 0, 0, 0, 0, 0, 0, 0, 0, 0, 0, 0, 0, 0, 0, 0, 0, 0, 0, 0, 0, 0, 0, 0, 0, 0, 0, 0, 0, 0, 0, 0, 0, 0, 0, 0, 0, 0, 0, 0, 0, 0, 0, 0, 0, 0, 0, 0, 0, 0, 0, 0, 0, 0, 0, 0, 0, 0, 0, 0, 0, 0, 0, 0, 0, 0, 0, 0, 0, 0, 0, 0, 0, 0, 0, 0, 0, 0, 0, 0, 0, 0, 0, 0, 0, 0, 0, 0, 0, 0, 0, 0, 0, 0, 0, 0, 0, 0, 0, 0, 0, 0, 0, 0, 0, 0, 0, 0, 0, 0, 0, 0, 0, 0, 0, 0, 0, 0, 0, 0, 0, 0, 0, 0, 0, 0, 0, 0, 0, 0, 0, 0, 0, 0, 0, 0, 0, 0, 0, 0, 0, 0, 0, 0, 0, 0, 0, 0, 0, 0, 0, 0, 0, 0, 0, 0, 0, 0, 0, 0, 0, 0, 0, 0, 0, 0, 0, 0, 0, 0, 0, 0, 0, 0, 0, 0, 0, 0, 0, 0, 0, 0, 0, 0, 0, 0, 0, 0, 0, 0, 0, 0, 0, 0, 0, 0, 0, 0, 0, 0, 0, 0, 0, 0, 0, 0, 0, 0, 0, 0, 0, 0, 0, 0, 0, 0, 0, 0, 0, 0, 0, 0, 0, 0, 0, 0, 0, 0, 0, 0, 0, 0, 0, 0, 0, 0, 0, 0, 0, 0, 0, 0, 0, 0, 0, 0, 0, 0, 0, 0, 0, 0, 0, 0, 0, 0, 0, 0, 0, 0, 0, 0, 0, 0, 0, 0, 0, 0, 0, 0, 0, 0, 0, 0, 0, 0, 0, 0, 0, 0, 0, 1, 0, 0, 0, 0, 0, 0, 0, 0, 0, 0, 0, 0, 0, 0, 0, 0, 0, 0, 0, 0, 0, 0, 0, 0, 0, 0, 0, 0, 0, 0, 0, 0, 0, 0, 0, 0, 0, 0, 0, 0, 0, 0, 0, 0, 0, 0, 0, 0, 0, 0, 0, 0, 0, 0, 0, 0, 0, 0, 0, 0, 0, 0, 0, 0, 0, 0, 0, 0, 0, 0, 0, 0, 0, 0, 0, 0, 0, 0, 0, 0, 0, 0, 0, 0, 0, 0, 0, 0, 0, 0, 0, 0, 0, 0, 0, 0, 0, 0, 0, 0, 0, 0, 0, 0, 0, 0, 0, 0, 0, 0, 2, 0, 0, 0, 0, 0, 0, 0, 0, 0, 0, 0, 0, 0, 0, 0, 0, 0, 0, 0, 0, 0, 0, 0, 0, 0, 0, 0, 0, 0, 0, 0, 0, 0, 0, 0, 0, 0, 0, 0, 0, 0, 0, 0, 0, 0, 0, 0, 0, 0, 0, 0, 0, 0, 0, 0, 0, 0, 0, 0, 0, 0, 0, 0, 0, 0, 0, 0, 0, 0, 0, 0, 0, 0, 0, 0, 0, 0, 0, 0, 0, 0, 0, 0, 0, 0, 0, 0, 0, 0, 0, 0, 0, 0, 0, 0, 0, 0, 0, 0, 0, 0, 0, 0, 0, 0, 0, 0, 0, 0, 0, 0, 0, 0, 0, 0, 0, 0, 0, 0, 0, 0, 0, 0, 0, 0, 0, 0, 0, 0, 0, 0, 0, 0, 0, 0, 0, 0, 0, 0, 0, 0, 0, 0, 0, 0, 0, 0, 0, 0, 0, 0, 0, 0, 0, 0, 0, 0, 0, 0, 0, 0, 0, 0, 0, 0, 0, 0, 0, 0, 0, 0, 0, 0, 0, 0, 0, 0, 0, 0, 0, 0, 0, 0, 0, 0, 0, 0, 0, 0, 0, 0, 0, 0, 0, 0, 0, 0, 0, 0, 0, 0, 0, 0, 0, 0, 0, 0, 0, 0, 0, 0, 0, 0, 0, 0, 0, 0, 0, 0, 0, 0, 0, 0, 0, 0, 0, 0, 0, 0, 0, 0, 0, 0, 0, 0, 0, 0, 0, 0, 0, 0, 0, 0, 0, 0, 0, 0, 0, 0, 0, 0, 0, 0, 0, 0, 0, 0, 0, 0, 0, 0, 0, 0, 0, 0, 0, 0, 0, 0, 0, 0, 0, 0, 0, 0, 0, 0, 0, 0, 0, 0, 0, 0, 0, 0, 0, 0, 0, 0, 0, 0, 0, 0, 0, 0, 0, 0, 0, 0, 0, 0, 0, 0, 0, 0, 0, 0, 0, 0, 0, 0, 0, 0, 0, 0, 0, 0, 0, 0, 0, 0, 0, 0, 0, 0, 0, 0, 0, 0, 0, 0, 0, 0, 0, 0, 0, 0, 0, 0, 0, 0, 0, 0, 0, 0, 0, 0, 0, 0, 0, 0, 0, 0, 0, 0, 0, 0, 0, 0, 0, 0, 0, 0, 0, 0, 0, 0, 0, 0, 0, 0, 0, 0, 0, 0, 0, 0, 0, 0, 0, 0, 0, 0, 0, 0, 0, 0, 0, 0, 0, 0, 0, 0, 0, 0, 0, 0, 0, 0, 0, 0, 0, 0, 0, 0, 0, 0, 0, 0, 0, 0, 0, 0, 0, 0, 0, 0, 0, 0, 0, 0, 0, 0, 0, 0, 0, 0, 0, 0, 0, 0, 0, 0, 0, 0, 0, 0, 0, 0, 0, 0, 0, 0, 0, 0, 0, 0, 0, 0, 0, 0, 0, 0, 0, 0, 0, 0, 0, 0, 0, 0, 0, 0, 0, 0, 0, 0, 0, 0, 0, 0, 0, 0, 0, 0, 0, 0, 0, 0, 0, 0, 0, 0, 0, 0, 0, 0, 0, 0, 0, 0, 0, 0, 0, 0, 0, 0, 0, 0, 0, 0, 0, 0, 0, 0, 0, 0, 0, 0, 0, 0, 0, 0, 0, 0, 0, 0, 0, 0, 0, 0, 0, 0, 0, 0, 0, 0, 0, 0, 0, 0, 0, 0, 0, 0, 0, 0, 0, 0, 0, 0, 0, 0, 0, 0, 0, 0, 0, 0, 0, 0, 0, 0, 0, 0, 0, 0, 0, 0, 0, 0, 0, 0, 0, 0, 0, 0, 0, 0, 0, 0, 0, 0, 0, 0, 0, 0, 0, 0, 0, 0, 0, 0, 0, 0, 0, 0, 0, 0, 0, 0, 0, 0, 0, 0, 0, 0, 0, 0, 0, 0, 0, 0, 0, 0, 0, 0, 0, 0, 0, 0, 0, 0, 0, 0, 0, 0, 0, 0, 0, 0, 0, 0, 0, 0, 0, 0, 0, 0, 0, 0, 0, 0, 0, 0, 0, 0, 0, 0, 0, 0, 0, 0, 0, 0, 0, 0, 0, 0, 0, 0, 0, 0, 0, 0, 0, 0, 0, 0, 0, 0, 0, 0, 0, 0, 0, 0, 0, 0, 0, 0, 0, 0, 0, 0, 0, 0, 0, 0, 0, 0, 0, 0, 0, 0, 0, 0, 0, 0, 0, 1, 0, 0, 0, 0, 0, 0, 0, 0, 0, 0, 0, 0, 0, 0, 0, 0, 0, 0, 0, 0, 0, 0, 0, 0, 0, 0, 0, 0, 0, 0, 0, 0, 0, 0, 0, 0, 0, 0, 0, 0, 0, 0, 0, 0, 0, 0, 0, 0, 0, 0, 0, 0, 0, 0, 0, 0, 0, 0, 0, 0, 0, 0, 0, 0, 0, 0, 0, 0, 0, 0, 0, 0, 0, 0, 0, 0, 0, 0, 0, 0, 0, 0, 0, 0, 0, 0, 0, 0, 0, 0, 0, 0, 0, 0, 0, 0, 0, 0, 0, 0, 0, 0, 0, 0, 0, 0, 0, 1, 0, 0, 0, 0, 0, 0, 0, 0, 0, 0, 0, 0, 0, 0, 0, 0, 0, 0, 0, 0, 0, 0, 0, 0, 0, 0, 0, 0, 0, 0, 0, 0, 0, 0, 0, 0, 0, 0, 0, 0, 0, 0, 0, 0, 0, 0, 0, 0, 0, 0, 0, 0, 0, 0, 0, 0, 0, 0, 0, 0, 0, 0, 0, 0, 0, 0, 0, 0, 0, 0, 0, 0, 0, 0, 0, 0, 0, 0, 0, 0, 0, 0, 0, 0, 0, 0, 0, 0, 0, 0, 0, 0, 0, 0, 0, 0, 0, 0, 0, 0, 0, 0, 0, 0, 0, 0, 0, 0, 0, 0, 0, 0, 0, 0, 0, 0, 0, 0, 0, 0, 0, 0, 0, 0, 0, 0, 0, 0, 0, 0, 0, 0, 0, 0, 0, 0, 0, 0, 0, 0, 0, 0, 0, 0, 0, 0, 0, 0, 0, 0, 0, 0, 0, 0, 0, 0, 0, 0, 0, 0, 0, 0, 0, 0, 0, 0, 0, 0, 0, 0, 0, 0, 0, 0, 0, 0, 0, 0, 0, 0, 0, 0, 0, 0, 0, 0, 0, 0, 0, 0, 0, 0, 0, 0, 0, 0, 0, 0, 0, 0, 0, 0, 0, 0, 0, 0, 0, 0, 0, 0, 0, 0, 0, 0, 0, 0, 0, 0, 0, 0, 0, 0, 0, 0, 0, 0, 0, 0, 0, 0, 0, 0, 0, 0, 0, 0, 0, 0, 0, 0, 0, 0, 0, 0, 0, 0, 0, 0, 0, 0, 0, 0, 0, 0, 0, 0, 0, 0, 0, 0, 0, 0, 0, 0, 0, 0, 0, 0, 0, 0, 0, 0, 0, 0, 0, 0, 0, 0, 0, 0, 0, 0, 0, 0, 0, 0, 0, 0, 0, 0, 0, 0, 0, 0, 0, 0, 0, 0, 0, 0, 0, 0, 0, 0, 0, 0, 0, 0, 0, 0, 0, 0, 0, 0, 0, 0, 0, 0, 0, 0, 0, 0, 0, 0, 0, 0, 0, 0, 0, 0, 0, 0, 0, 0, 0, 0, 0, 0, 0, 0, 0, 0, 0, 0, 0, 0, 0, 0, 0, 0, 0, 0, 0, 0, 0, 0, 0, 0, 0, 0, 0, 0, 0, 0, 0, 0, 0, 0, 0, 0, 0, 0, 0, 0, 0, 0, 0, 0, 0, 0, 0, 0, 0, 0, 0, 0, 0, 0, 0, 0, 0, 0, 0, 0, 0, 0, 0, 0, 0, 0, 0, 0, 0, 0, 0, 0, 0, 0, 0, 0, 0, 0, 0, 0, 0, 0, 0, 0, 0, 0, 0, 0, 0, 0, 0, 0, 0, 0, 0, 0, 0, 0, 0, 0, 0, 0, 0, 0, 0, 0, 0, 0, 0, 0, 0, 0, 0, 0, 0, 0, 0, 0, 0, 0, 0, 0, 0, 0, 0, 0, 0, 0, 0, 2, 0, 1, 0]\n"
     ]
    }
   ],
   "source": [
    "test_bow = bow_encoding(test_words, vocabulary)\n",
    "print(test_bow)"
   ]
  },
  {
   "cell_type": "code",
   "execution_count": 40,
   "metadata": {},
   "outputs": [
    {
     "data": {
      "text/plain": [
       "5000"
      ]
     },
     "execution_count": 40,
     "metadata": {},
     "output_type": "execute_result"
    }
   ],
   "source": [
    "len(test_bow)"
   ]
  },
  {
   "cell_type": "markdown",
   "metadata": {},
   "source": [
    "So now we know how to construct a bag of words encoding of a user provided review, how to we send it to our endpoint? First, we need to start the endpoint back up."
   ]
  },
  {
   "cell_type": "code",
   "execution_count": 42,
   "metadata": {},
   "outputs": [
    {
     "name": "stderr",
     "output_type": "stream",
     "text": [
      "Parameter image will be renamed to image_uri in SageMaker Python SDK v2.\n",
      "Using already existing model: xgboost-2020-11-28-04-18-59-717\n"
     ]
    },
    {
     "name": "stdout",
     "output_type": "stream",
     "text": [
      "-------------!"
     ]
    }
   ],
   "source": [
    "xgb_predictor = xgb.deploy(initial_instance_count = 1, instance_type = 'ml.m4.xlarge')"
   ]
  },
  {
   "cell_type": "markdown",
   "metadata": {},
   "source": [
    "At this point we could just do the same thing that we did earlier when we tested our deployed model and send `test_bow` to our endpoint using the `xgb_predictor` object. However, when we eventually construct our Lambda function we won't have access to this object, so how do we call a SageMaker endpoint?\n",
    "\n",
    "It turns out that Python functions that are used in Lambda have access to another Amazon library called `boto3`. This library provides an API for working with Amazon services, including SageMaker. To start with, we need to get a handle to the SageMaker runtime."
   ]
  },
  {
   "cell_type": "code",
   "execution_count": 43,
   "metadata": {},
   "outputs": [],
   "source": [
    "import boto3\n",
    "\n",
    "runtime = boto3.Session().client('sagemaker-runtime')"
   ]
  },
  {
   "cell_type": "markdown",
   "metadata": {},
   "source": [
    "And now that we have access to the SageMaker runtime, we can ask it to make use of (invoke) an endpoint that has already been created. However, we need to provide SageMaker with the name of the deployed endpoint. To find this out we can print it out using the `xgb_predictor` object."
   ]
  },
  {
   "cell_type": "code",
   "execution_count": 44,
   "metadata": {},
   "outputs": [
    {
     "data": {
      "text/plain": [
       "'xgboost-2020-11-28-04-18-59-717'"
      ]
     },
     "execution_count": 44,
     "metadata": {},
     "output_type": "execute_result"
    }
   ],
   "source": [
    "xgb_predictor.endpoint"
   ]
  },
  {
   "cell_type": "markdown",
   "metadata": {},
   "source": [
    "Using the SageMaker runtime and the name of our endpoint, we can invoke the endpoint and send it the `test_bow` data."
   ]
  },
  {
   "cell_type": "markdown",
   "metadata": {},
   "source": [
    "```python\n",
    "response = runtime.invoke_endpoint(EndpointName = xgb_predictor.endpoint, # The name of the endpoint we created\n",
    "                                   ContentType = 'text/csv',              # The data format that is expected\n",
    "                                   Body = test_bow)\n",
    "```"
   ]
  },
  {
   "cell_type": "markdown",
   "metadata": {},
   "source": [
    "So why did we get an error?\n",
    "\n",
    "Because we tried to send the endpoint a list of integers but it expected us to send data of type `text/csv`. So, we need to convert it."
   ]
  },
  {
   "cell_type": "code",
   "execution_count": 45,
   "metadata": {},
   "outputs": [],
   "source": [
    "response = runtime.invoke_endpoint(EndpointName = xgb_predictor.endpoint, # The name of the endpoint we created\n",
    "                                   ContentType = 'text/csv',              # The data format that is expected\n",
    "                                   Body = ','.join([str(val) for val in test_bow]).encode('utf-8'))"
   ]
  },
  {
   "cell_type": "code",
   "execution_count": 46,
   "metadata": {},
   "outputs": [
    {
     "name": "stdout",
     "output_type": "stream",
     "text": [
      "{'ResponseMetadata': {'RequestId': 'eb73d695-6960-4620-a320-1b0a2c475e44', 'HTTPStatusCode': 200, 'HTTPHeaders': {'x-amzn-requestid': 'eb73d695-6960-4620-a320-1b0a2c475e44', 'x-amzn-invoked-production-variant': 'AllTraffic', 'date': 'Sat, 28 Nov 2020 04:49:20 GMT', 'content-type': 'text/csv; charset=utf-8', 'content-length': '14'}, 'RetryAttempts': 0}, 'ContentType': 'text/csv; charset=utf-8', 'InvokedProductionVariant': 'AllTraffic', 'Body': <botocore.response.StreamingBody object at 0x7fe277835710>}\n"
     ]
    }
   ],
   "source": [
    "print(response)"
   ]
  },
  {
   "cell_type": "markdown",
   "metadata": {},
   "source": [
    "As we can see, the response from our model is a somewhat complicated looking dict that contains a bunch of information. The bit that we are most interested in is `'Body'` object which is a streaming object that we need to `read` in order to make use of."
   ]
  },
  {
   "cell_type": "code",
   "execution_count": 47,
   "metadata": {},
   "outputs": [
    {
     "name": "stdout",
     "output_type": "stream",
     "text": [
      "0.343879908323\n"
     ]
    }
   ],
   "source": [
    "response = response['Body'].read().decode('utf-8')\n",
    "print(response)"
   ]
  },
  {
   "cell_type": "markdown",
   "metadata": {},
   "source": [
    "Now that we know how to process the incoming user data we can start setting up the infrastructure to make our simple web app work. To do this we will make use of two different services. Amazon's Lambda and API Gateway services.\n",
    "\n",
    "Lambda is a service which allows someone to write some relatively simple code and have it executed whenever a chosen trigger occurs. For example, you may want to update a database whenever new data is uploaded to a folder stored on S3.\n",
    "\n",
    "API Gateway is a service that allows you to create HTTP endpoints (url addresses) which are connected to other AWS services. One of the benefits to this is that you get to decide what credentials, if any, are required to access these endpoints.\n",
    "\n",
    "In our case we are going to set up an HTTP endpoint through API Gateway which is open to the public. Then, whenever anyone sends data to our public endpoint we will trigger a Lambda function which will send the input (in our case a review) to our model's endpoint and then return the result."
   ]
  },
  {
   "cell_type": "markdown",
   "metadata": {},
   "source": [
    "### Setting up a Lambda function\n",
    "\n",
    "The first thing we are going to do is set up a Lambda function. This Lambda function will be executed whenever our public API has data sent to it. When it is executed it will receive the data, perform any sort of processing that is required, send the data (the review) to the SageMaker endpoint we've created and then return the result.\n",
    "\n",
    "#### Part A: Create an IAM Role for the Lambda function\n",
    "\n",
    "Since we want the Lambda function to call a SageMaker endpoint, we need to make sure that it has permission to do so. To do this, we will construct a role that we can later give the Lambda function.\n",
    "\n",
    "Using the AWS Console, navigate to the **IAM** page and click on **Roles**. Then, click on **Create role**. Make sure that the **AWS service** is the type of trusted entity selected and choose **Lambda** as the service that will use this role, then click **Next: Permissions**.\n",
    "\n",
    "In the search box type `sagemaker` and select the check box next to the **AmazonSageMakerFullAccess** policy. Then, click on **Next: Review**.\n",
    "\n",
    "Lastly, give this role a name. Make sure you use a name that you will remember later on, for example `LambdaSageMakerRole`. Then, click on **Create role**."
   ]
  },
  {
   "cell_type": "markdown",
   "metadata": {},
   "source": [
    "#### Part B: Create a Lambda function\n",
    "\n",
    "Now it is time to actually create the Lambda function. Remember from earlier that in order to process the user provided input and send it to our endpoint we need to gather two pieces of information:\n",
    "\n",
    " - The name of the endpoint, and\n",
    " - the vocabulary object.\n",
    "\n",
    "We will copy these pieces of information to our Lambda function after we create it.\n",
    "\n",
    "To start, using the AWS Console, navigate to the AWS Lambda page and click on **Create a function**. When you get to the next page, make sure that **Author from scratch** is selected. Now, name your Lambda function, using a name that you will remember later on, for example `sentiment_analysis_xgboost_func`. Make sure that the **Python 3.6** runtime is selected and then choose the role that you created in the previous part. Then, click on **Create Function**.\n",
    "\n",
    "On the next page you will see some information about the Lambda function you've just created. If you scroll down you should see an editor in which you can write the code that will be executed when your Lambda function is triggered. Collecting the code we wrote above to process a single review and adding it to the provided example `lambda_handler` we arrive at the following.\n",
    "\n",
    "```python\n",
    "# We need to use the low-level library to interact with SageMaker since the SageMaker API\n",
    "# is not available natively through Lambda.\n",
    "import boto3\n",
    "\n",
    "# And we need the regular expression library to do some of the data processing\n",
    "import re\n",
    "\n",
    "REPLACE_NO_SPACE = re.compile(\"(\\.)|(\\;)|(\\:)|(\\!)|(\\')|(\\?)|(\\,)|(\\\")|(\\()|(\\))|(\\[)|(\\])\")\n",
    "REPLACE_WITH_SPACE = re.compile(\"(<br\\s*/><br\\s*/>)|(\\-)|(\\/)\")\n",
    "\n",
    "def review_to_words(review):\n",
    "    words = REPLACE_NO_SPACE.sub(\"\", review.lower())\n",
    "    words = REPLACE_WITH_SPACE.sub(\" \", words)\n",
    "    return words\n",
    "    \n",
    "def bow_encoding(words, vocabulary):\n",
    "    bow = [0] * len(vocabulary) # Start by setting the count for each word in the vocabulary to zero.\n",
    "    for word in words.split():  # For each word in the string\n",
    "        if word in vocabulary:  # If the word is one that occurs in the vocabulary, increase its count.\n",
    "            bow[vocabulary[word]] += 1\n",
    "    return bow\n",
    "\n",
    "\n",
    "def lambda_handler(event, context):\n",
    "    \n",
    "    vocab = \"*** ACTUAL VOCABULARY GOES HERE ***\"\n",
    "    \n",
    "    words = review_to_words(event['body'])\n",
    "    bow = bow_encoding(words, vocab)\n",
    "\n",
    "    # The SageMaker runtime is what allows us to invoke the endpoint that we've created.\n",
    "    runtime = boto3.Session().client('sagemaker-runtime')\n",
    "\n",
    "    # Now we use the SageMaker runtime to invoke our endpoint, sending the review we were given\n",
    "    response = runtime.invoke_endpoint(EndpointName = '***ENDPOINT NAME HERE***',# The name of the endpoint we created\n",
    "                                       ContentType = 'text/csv',                 # The data format that is expected\n",
    "                                       Body = ','.join([str(val) for val in bow]).encode('utf-8')) # The actual review\n",
    "\n",
    "    # The response is an HTTP response whose body contains the result of our inference\n",
    "    result = response['Body'].read().decode('utf-8')\n",
    "    \n",
    "    # Round the result so that our web app only gets '1' or '0' as a response.\n",
    "    result = round(float(result))\n",
    "\n",
    "    return {\n",
    "        'statusCode' : 200,\n",
    "        'headers' : { 'Content-Type' : 'text/plain', 'Access-Control-Allow-Origin' : '*' },\n",
    "        'body' : str(result)\n",
    "    }\n",
    "```"
   ]
  },
  {
   "cell_type": "markdown",
   "metadata": {},
   "source": [
    "Once you have copy and pasted the code above into the Lambda code editor, replace the `**ENDPOINT NAME HERE**` portion with the name of the endpoint that we deployed earlier. You can determine the name of the endpoint using the code cell below."
   ]
  },
  {
   "cell_type": "code",
   "execution_count": 48,
   "metadata": {
    "scrolled": true
   },
   "outputs": [
    {
     "data": {
      "text/plain": [
       "'xgboost-2020-11-28-04-18-59-717'"
      ]
     },
     "execution_count": 48,
     "metadata": {},
     "output_type": "execute_result"
    }
   ],
   "source": [
    "xgb_predictor.endpoint"
   ]
  },
  {
   "cell_type": "markdown",
   "metadata": {},
   "source": [
    "In addition, you will need to copy the vocabulary dict to the appropriate place in the code at the beginning of the `lambda_handler` method. The cell below prints out the vocabulary dict in a way that is easy to copy and paste."
   ]
  },
  {
   "cell_type": "code",
   "execution_count": 49,
   "metadata": {},
   "outputs": [
    {
     "name": "stdout",
     "output_type": "stream",
     "text": [
      "{'although': 201, 'rated': 3527, 'this': 4457, 'movie': 2926, 'for': 1784, 'showing': 3958, 'complete': 921, 'lack': 2502, 'of': 3083, 'effort': 1432, 'in': 2257, 'trying': 4601, 'to': 4507, 'create': 1036, 'quality': 3484, 'horror': 2168, 'film': 1716, 'it': 2366, 'was': 4805, '10': 0, 'on': 3105, 'the': 4426, 'unintentional': 4658, 'funny': 1852, 'scale': 3802, 'couldnt': 1008, 'figure': 1711, 'out': 3141, 'what': 4858, 'going': 1931, 'or': 3124, 'who': 4871, 'people': 3221, 'were': 4848, 'but': 636, 'didnt': 1242, 'care': 684, 'because': 432, 'knew': 2486, 'every': 1539, 'scene': 3809, 'have': 2052, 'something': 4066, 'make': 2713, 'me': 2778, 'cry': 1073, 'with': 4911, 'laughter': 2535, 'dialogue': 1234, 'is': 2360, 'minimum': 2856, 'throughout': 4478, 'believe': 454, 'they': 4442, 'started': 4157, 'filming': 1718, 'without': 4913, 'script': 3834, 'fact': 1621, 'that': 4424, 'there': 4438, 'no': 3020, 'plot': 3309, 'line': 2610, 'makes': 2716, 'extremely': 1610, 'doesnt': 1309, 'matter': 2769, 'if': 2222, 'you': 4986, 'sit': 4003, 'down': 1335, 'and': 226, 'watch': 4811, 'from': 1840, 'beginning': 443, 'end': 1468, 'will': 4886, 'be': 418, 'confused': 941, 'enjoyment': 1488, 'particularly': 3195, 'like': 2599, 'which': 4867, 'are': 285, 'taking': 4352, 'turns': 4609, 'running': 3756, 'around': 297, 'outside': 3146, 'beating': 425, 'each': 1395, 'other': 3135, 'sticks': 4186, 'doctor': 1304, 'as': 311, 'treatment': 4574, 'genius': 1887, 'ok': 3098, 'high': 2100, 'expectations': 1576, 'into': 2332, 'could': 1007, 'not': 3040, 'imagine': 2238, 'involved': 2346, 'priest': 3392, 'an': 223, 'obscure': 3068, 'member': 2800, 'order': 3126, 'death': 1141, 'by': 642, 'sin': 3988, 'allows': 192, 'authority': 360, 'church': 813, 'yet': 4984, 'another': 250, 'loads': 2633, 'sense': 3877, 'since': 3990, 'then': 4436, 'give': 1912, 'move': 2921, 'ill': 2228, 'giving': 1915, 'much': 2934, 'away': 369, 'goes': 1930, 'his': 2118, 'buddy': 609, 'he': 2056, 'brings': 587, 'him': 2110, 'mental': 2808, 'patient': 3211, 'im': 2232, 'making': 2718, 'up': 4683, 'shot': 3949, 'during': 1387, 'loves': 2674, 'one': 3107, 'explained': 1587, 'drunk': 1375, 'irish': 2353, 'peter': 3247, 'get': 1899, 'find': 1726, 'some': 4061, 'creepy': 1052, 'kids': 2467, 'do': 1302, 'nothing': 3047, 'meet': 2793, 'anti': 254, 'guy': 2000, 'knows': 2493, 'gives': 1914, 'information': 2288, 'killing': 2472, 'oh': 3096, 'hes': 2093, 'bad': 382, 'so': 4046, 'has': 2043, 'soundtrack': 4085, 'seriously': 3892, 'sure': 4308, 'about': 67, 'flies': 1756, 'new': 3003, 'york': 4985, 'stuff': 4243, 'happens': 2029, 'all': 187, 'off': 3084, 'camera': 659, 'falls': 1640, 'ends': 1474, 'hour': 2176, 'really': 3556, 'wonder': 4926, 'anything': 260, 'happened': 2027, 'cant': 671, 'at': 331, 'certain': 737, 'matters': 2770, 'most': 2909, 'drama': 1346, 'takes': 4351, 'place': 3282, 'either': 1438, 'before': 440, 'youre': 4992, 'feeling': 1685, 'cheated': 775, 'when': 4862, 'friendship': 1838, 'kills': 2474, 'my': 2951, 'opinion': 3118, 'very': 4723, 'touching': 4536, 'kind': 2476, 'consequences': 947, 'being': 448, 'jennifer': 2392, 'threw': 4470, 'wanted': 4789, 'myself': 2953, 'its': 2370, 'hard': 2033, 'explain': 1586, 'why': 4878, 'ask': 316, 'should': 3951, 'been': 438, 'more': 2904, 'things': 4451, 'however': 2183, 'did': 1241, 'enjoy': 1484, 'seeing': 3857, 'them': 4432, 'together': 4511, 'well': 4843, 'their': 4431, 'parents': 3188, 'wrap': 4963, 'id': 2212, 'say': 3799, 'does': 1308, 'indeed': 2271, 'show': 3953, 'how': 2181, 'can': 665, 'affect': 136, 'persons': 3244, 'body': 527, 'now': 3054, 'conclusion': 936, 'recommend': 3571, 'everyone': 1542, 'hasnt': 2044, 'seen': 3865, 'tears': 4380, 'good': 1937, 'time': 4495, 'next': 3007, 'tv': 4610, 'kick': 2460, 'back': 378, 'friend': 1835, 'development': 1225, 'growing': 1983, 'surprising': 4315, 'disappointing': 1274, 'hope': 2155, 'frustration': 1843, 'justice': 2438, 'love': 2669, 'hate': 2046, 'truly': 4597, 'classic': 835, 'fantastic': 1651, 'performances': 3229, 'whole': 4873, 'cast': 710, 'especially': 1520, 'goldberg': 1933, 'her': 2085, 'debut': 1143, 'role': 3726, 'made': 2697, 'feel': 1684, 'human': 2188, 'proud': 3444, 'suggest': 4280, 'saturday': 3792, 'world': 4946, 'touches': 4535, 'your': 4991, 'rating': 3529, 'ps': 3453, 'admit': 122, 'shed': 3924, 'tear': 4379, 'joy': 2422, 'final': 1722, 'watching': 4815, 'jerry': 2396, 'rest': 3657, 'poor': 3328, 'excuse': 1564, 'soft': 4051, 'core': 995, 'porno': 3337, 'flick': 1754, 'offensive': 3086, 'lacks': 2505, 'wit': 4908, 'serves': 3895, 'merely': 2815, 'vehicle': 4718, 'self': 3869, 'even': 1533, 'though': 4461, 'runs': 3757, 'quick': 3490, '90': 60, 'minutes': 2859, 'drags': 1345, 'had': 2003, 'common': 906, 'walk': 4775, 'simply': 3986, 'atrocious': 335, 'hello': 2078, 'dave': 1123, 'burning': 627, 'anyone': 259, 'likes': 2602, 'jackie': 2374, 'chan': 746, 'jones': 2418, 'films': 1721, 'main': 2707, 'protagonist': 3441, 'definitely': 1162, 'son': 4070, 'these': 4441, 'two': 4620, 'strange': 4211, 'fathers': 1667, 'characters': 760, 'familiar': 1643, 'similar': 3978, 'action': 100, 'stereotypes': 4179, 'where': 4864, 'original': 3129, 'traditional': 4550, 'hong': 2149, 'kong': 2494, 'style': 4249, 'hollywood': 2137, 'adventure': 130, 'sadly': 3769, 'true': 4596, 'first': 1736, 'english': 1483, 'hardcore': 2034, 'fan': 1648, 'liked': 2600, 'nevertheless': 3002, 'live': 2625, 'feed': 1683, 'sucked': 4270, 'big': 478, 'never': 3001, 'gore': 1941, 'superb': 4296, 'acting': 99, 'hey': 2095, 'whos': 4876, 'surprised': 4313, 'ive': 2372, 'commented': 900, 'must': 2950, 'school': 3813, 'project': 3427, 'students': 4239, 'media': 2789, 'class': 833, 'story': 4207, 'sad': 3767, 'rip': 3700, 'torture': 4529, 'scenes': 3811, 'supposed': 4306, 'guts': 1999, 'twist': 4617, 'leave': 2555, 'cold': 872, 'hole': 2132, 'short': 3946, 'edge': 1418, 'execution': 1566, 'rather': 3528, 'than': 4420, 'blood': 512, 'look': 2646, 'real': 3547, 'violence': 4747, 'reminded': 3619, 'any': 256, 'saw': 3798, 'movies': 2927, 'fun': 1848, 'laughed': 2532, 'couple': 1016, 'times': 4497, 'disappointment': 1275, 'sheer': 3925, 'instead': 2307, 'wasting': 4810, '80': 58, 'else': 1448, 'word': 4937, 'summary': 4290, 'five': 1743, 'girls': 1911, 'lost': 2660, 'way': 4820, 'home': 2142, 'stop': 4201, 'store': 4204, 'directions': 1262, 'hit': 2122, 'car': 680, 'breaking': 570, 'fair': 1630, 'getting': 1901, 'trouble': 4592, 'suddenly': 4273, 'see': 3855, 'coming': 896, 'behind': 447, 'everything': 1544, 'screaming': 3827, 'crying': 1074, 'try': 4600, 'crazy': 1035, 'person': 3238, 'pretty': 3384, 'stays': 4169, 'through': 4477, 'entire': 1502, 'annoying': 249, 'cheap': 774, 'seem': 3861, 'shocking': 3940, 'guess': 1989, 'just': 2437, 'embarrassing': 1454, 'useless': 4695, 'better': 472, 'compare': 911, 'blair': 497, 'witch': 4909, 'crappy': 1032, 'sound': 4081, 'over': 3148, 'top': 4525, 'literally': 2622, 'sorry': 4076, 'scary': 3807, 'only': 3110, 'painful': 3171, 'piece': 3272, 'crap': 1031, 'best': 469, 'chinese': 796, 'ever': 1538, 'lot': 2661, 'hero': 2088, 'tiger': 4491, 'hidden': 2096, 'dragon': 1344, 'unique': 4662, 'combination': 883, 'several': 3905, 'genres': 1889, 'beautiful': 428, 'comedy': 890, 'same': 3778, 'amazing': 209, 'thing': 4450, 'succeeds': 4264, 'enjoyable': 1485, 'lover': 2672, 'sequences': 3888, 'unrealistic': 4677, 'jumping': 2431, 'flying': 1764, 'always': 203, 'looks': 2649, 'great': 1964, 'usually': 4700, 'ghosts': 1903, 'fly': 1763, 'wont': 4932, 'regret': 3591, 'quite': 3495, 'possibly': 3351, 'worst': 4952, 'ready': 3546, 'after': 143, 'ten': 4399, 'laughing': 2533, 'theater': 4427, 'dont': 1324, 'wrong': 4973, 'silly': 3976, 'stupid': 4247, 'premise': 3370, 'writing': 4971, 'humor': 2192, 'seemed': 3862, 'random': 3514, 'would': 4957, 'lead': 2545, 'cult': 1077, 'audience': 352, 'ended': 1470, 'forced': 1787, 'awkward': 374, 'weird': 4841, 'bright': 581, 'light': 2595, 'fisher': 1739, 'felt': 1692, 'utterly': 4702, 'awful': 372, 'she': 3923, 'signed': 3971, 'horrible': 2163, 'thank': 4421, 'pay': 3216, 'strong': 4229, 'cool': 989, 'police': 3322, 'officer': 3092, 'partner': 3198, 'practice': 3363, 'miscast': 2862, 'robbery': 3711, 'murder': 2939, 'refuses': 3587, 'kill': 2468, 'drug': 1373, 'sets': 3899, 'conflict': 939, 'dirty': 1268, 'cop': 991, 'names': 2963, 'freeman': 1829, 'et': 1526, 'al': 170, 'shows': 3960, 'promise': 3430, 'begins': 444, 'fall': 1637, 'soon': 4074, 'justin': 2440, 'introduced': 2337, 'given': 1913, 'opportunity': 3121, 'repeatedly': 3632, 'teenage': 4389, 'go': 1924, 'once': 3106, 'choose': 799, 'former': 1800, 'talented': 4355, 'actors': 104, 'work': 4940, 'craft': 1028, 'amount': 219, 'save': 3794, 'thought': 4462, 'put': 3480, 'years': 4979, 'unconvincing': 4638, 'singer': 3993, 'millions': 2848, 'act': 97, 'successfully': 4267, 'feature': 1678, 'fans': 1650, 'able': 66, 'ignore': 2224, 'obvious': 3071, 'talent': 4354, 'aside': 315, 'few': 1700, 'holes': 2133, 'such': 4268, 'sudden': 4272, 'ability': 65, 'deadly': 1133, 'operation': 3117, 'thoroughly': 4459, 'obviously': 3072, 'low': 2676, 'budget': 610, 'filmed': 1717, 'british': 589, 'overcome': 3151, 'california': 650, 'late': 2523, '60s': 54, 'accurate': 90, 'version': 4720, 'killings': 2473, 'town': 4541, 'bay': 416, 'area': 286, '1968': 16, 'james': 2378, 'george': 1893, 'believed': 455, 'arthur': 305, 'allen': 188, 'game': 1864, 'cat': 713, 'mouse': 2919, 're': 3535, 'crime': 1055, 'emotional': 1459, 'dying': 1393, 'type': 4621, 'disease': 1285, 'knowing': 2490, 'totally': 4532, 'obsessed': 3069, 'point': 3316, 'losing': 2658, 'family': 1645, 'becoming': 435, 'full': 1846, 'blown': 516, 'alcoholic': 177, 'along': 195, 'serial': 3889, 'killers': 2471, 'left': 2561, 'ending': 1471, 'otherwise': 3137, 'typical': 4623, 'interest': 2323, 'unreal': 4676, 'mix': 2876, 'french': 1830, 'suggested': 4281, 'bit': 488, 'hill': 2108, 'music': 2946, 'chase': 769, 'thrown': 4481, 'sounds': 4084, 'spoiler': 4123, 'tedious': 4387, 'fashion': 1659, 'while': 4868, 'woman': 4921, 'period': 3236, 'dress': 1357, 'run': 3755, 'woods': 4935, 'set': 3898, 'upon': 4684, 'attached': 336, 'man': 2721, 'bear': 420, 'rat': 3525, 'suit': 4284, 'charge': 761, 'gets': 1900, 'too': 4522, 'screen': 3829, 'anyway': 261, 'thats': 4425, 'shock': 3938, 'thus': 4486, 'talked': 4359, 'waste': 4808, 'event': 1535, 'idea': 2213, 'prince': 3396, 'singing': 3995, 'boy': 557, 'probably': 3407, 'performance': 3228, 'won': 4925, 'oscar': 3133, '1984': 23, 'under': 4639, 'little': 2624, 'room': 3735, 'isnt': 2362, 'revealing': 3672, 'collection': 874, 'unless': 4669, 'got': 1944, 'except': 1556, 'am': 204, 'batman': 413, 'loved': 2670, 'old': 3100, 'let': 2579, 'think': 4452, 'problem': 3408, 'mask': 2752, 'beyond': 476, 'return': 3665, 'mr': 2929, 'sub': 4252, 'zero': 4996, 'also': 199, 'seems': 3864, 'dark': 1115, 'fight': 1707, 'anyways': 262, 'rent': 3626, 'almost': 193, 'done': 1322, 'john': 2409, 'vampires': 4712, 'entertaining': 1499, 'solid': 4057, 'popcorn': 3331, 'entertainment': 1500, 'small': 4033, 'enough': 1491, 'special': 4097, 'effects': 1431, 'till': 4493, 'dawn': 1127, 'los': 2653, 'tries': 4585, 'starting': 4158, 'rock': 3720, 'star': 4150, 'jon': 2416, 'playing': 3300, 'havent': 2053, 'roles': 3727, 'convinced': 984, 'expecting': 1578, 'grab': 1949, 'life': 2592, 'doing': 1312, 'job': 2405, 'means': 2783, 'part': 3193, 'thinking': 4453, 'course': 1019, 'honest': 2146, 'worse': 4951, 'played': 3297, 'dressed': 1358, 'killer': 2470, 'machine': 2693, 'vampire': 4711, 'leader': 2546, 'we': 4823, 'met': 2822, 'mars': 2746, 'plays': 3301, 'sexy': 3911, 'moving': 2928, 'fast': 1661, 'snake': 4042, 'thin': 4449, 'erotic': 1515, 'supporting': 4304, 'movement': 2923, 'director': 1264, 'parts': 3199, 'turning': 4608, 'sensitive': 3879, 'directors': 1266, 'personal': 3240, 'note': 3044, 'different': 1248, 'strength': 4219, 'weakest': 4825, 'pure': 3471, 'second': 3846, 'might': 2835, 'disappointed': 1273, 'mistake': 2871, 'massacre': 2754, 'bar': 396, 'compared': 912, 'ruins': 3752, 'expect': 1575, 'american': 213, 'european': 1530, 'cinema': 816, 'eager': 1396, 'tell': 4395, 'us': 4690, 'relationship': 3597, 'between': 475, 'answers': 252, 'slow': 4031, 'showed': 3956, 'past': 3207, 'suffering': 4277, 'creature': 1045, 'beast': 422, 'anybody': 257, 'decides': 1150, 'whether': 4866, 'accepted': 82, 'tommy': 4516, 'lee': 2559, 'wallace': 4782, 'surprisingly': 4316, 'direct': 1258, 'sequel': 3885, 'sometimes': 4067, 'creative': 1041, 'keeping': 2450, 'himself': 2111, 'developing': 1224, 'satisfy': 3790, 'maybe': 2776, 'wonderful': 4928, 'book': 535, 'incredibly': 2270, 'desperate': 1208, 'books': 536, 'shown': 3959, 'australia': 356, 'become': 433, 'storyline': 4208, 'predictable': 3367, 'written': 4972, 'pathetic': 3210, 'wooden': 4934, 'stolen': 4195, 'props': 3439, 'total': 4531, 'recall': 3562, 'single': 3996, 'found': 1811, 'hang': 2022, 'head': 2057, 'shame': 3918, 'needed': 2988, 'money': 2888, 'recorded': 3574, 'video': 4733, 'easy': 1410, 'follow': 1772, 'shooting': 3943, 'sexually': 3910, 'abusive': 75, 'step': 4175, 'father': 1666, 'amanda': 205, 'released': 3603, 'ward': 4793, 'help': 2079, 'secretly': 3851, 'having': 2054, 'affair': 135, 'renting': 3629, 'house': 2178, 'buying': 641, 'within': 4912, '20': 29, 'sees': 3866, 'neighbor': 2992, 'richard': 3686, 'eyes': 1613, 'stops': 4203, 'until': 4680, 'acts': 107, 'innocent': 2294, 'finds': 1728, 'killed': 2469, 'attempted': 341, 'richards': 3687, 'wife': 4884, 'hot': 2174, 'later': 2525, 'attempts': 343, 'whom': 4875, 'supposedly': 4307, 'cares': 690, 'youll': 4988, 'dies': 1245, 'overall': 3150, 'reminds': 3620, 'know': 2489, 'falling': 1639, 'matthau': 2771, 'favorite': 1671, 'again': 146, 'conversation': 980, 'waited': 4771, 'robbins': 3712, 'williams': 4888, 'stars': 4155, 'douglas': 1334, 'garbo': 1871, 'co': 867, 'joan': 2404, 'year': 4978, 'three': 4469, 'presented': 3376, 'dead': 1132, 'viewers': 4739, 'recognize': 3569, 'workers': 4943, 'donald': 1321, 'don': 1320, 'bank': 394, 'throwing': 4480, 'girlfriend': 1910, 'gags': 1862, 'arrested': 298, 'date': 1118, 'theres': 4440, 'here': 2086, 'wait': 4770, 'funnier': 1850, 'want': 4788, 'spoilers': 4124, 'catch': 714, 'turner': 4607, 'alexander': 180, 'hall': 2009, 'mostly': 2910, 'comedies': 889, 'engaged': 1480, 'lucy': 2684, 'famous': 1647, 'spain': 4091, 'sick': 3963, 'commercials': 903, 'remember': 3616, 'looking': 2648, 'paul': 3214, 'commercial': 902, 'cd': 728, 'directing': 1260, 'disgusting': 1286, 'producer': 3415, 'connected': 945, 'spanish': 4092, 'business': 633, 'men': 2805, 'below': 462, 'standards': 4145, 'use': 4692, 'laugh': 2529, 'lets': 2580, 'beings': 449, 'local': 2634, 'toy': 4542, 'lesbian': 2573, 'fighting': 1709, 'example': 1553, 'particular': 3194, 'stupidity': 4248, 'porn': 3336, 'abc': 63, 'huh': 2187, 'driving': 1368, 'driver': 1366, 'tired': 4501, 'stopped': 4202, 'pull': 3461, 'take': 4349, 'drive': 1363, 'pulled': 3462, 'starts': 4159, 'kiss': 2483, 'perform': 3227, 'last': 2521, 'section': 3853, 'elsewhere': 1449, 'shouldnt': 3952, 'mainstream': 2709, 'videos': 4734, 'blockbuster': 509, 'those': 4460, 'appropriate': 283, 'rented': 3628, 'named': 2961, 'went': 4847, 'looked': 2647, 'bought': 552, 'public': 3460, 'deep': 1154, 'eye': 1611, 'opening': 3114, 'bruce': 602, 'unhappy': 4656, 'thinks': 4454, 'bring': 585, 'happiness': 2031, 'bitter': 491, 'result': 3660, 'state': 4160, 'mind': 2849, 'god': 1926, 'comes': 891, 'powers': 3361, 'uses': 4697, 'finally': 1724, 'exactly': 1551, 'exception': 1557, 'process': 3412, 'loses': 2657, 'unfolds': 4651, 'learns': 2553, 'change': 749, 'occur': 3076, 'circumstances': 822, 'attention': 345, 'forces': 1788, 'deeply': 1156, 'respect': 3652, 'says': 3801, 'happy': 2032, 'humble': 2191, 'addition': 118, 'may': 2775, 'lose': 2654, 'ourselves': 3140, 'call': 651, 'mystery': 2956, 'perhaps': 3235, 'thriller': 4472, 'intelligent': 2314, 'genre': 1888, 'quickly': 3491, 'became': 431, 'happen': 2026, 'many': 2732, 'learn': 2550, 'character': 758, 'driven': 1365, 'disappoint': 1272, 'bo': 521, 'jane': 2380, 'parker': 3191, 'whose': 4877, 'long': 2644, 'harris': 2038, 'career': 686, 'africa': 141, 'tracks': 4545, 'tells': 4397, 'stories': 4205, 'giant': 1905, 'monster': 2892, 'heard': 2062, 'jungle': 2434, 'ape': 266, 'miles': 2843, 'guys': 2001, 'leaving': 2557, 'hours': 2177, 'naked': 2959, 'monkey': 2890, 'normally': 3034, 'open': 3112, 'minded': 2850, 'opinions': 3119, 'sole': 4055, 'agree': 155, 'notes': 3046, 'called': 652, 'guide': 1993, 'comments': 901, 'lower': 2677, 'bomb': 531, 'apparently': 270, 'wasnt': 4807, 'clue': 864, 'allowed': 190, 'featured': 1679, 'site': 4005, 'hated': 2047, 'onto': 3111, 'breaks': 571, 'water': 4816, 'die': 1243, 'moon': 2900, 'red': 3576, 'etc': 1527, 'female': 1693, 'paper': 3183, 'shes': 3930, 'expected': 1577, 'birth': 486, 'baby': 376, 'asking': 318, 'religious': 3608, 'alert': 178, 'mentally': 2809, 'retarded': 3663, 'claimed': 829, 'told': 4513, 'moore': 2901, 'soul': 4079, 'heres': 2087, 'hospital': 2172, 'middle': 2833, 'massive': 2756, 'child': 789, 'heart': 2064, 'lone': 2642, 'propaganda': 3435, 'michael': 2829, 'everybody': 1540, 'excellent': 1555, 'nonsense': 3030, 'came': 656, 'nancy': 2964, 'drew': 1360, 'reviews': 3679, 'read': 3543, 'copy': 994, 'thrilling': 4474, 'actual': 108, 'scares': 3806, 'emma': 1457, 'roberts': 3714, 'believable': 453, 'own': 3158, 'portraying': 3343, 'moments': 2887, 'contrary': 974, 'come': 886, 'conservative': 948, 'genuine': 1891, 'balance': 387, 'romance': 3732, 'suspense': 4330, 'wise': 4903, 'decide': 1148, 'trust': 4598, 'prepared': 3371, 'heck': 2071, 'wanna': 4786, 'mini': 2854, 'van': 4713, 'de': 1131, 'far': 1653, 'credible': 1048, 'gorgeous': 1942, 'dvd': 1391, '15': 7, 'episodes': 1508, 'super': 4295, 'superior': 4300, 'skills': 4014, 'hearing': 2063, 'sight': 3969, 'episode': 1507, 'explosions': 1597, 'everywhere': 1545, 'suppose': 4305, 'performs': 3234, 'fancy': 1649, 'joke': 2414, 'highly': 2105, 'brad': 560, 'pitt': 3280, 'deserved': 1200, 'traveling': 4568, 'david': 1124, 'fame': 1642, 'pick': 3265, 'lewis': 2586, 'infamous': 2284, 'photography': 3260, 'working': 4944, 'disturbed': 1299, 'history': 2121, 'country': 1014, 'sitting': 4007, 'right': 3696, 'masterpiece': 2759, 'closer': 856, 'jean': 2389, 'disturbing': 1300, 'gruesome': 1986, 'inventive': 2341, 'spite': 4117, 'bridge': 578, 'recommended': 3572, 'painfully': 3172, 'christmas': 810, 'equally': 1510, 'paying': 3217, 'usual': 4699, 'childrens': 793, 'charm': 767, 'keeps': 2451, 'walls': 4783, '30': 42, 'touch': 4533, 'inner': 2292, 'unfunny': 4655, 'unbearable': 4633, 'gotten': 1947, 'mess': 2818, 'rachel': 3500, 'perspective': 3245, 'both': 547, 'depth': 1190, 'warmth': 4796, 'nick': 3012, 'level': 2584, 'juvenile': 2441, 'behavior': 446, 'face': 1616, 'spirit': 4113, 'aware': 368, 'fortunately': 1805, 'unlike': 4670, 'fire': 1734, 'agent': 150, 'direction': 1261, 'feels': 1687, 'flow': 1762, 'holiday': 2134, 'staring': 4152, 'widow': 4883, 'display': 1291, 'torn': 4528, 'least': 2554, 'table': 4346, 'subject': 4253, 'hand': 2015, 'actor': 103, 'girl': 1909, 'naive': 2958, 'pictures': 3270, 'religion': 3607, 'photos': 3261, 'certainly': 738, 'tame': 4363, 'todays': 4509, 'cameras': 660, 'excited': 1561, 'night': 3013, 'luck': 2681, 'mary': 2751, 'psycho': 3457, 'wrote': 4974, 'directed': 1259, 'outstanding': 3147, 'interesting': 2325, 'series': 3890, 'jesse': 2397, 'detective': 1220, 'matt': 2768, 'clark': 832, 'west': 4852, 'partly': 3197, 'based': 404, 'someone': 4064, 'pointed': 3317, 'odd': 3080, 'structure': 4233, 'conflicts': 940, 'events': 1536, 'plenty': 3307, 'western': 4853, '1950s': 14, 'still': 4188, 'holds': 2131, 'cuts': 1091, 'powerful': 3360, 'against': 147, 'sidekick': 3966, 'check': 777, 'chance': 747, 'robert': 3713, 'side': 3965, 'range': 3516, 'war': 4792, 'ruthless': 3764, 'neighbors': 2994, 'notorious': 3051, 'blue': 518, 'field': 1704, 'criminal': 1057, 'paced': 3162, 'gritty': 1977, 'tough': 4537, 'picture': 3269, 'across': 96, 'evil': 1548, 'nature': 2975, 'revealed': 3671, 'spoil': 4121, 'surprise': 4312, 'jack': 2373, 'yes': 4982, 'designed': 1203, 'huge': 2185, 'colorful': 878, 'play': 3296, 'control': 977, 'perfect': 3224, 'graphics': 1959, 'owner': 3159, 'reason': 3557, 'bill': 481, 'journey': 2421, 'directly': 1263, 'entertain': 1497, 'viewer': 4738, 'future': 1856, 'ted': 4386, 'using': 4698, 'robots': 3718, 'grim': 1974, 'lives': 2628, 'normal': 3033, 'notch': 3043, 'conversations': 981, 'wannabe': 4787, 'astaire': 330, 'rogers': 3725, 'popularity': 3334, 'americans': 214, 'navy': 2976, 'song': 4071, 'dance': 1103, 'wwii': 4975, 'fred': 1825, 'ginger': 1908, 'decent': 1147, 'notice': 3048, 'cameo': 657, 'betty': 474, 'ball': 388, 'load': 2631, 'berlin': 467, 'songs': 4072, 'including': 2264, 'heavy': 2070, 'dancing': 1107, 'nonetheless': 3029, 'dancer': 1104, 'moves': 2925, 'voice': 4761, 'nice': 3008, 'motion': 2913, 'shoes': 3941, 'lion': 2614, 'king': 2479, 'tale': 4353, 'disney': 1289, 'mean': 2779, 'basically': 407, 'theyre': 4445, 'lame': 2510, 'humour': 2194, 'hilarious': 2106, 'warning': 4800, 'jokes': 2415, 'stage': 4139, 'returning': 3667, 'kinda': 2477, 'willing': 4889, 'lines': 2612, 'lucky': 2683, 'welcome': 4842, 'start': 4156, 'need': 2987, 'cut': 1089, 'frankly': 1823, 'improved': 2255, 'leaves': 2556, 'complain': 919, 'whatsoever': 4861, 'awesome': 371, 'various': 4715, 'situations': 4009, 'rare': 3523, 'spend': 4105, 'youve': 4995, 'missing': 2869, 'inspector': 2299, 'large': 2517, 'mansion': 2731, 'countryside': 1015, 'four': 1812, 'method': 2824, 'mysterious': 2955, 'peace': 3219, 'quiet': 3492, 'charles': 764, 'latest': 2526, 'alice': 182, 'centers': 734, 'experiences': 1582, 'creation': 1040, 'haunting': 2051, 'easily': 1406, 'atmosphere': 333, 'apart': 264, 'fictional': 1703, 'genuinely': 1892, 'surrounding': 4319, 'effective': 1429, 'creep': 1051, 'moment': 2886, 'office': 3091, 'build': 614, 'ground': 1979, 'ones': 3108, 'favor': 1670, 'sweet': 4336, 'christopher': 811, 'teacher': 4375, 'ann': 244, 'young': 4989, 'daughter': 1121, 'gradually': 1952, 'secret': 3849, 'couldve': 1009, 'possible': 3350, 'biggest': 480, 'pleasant': 3302, 'entry': 1504, 'wonderfully': 4929, 'amounts': 220, 'clues': 865, 'revelation': 3674, 'downright': 1337, 'alone': 194, 'works': 4945, 'tortured': 4530, 'memories': 2803, 'museum': 2945, 'discover': 1279, 'clever': 841, 'provide': 3448, 'eerie': 1427, 'helped': 2080, 'lighting': 2596, 'dream': 1354, 'sequence': 3887, 'provides': 3450, 'ultimately': 4628, 'pace': 3161, 'spent': 4108, 'builds': 617, 'mile': 2842, 'changed': 750, 'wouldve': 4959, 'higher': 2101, 'acceptable': 81, 'veteran': 4724, 'upset': 4687, 'realism': 3549, 'cause': 723, 'prove': 3445, 'imagination': 2236, 'goofy': 1939, 'overdone': 3152, 'plain': 3286, 'bore': 540, 'problems': 3409, 'less': 2575, 'watchable': 4812, 'pg': 3250, '13': 4, 'joe': 2407, 'baker': 385, 'texas': 4418, 'shoot': 3942, 'shoots': 3944, 'locked': 2637, 'monk': 2889, 'boat': 523, 'winds': 4895, 'jail': 2376, 'blow': 514, 'catchy': 717, 'theme': 4433, 'mitchell': 2875, 'wow': 4962, 'william': 4887, 'macy': 2695, 'alex': 179, 'married': 2744, 'age': 148, 'crisis': 1060, 'wants': 4791, 'quit': 3494, 'psychiatrist': 3455, 'meets': 2795, 'free': 1827, 'sarah': 3785, 'day': 1129, 'mature': 2773, 'youd': 4987, 'sat': 3786, 'actually': 109, 'friends': 1837, 'somebody': 4062, 'amazingly': 210, 'student': 4238, 'occasionally': 3075, 'college': 875, 'mom': 2885, 'trailer': 4554, 'park': 3190, 'artist': 307, 'eventually': 1537, 'scarecrow': 3804, 'beneath': 464, 'standard': 4144, 'hurt': 2202, 'clearly': 840, 'filmmakers': 1720, 'bin': 483, 'fit': 1740, 'terrible': 4407, 'slasher': 4020, 'women': 4923, 'none': 3028, 'clothing': 861, 'ridiculous': 3693, 'liners': 2611, 'freddy': 1826, 'arnold': 296, 'underlying': 4641, 'nowhere': 3056, 'poorly': 3329, 'chosen': 805, 'assume': 328, 'ugly': 4625, 'average': 362, 'fare': 1655, 'near': 2979, 'jason': 2383, 'angela': 232, 'camp': 662, 'absolute': 71, 'imagined': 2239, 'exist': 1569, 'serious': 3891, 'hell': 2077, 'party': 3200, 'iii': 2227, 'shakespeare': 3915, 'becomes': 434, 'match': 2762, 'memorable': 2802, 'witty': 4917, 'animals': 240, 'cinematography': 820, 'nudity': 3059, 'sexuality': 3909, 'wear': 4830, 'mediocre': 2791, 'blatant': 502, 'laughable': 2530, 'keep': 2449, 'boring': 543, 'whats': 4860, 'canadian': 667, 'produced': 3414, 'zombie': 4997, 'recently': 3567, 'deceased': 1146, 'extended': 1604, 'flashback': 1746, 'friday': 1834, '13th': 5, 'raised': 3508, 'thanks': 4423, 'our': 3139, 'funeral': 1849, 'straight': 4210, 'longer': 2645, 'image': 2233, 'turn': 4605, 'pops': 3332, 'twice': 4613, 'damn': 1100, 'gory': 1943, 'pulls': 3464, 'fake': 1635, 'frame': 1815, 'wouldnt': 4958, 'review': 3676, 'half': 2007, 'speak': 4094, 'itself': 2371, 'cops': 993, 'stealing': 4171, 'drugs': 1374, 'generic': 1885, 'kid': 2464, 'ran': 3513, 'helping': 2081, 'sum': 4289, 'personality': 3242, 'usa': 4691, 'network': 3000, 'screams': 3828, 'idiot': 2218, 'rich': 3685, '70s': 56, 'difference': 1246, 'dialog': 1232, 'sex': 3907, 'laughs': 2534, 'insult': 2309, 'funniest': 1851, 'wish': 4904, 'studio': 4240, 'needs': 2990, 'tape': 4365, 'deserves': 1201, 'extras': 1608, 'kung': 2498, 'fu': 1844, 'edited': 1420, 'broadcast': 591, 'buy': 640, 'vhs': 4725, 'starring': 4154, 'jim': 2402, 'carrey': 696, 'morgan': 2905, 'watched': 4813, 'nightmare': 3014, 'anymore': 258, 'hardly': 2036, 'extent': 1605, 'reporter': 3636, 'grace': 1950, 'bat': 410, 'fairly': 1631, 'please': 3304, 'thoughts': 4464, 'television': 4394, 'comical': 894, 'worthy': 4956, 'fired': 1735, 'page': 3167, 'calling': 653, 'presents': 3377, 'building': 615, 'boss': 546, 'amusing': 221, 'holy': 2140, 'jesus': 2399, 'christ': 807, 'brilliant': 583, 'enter': 1494, 'abuse': 74, 'gain': 1863, 'enemies': 1476, 'lesson': 2577, 'attempt': 340, 'provoking': 3452, 'challenging': 744, 'tom': 4514, 'bottom': 551, '35': 45, 'worth': 4953, 'view': 4736, 'often': 3095, 'personally': 3243, 'martin': 2748, 'overrated': 3156, 'abilities': 64, 'number': 3060, 'scream': 3826, 'arent': 288, 'imaginative': 2237, 'added': 116, 'bull': 619, 'remake': 3612, 'appears': 278, 'dull': 1384, 'stock': 4193, 'convey': 982, 'setting': 3900, 'bland': 500, 'melodramatic': 2798, 'close': 853, 'ups': 4686, 'combined': 885, 'par': 3184, 'imitation': 2241, 'score': 3822, 'likely': 2601, 'atmospheric': 334, 'terror': 4412, 'brilliantly': 584, 'homage': 2141, 'deliver': 1169, 'notable': 3041, 'niro': 3019, 'menacing': 2807, 'opens': 3115, 'mouth': 2920, 'expert': 1585, 'accents': 79, 'originally': 3131, 'england': 1482, 'surely': 4309, 'convincing': 985, 'southern': 4088, 'gifted': 1907, 'physical': 3262, 'fatal': 1664, 'flaw': 1749, 'wishing': 4907, 'ridiculously': 3694, 'finale': 1723, 'situation': 4008, 'tension': 4404, 'effectively': 1430, 'visual': 4757, 'respected': 3653, 'reputation': 3640, 'resort': 3650, 'trick': 4582, 'individuals': 2278, 'imdb': 2240, 'older': 3101, 'hollow': 2135, 'sorts': 4078, 'invisible': 2344, 'similarities': 3979, 'intention': 2319, 'finding': 1727, 'flaws': 1752, 'horrendous': 2162, 'manages': 2725, 'ex': 1549, 'laid': 2508, 'kevin': 2457, 'eccentric': 1414, 'scientist': 3818, 'team': 4378, 'mission': 2870, 'visible': 4753, 'scientists': 3819, 'formula': 1802, 'remains': 3611, 'feelings': 1686, 'paranoia': 3186, 'desperation': 1210, 'begin': 442, 'alien': 183, 'saying': 3800, 'jump': 2429, 'despite': 1211, 'fear': 1676, 'stephen': 4176, 'land': 2511, 'visit': 4755, 'hitler': 2124, 'backdrop': 379, 'tender': 4401, 'mother': 2911, 'six': 4010, 'children': 792, 'military': 2844, 'honor': 2150, 'stay': 4166, 'cannot': 670, 'afford': 138, 'complex': 923, 'sits': 4006, 'chair': 742, 'suicide': 4283, 'homosexual': 2145, 'radio': 3504, 'despair': 1207, 'badly': 383, 'frustrated': 1842, 'cheating': 776, 'husband': 2204, 'acted': 98, 'offers': 3090, 'initial': 2290, 'replaced': 3634, 'afterwards': 145, 'beautifully': 429, 'crafted': 1029, 'proves': 3447, 'actress': 105, 'caliber': 649, 'simple': 3983, 'ordinary': 3128, 'importantly': 2248, 'condition': 937, 'glimpse': 1919, 'understood': 4647, 'stargate': 4151, 'explains': 1589, 'mention': 2810, 'computer': 927, 'race': 3499, 'retired': 3664, 'duty': 1390, 'general': 1880, 'due': 1382, 'attack': 337, 'shut': 3961, 'kidnapped': 2466, 'carter': 703, 'claims': 830, 'gone': 1935, 'determined': 1221, 'daniel': 1111, 'hundreds': 2196, 'captured': 677, 'queen': 3485, 'continues': 971, 'includes': 2263, 'nine': 3017, 'consists': 955, 'rescue': 3643, 'prisoners': 3403, 'prime': 3395, 'saves': 3796, 'earth': 1403, 'alternate': 200, 'bodies': 526, 'grown': 1984, 'include': 2261, 'rebel': 3561, 'dad': 1095, 'cute': 1090, 'avoid': 363, 'global': 1920, 'disaster': 1276, 'skin': 4015, 'teeth': 4393, 'countless': 1012, 'lasted': 2522, 'seasons': 3844, 'season': 3843, 'enemy': 1477, 'brand': 565, 'bringing': 586, 'mysteries': 2954, 'creators': 1044, 'introduction': 2339, 'ben': 463, 'cameron': 661, 'black': 493, 'subtle': 4260, 'kinds': 2478, 'adventures': 131, 'miss': 2866, 'interested': 2324, 'animated': 241, 'occurs': 3078, 'misses': 2868, 'wild': 4885, 'productions': 3420, 'mighty': 2836, 'lord': 2652, 'appeared': 276, 'green': 1971, 'horse': 2170, 'monsters': 2893, 'speed': 4103, 'cg': 739, 'minds': 2852, 'amazed': 208, 'actresses': 106, 'unbelievable': 4634, 'minor': 2857, 'non': 3027, 'suspenseful': 4331, 'deserve': 1199, 'duo': 1386, 'brian': 576, 'sucks': 4271, 'force': 1786, 'target': 4366, 'lonely': 2643, 'cats': 721, 'sleazy': 4023, 'jaw': 2384, 'impressive': 2253, 'fashioned': 1660, 'gothic': 1945, 'mirror': 2861, 'form': 1798, 'villains': 4745, 'toilet': 4512, 'seat': 3845, 'obsession': 3070, 'fat': 1663, 'leading': 2547, 'pointless': 3318, 'subplot': 4255, 'among': 217, 'numbers': 3061, 'hiding': 2099, 'language': 2516, 'turned': 4606, 'cutting': 1092, 'floor': 1759, 'minute': 2858, 'writes': 4970, 'appealing': 272, 'steve': 4181, 'flesh': 1753, 'everyones': 1543, 'sexual': 3908, 'treat': 4572, 'uninteresting': 4660, 'elizabeth': 1445, 'draw': 1349, 'intriguing': 2335, 'lynch': 2691, 'presence': 3373, 'novels': 3053, 'mrs': 2930, 'der': 1191, 'present': 3374, 'case': 707, 'accompanied': 86, 'clear': 839, 'references': 3583, 'exact': 1550, 'content': 966, 'describe': 1194, 'important': 2247, 'central': 735, 'issue': 2364, 'quest': 3486, 'social': 4049, 'contact': 961, 'themes': 4434, 'backgrounds': 381, 'fascinating': 1658, 'filled': 1715, 'splendid': 4119, 'imagery': 2234, 'nasty': 2968, 'extra': 1606, 'impressed': 2251, 'unoriginal': 4673, 'garbage': 1870, 'romantic': 3733, 'eating': 1413, 'ice': 2210, 'dinner': 1254, 'experience': 1580, 'remain': 3609, 'points': 3319, 'cheesy': 781, 'cgi': 740, 'unlikely': 4671, 'completely': 922, 'placed': 3283, 'happening': 2028, 'term': 4405, 'likable': 2598, 'stayed': 4167, 'listen': 2619, 'talk': 4358, 'freak': 1824, 'eva': 1531, 'consistently': 954, 'picked': 3266, 'solution': 4059, 'gay': 1876, 'attracted': 349, 'lying': 2690, 'sister': 4001, 'lake': 2509, 'bell': 458, 'attractive': 351, 'appear': 273, 'road': 3709, 'mine': 2853, 'somehow': 4063, 'mountain': 2917, 'community': 908, 'taken': 4350, 'bunch': 623, 'weekend': 4838, 'lots': 2662, 'primarily': 3393, 'island': 2361, 'dr': 1340, 'color': 877, 'purple': 3473, 'struggles': 4235, 'helps': 2082, 'strongly': 4231, 'affected': 137, 'element': 1442, 'triumph': 4590, 'lived': 2626, 'albert': 174, 'toward': 4539, 'sign': 3970, 'crew': 1053, 'passes': 3203, 'chances': 748, 'impact': 2244, '14': 6, 'crude': 1069, 'lovely': 2671, 'doomed': 1327, 'fights': 1710, 'nobody': 3022, 'animation': 242, 'walking': 4779, 'painting': 3175, 'pages': 3168, 'comics': 895, 'smile': 4036, 'accept': 80, 'tried': 4584, 'spot': 4131, 'ideal': 2214, 'cliche': 843, 'concerns': 934, 'london': 2641, 'position': 3345, 'elderly': 1440, 'thrillers': 4473, 'held': 2074, 'prisoner': 3402, 'neither': 2996, 'nor': 3032, 'fetched': 1698, 'heroine': 2091, 'feet': 1688, 'winter': 4900, 'proved': 3446, 'elements': 1443, 'modern': 2882, 'julia': 2427, 'nicely': 3009, 'rushed': 3760, 'climax': 849, 'sloppy': 4030, 'fell': 1690, 'asleep': 320, 'granted': 1957, 'prevent': 3385, 'caring': 691, 'production': 3419, 'nearly': 2981, 'difficult': 1249, 'dubbed': 1379, 'rate': 3526, 'greater': 1965, 'absolutely': 72, 'hamlet': 2013, 'yourself': 4993, 'critics': 1064, 'flawed': 1750, 'youth': 4994, 'culture': 1079, 'politics': 3326, 'emotion': 1458, 'empathy': 1462, 'anywhere': 263, 'used': 4693, 'counter': 1011, 'purely': 3472, 'technical': 4381, 'remarkably': 3614, 'credits': 1050, 'bizarre': 492, 'desert': 1198, 'dropping': 1371, '17': 9, 'chose': 804, 'lady': 2507, 'context': 968, 'marvelous': 2750, 'forget': 1793, 'pink': 3277, 'visuals': 4759, 'popular': 3333, 'achievement': 94, 'taste': 4369, 'beat': 423, 'seeking': 3859, 'key': 2458, 'demands': 1175, 'release': 3602, 'documentary': 1307, 'overly': 3155, 'dramatic': 1348, 'realized': 3553, 'staged': 4140, 'junk': 2436, 'online': 3109, 'warn': 4797, 'travel': 4567, 'trade': 4547, 'center': 732, 'trite': 4589, 'city': 825, 'fantasy': 1652, 'steals': 4172, 'dreams': 1355, 'reasons': 3560, 'rarely': 3524, 'reunion': 3669, 'critic': 1061, 'angeles': 233, 'gave': 1875, 'glad': 1916, 'adam': 111, 'burt': 629, 'themselves': 4435, 'robin': 3715, 'campy': 664, 'searching': 3842, 'stole': 4194, 'younger': 4990, 'greatest': 1966, 'sun': 4292, 'rise': 3702, 'lab': 2501, 'fail': 1625, 'question': 3487, 'virus': 4752, 'shall': 3916, 'airport': 167, 'sent': 3880, 'already': 197, 'message': 2819, 'spread': 4133, 'assistant': 326, 'truth': 4599, 'represented': 3638, 'france': 1816, '1980': 20, 'box': 555, 'telling': 4396, 'tales': 4357, 'mafia': 2700, 'ii': 2226, 'battles': 415, 'worked': 4941, 'male': 2719, 'anthony': 253, 'oddly': 3081, 'mainly': 2708, 'rooms': 3736, 'somewhat': 4068, 'dry': 1377, 'wondering': 4930, 'basis': 408, 'aka': 168, 'leads': 2548, 'ireland': 2352, 'castle': 712, 'heads': 2059, 'bloody': 513, 'lit': 2621, 'dubbing': 1380, 'decade': 1144, 'talking': 4360, 'practically': 3362, 'answer': 251, 'brain': 562, 'ed': 1415, 'baseball': 403, 'superhero': 4299, 'outer': 3143, 'space': 4090, 'dumb': 1385, 'basketball': 409, 'player': 3298, 'obnoxious': 3067, 'punk': 3468, 'words': 4938, 'selfish': 3870, 'learned': 2551, 'prison': 3401, 'neighborhood': 2993, 'accidentally': 85, 'wishes': 4906, 'magic': 2703, 'tad': 4347, 'realize': 3552, 'according': 88, 'cliché': 844, 'max': 2774, 'buddies': 608, 'terms': 4406, 'gonna': 1936, 'gag': 1861, 'worker': 4942, 'speaks': 4096, 'break': 569, 'aged': 149, 'white': 4870, 'rap': 3520, 'said': 3774, 'horrid': 2165, 'concerned': 932, 'portion': 3338, 'writers': 4969, 'understand': 4643, 'insane': 2296, 'folks': 1771, 'messed': 2821, 'friendly': 1836, 'material': 2766, 'product': 3418, 'charming': 768, 'exceptionally': 1559, 'finish': 1732, 'twelve': 4611, 'mad': 2696, 'magazine': 2701, 'parody': 3192, 'animal': 239, 'art': 304, 'carl': 692, 'correct': 1000, 'theyll': 4444, 'throw': 4479, 'strikes': 4225, 'third': 4455, 'strike': 4224, 'stronger': 4230, 'paris': 3189, 'miracle': 2860, 'humanity': 2189, 'views': 4742, 'hopes': 2159, 'tragic': 4552, 'shots': 3950, 'nude': 3058, 'realise': 3548, 'wearing': 4831, 'womens': 4924, 'clothes': 860, 'group': 1980, 'society': 4050, 'commentary': 899, 'gender': 1878, 'enjoyed': 1486, 'questions': 3489, 'ideas': 2215, 'stellar': 4174, 'terry': 4415, 'brothers': 599, 'handled': 2019, 'fed': 1682, 'brazil': 568, 'ways': 4822, 'visually': 4758, 'compelling': 916, 'striking': 4226, 'willis': 4890, 'delivered': 1170, 'admittedly': 123, 'controversial': 978, 'portrayed': 3342, 'sequels': 3886, 'values': 4710, 'plan': 3287, 'wood': 4933, 'putting': 3482, 'add': 115, 'slightest': 4028, 'code': 869, 'thief': 4448, 'east': 1407, 'effect': 1428, 'frightening': 1839, 'precious': 3366, 'received': 3564, 'ad': 110, 'spending': 4106, 'checking': 778, 'daughters': 1122, 'hair': 2005, 'passed': 3202, 'reality': 3551, 'featuring': 1681, 'failed': 1626, 'express': 1600, 'trash': 4565, 'stiller': 4189, 'loser': 2655, 'kept': 2456, 'costs': 1004, 'bonus': 534, 'rush': 3759, 'earned': 1401, 'write': 4967, 'produce': 3413, 'negative': 2991, 'poetry': 3314, 'adding': 117, 'today': 4508, 'continue': 969, 'worry': 4950, 'silent': 3975, 'narration': 2965, 'corny': 997, 'assigned': 325, 'chapter': 757, 'sci': 3815, 'fi': 1701, 'crowd': 1067, 'aspect': 321, 'appreciated': 280, 'unusual': 4681, 'approach': 282, 'bette': 471, 'essentially': 1523, 'name': 2960, 'screenplay': 3831, 'angles': 237, 'america': 212, 'object': 3066, 'germany': 1898, 'sophisticated': 4075, 'understanding': 4645, 'morality': 2903, 'theatrical': 4430, 'styles': 4250, '70': 55, 'nazis': 2978, 'spy': 4135, 'survivors': 4325, 'tie': 4488, 'existent': 1572, 'confusing': 942, 'harder': 2035, 'waiting': 4772, 'omen': 3104, 'ghost': 1902, 'chicks': 787, 'itll': 2369, 'ass': 323, 'satan': 3787, 'meant': 2784, 'noticed': 3049, 'contains': 964, 'encounters': 1467, 'unfortunately': 4654, 'science': 3816, '3000': 43, 'hammer': 2014, 'mexico': 2827, 'street': 4216, 'ship': 3934, 'treated': 4573, 'cheese': 780, 'adults': 126, 'vincent': 4746, 'terrific': 4409, 'proof': 3434, 'steps': 4177, 'cave': 727, 'dog': 1310, 'twenty': 4612, 'raymond': 3534, 'spots': 4132, 'travels': 4569, 'research': 3644, 'blame': 499, 'recent': 3566, 'earlier': 1399, 'plastic': 3294, 'sell': 3871, 'halloween': 2010, 'shake': 3914, 'burn': 625, 'stick': 4185, 'arrives': 302, 'images': 2235, 'card': 681, 'aliens': 184, 'speaking': 4095, 'goal': 1925, 'luckily': 2682, 'escaped': 1518, 'dozens': 1339, 'pile': 3275, 'perry': 3237, 'law': 2538, 'rolling': 3730, 'bet': 470, 'careers': 687, 'hbo': 2055, 'executive': 1567, 'worthwhile': 4955, 'eddie': 1416, 'sleeping': 4025, 'strangers': 4214, 'aging': 153, 'secrets': 3852, 'power': 3359, 'poetic': 3313, 'matches': 2764, 'rose': 3739, 'private': 3404, 'loss': 2659, 'multiple': 2936, 'others': 3136, 'blah': 496, 'accent': 78, 'talks': 4361, 'emotions': 1461, '11': 2, 'suck': 4269, 'guard': 1988, 'benefit': 465, 'doubt': 1332, 'list': 2617, 'creatures': 1046, 'werent': 4849, 'synopsis': 4344, 'cuba': 1075, 'designs': 1204, 'vast': 4716, 'conspiracy': 956, 'specific': 4099, 'standing': 4146, 'front': 1841, 'president': 3378, 'enters': 1496, 'news': 3005, 'protect': 3443, 'believing': 457, 'staff': 4138, 'fbi': 1675, 'cia': 814, 'ms': 2931, 'masses': 2755, 'dollars': 1315, 'took': 4523, 'plots': 3310, 'zombies': 4998, 'sake': 3775, 'originality': 3130, 'station': 4164, 'government': 1948, 'remaining': 3610, 'fallen': 1638, 'opposite': 3123, 'dig': 1250, 'substance': 4258, 'sing': 3992, 'halfway': 2008, 'credit': 1049, 'lane': 2515, 'efforts': 1433, 'abandoned': 62, 'roll': 3728, 'basement': 405, 'overlook': 3153, 'resulting': 3661, 'hands': 2020, 'north': 3036, 'sort': 4077, 'argue': 290, 'post': 3352, 'proper': 3436, 'irrelevant': 2358, 'lifestyle': 2593, 'bird': 484, '2000': 30, 'relationships': 3598, 'gangster': 1868, 'days': 1130, 'mountains': 2918, 'attacked': 338, 'werewolf': 4850, 'curse': 1086, 'associated': 327, 'rid': 3690, 'dreadful': 1353, 'fury': 1855, 'wolf': 4920, 'whatever': 4859, 'possessed': 3347, 'characterization': 759, 'uneven': 4649, 'incoherent': 2265, 'international': 2326, '1980s': 21, 'titles': 4506, '50s': 52, 'beach': 419, 'flicks': 1755, 'glory': 1922, 'cannibal': 669, '1973': 19, 'capture': 676, 'satisfied': 3789, 'era': 1513, 'historical': 2119, 'screenwriter': 3833, 'improvement': 2256, 'epic': 1506, 'scope': 3821, 'follows': 1775, 'chief': 788, 'academy': 77, 'award': 366, 'winner': 4897, 'johnson': 2411, 'revenge': 3675, 'agents': 151, '1933': 12, 'frank': 1821, 'escape': 1517, 'warren': 4801, 'nelson': 2997, 'joined': 2413, 'homer': 2144, 'harry': 2039, 'dean': 1139, 'hooked': 2153, 'michelle': 2830, 'prostitute': 3440, 'indian': 2274, 'months': 2897, 'edgar': 1417, 'places': 3284, 'loose': 2650, 'narrative': 2966, 'depression': 1189, 'authentic': 358, 'cars': 702, 'weapons': 4829, 'buildings': 616, 'footage': 1782, 'jr': 2423, 'professional': 3421, 'thousands': 4466, 'blank': 501, 'gratuitous': 1961, 'exploitation': 1592, 'status': 4165, 'filmmaker': 1719, 'emphasis': 1463, 'major': 2711, 'gang': 1867, 'members': 2801, 'develops': 1226, 'barely': 399, 'touched': 4534, 'pair': 3176, 'meeting': 2794, 'lovers': 2673, 'em': 1452, 'persona': 3239, 'explored': 1595, 'detail': 1217, 'knowledge': 2491, 'ring': 3698, 'died': 1244, 'carrying': 701, 'gun': 1996, 'facts': 1624, 'humorous': 2193, 'portrays': 3344, 'larger': 2519, 'press': 3379, 'menace': 2806, 'lifetime': 2594, 'flat': 1748, 'stereotype': 4178, 'danger': 1109, 'briefly': 580, 'appearing': 277, '1970s': 17, 'bargain': 400, 'subtitles': 4259, 'largely': 2518, 'forgotten': 1797, 'reviewer': 3677, 'merit': 2816, 'ranks': 3519, 'dust': 1388, 'hint': 2112, 'anger': 235, 'seagal': 3839, 'bullets': 621, 'knife': 2487, 'naturally': 2974, 'drop': 1369, 'guns': 1998, 'fighter': 1708, 'ie': 2221, 'europe': 1529, 'air': 164, 'support': 4303, 'sea': 3838, 'literature': 2623, 'category': 718, 'club': 863, 'tree': 4576, 'thoughtful': 4463, 'changes': 751, 'ned': 2986, 'nostalgic': 3039, 'push': 3477, 'inevitable': 2282, 'failure': 1629, 'measure': 2786, 'rings': 3699, 'artists': 309, 'jackson': 2375, 'impression': 2252, 'opportunities': 3120, 'potentially': 3356, 'sam': 3777, 'spoken': 4126, 'background': 380, 'stress': 4220, 'poignant': 3315, 'importance': 2246, 'million': 2847, 'marketing': 2741, 'faithful': 1634, 'interview': 2329, 'deliberately': 1166, 'stated': 4161, 'intended': 2315, 'contrast': 975, 'adapted': 114, 'served': 3894, 'purpose': 3474, 'bakshi': 386, 'advance': 127, 'curious': 1083, 'potential': 3355, 'soldier': 4053, 'meaningful': 2781, 'blade': 495, 'kurt': 2499, 'russell': 3761, 'virtually': 4751, 'broke': 593, 'portrayal': 3341, 'forward': 1808, 'reasonable': 3558, 'gary': 1873, 'unable': 4631, 'realistic': 3550, 'loving': 2675, 'terrorists': 4414, 'la': 2500, 'sean': 3840, 'families': 1644, 'noble': 3021, 'band': 391, 'wasted': 4809, 'ruined': 3751, 'belongs': 460, 'nowadays': 3055, 'westerns': 4854, 'scott': 3824, 'remind': 3618, 'lousy': 2667, 'lazy': 2543, 'manner': 2729, 'fine': 1729, 'kenneth': 2455, 'carry': 700, 'panic': 3181, 'mayor': 2777, 'jonathan': 2417, 'calls': 654, 'account': 89, 'secretary': 3850, 'letter': 2581, 'lowest': 2678, 'dressing': 1359, 'drag': 1342, 'foot': 1781, 'similarly': 3980, 'powell': 3358, 'integrity': 2311, 'sacrifice': 3766, 'grow': 1982, 'plus': 3311, 'players': 3299, 'hollywoods': 2138, '30s': 44, 'delightful': 1168, 'edward': 1426, 'sentence': 3881, 'mistaken': 2872, 'mob': 2879, 'ruth': 3763, 'talents': 4356, 'warner': 4799, 'jimmy': 2403, 'barbara': 397, 'dislike': 1288, 'unpleasant': 4674, 'audiences': 353, '1930s': 11, 'murderer': 2941, 'viewed': 4737, 'teen': 4388, 'devil': 1228, '80s': 59, 'instantly': 2306, 'gene': 1879, 'metal': 2823, 'hear': 2061, 'pre': 3365, 'cover': 1022, 'demon': 1177, 'price': 3389, 'created': 1037, 'company': 910, 'figured': 1712, 'shop': 3945, 'horrors': 2169, 'nicholson': 3011, 'web': 4833, 'album': 175, 'mundane': 2938, 'everyday': 1541, 'mood': 2898, 'appreciation': 281, 'merits': 2817, 'forgettable': 1794, 'opposed': 3122, 'enjoying': 1487, 'separate': 3883, 'motives': 2916, '100': 1, 'actions': 101, 'hints': 2113, 'realizes': 3554, 'interaction': 2322, 'asks': 319, 'okay': 3099, 'mixed': 2877, 'focuses': 1768, 'intellectual': 2312, 'pleasantly': 3303, 'bleak': 503, 'tone': 4517, 'loud': 2664, 'foreign': 1790, 'dvds': 1392, 'early': 1400, 'remarkable': 3613, 'pacing': 3163, 'pity': 3281, 'broad': 590, 'faults': 1669, 'experiments': 1584, 'reading': 3544, 'via': 4726, 'results': 3662, 'overacting': 3149, 'suitable': 4285, 'truck': 4595, 'principal': 3398, 'believes': 456, 'faith': 1633, 'react': 3540, 'strictly': 4223, 'thrills': 4475, 'scientific': 3817, 'exercise': 1568, 'philosophical': 3253, 'maker': 2714, 'nyc': 3065, 'apartment': 265, 'relies': 3606, 'financial': 1725, 'steal': 4170, 'moral': 2902, 'abysmal': 76, 'deal': 1135, 'boot': 538, 'punishment': 3467, 'ahead': 159, 'burton': 630, 'lawyer': 2541, 'living': 2629, 'drawn': 1351, 'trial': 4580, 'accused': 91, 'fellow': 1691, 'native': 2972, 'wave': 4818, 'hanging': 2023, 'deeper': 1155, 'unknown': 4668, 'beliefs': 452, 'cities': 823, 'laws': 2540, 'discovery': 1282, 'violent': 4748, 'rain': 3506, 'sky': 4017, 'annie': 247, 'study': 4242, 'chris': 806, 'charlie': 765, 'investigation': 2343, 'court': 1020, 'troubled': 4593, 'underground': 4640, 'fears': 1677, 'meaning': 2780, 'morning': 2906, '25': 40, 'opened': 3113, 'lies': 2591, 'doom': 1326, 'possibility': 3349, 'spiritual': 4116, 'beauty': 430, 'sides': 3967, 'adaptation': 113, 'oliver': 3102, 'reed': 3580, 'hugh': 2186, 'grant': 1956, 'embarrassed': 1453, 'hearts': 2066, 'title': 4504, 'weak': 4824, 'link': 2613, 'cheek': 779, 'fox': 1814, 'diana': 1237, 'steven': 4182, 'spielberg': 4110, '24': 39, 'roy': 3745, 'emotionally': 1460, '12': 3, 'stunning': 4244, 'adult': 125, 'columbo': 881, 'falk': 1636, 'rank': 3518, 'experienced': 1581, 'agreed': 156, 'dollar': 1314, 'stylish': 4251, 'track': 4544, 'patrick': 3213, 'harvey': 2042, 'hart': 2041, 'developed': 1223, 'technically': 4382, 'combat': 882, 'guest': 1992, 'mothers': 2912, 'discuss': 1283, 'herself': 2092, 'roger': 3724, 'hurts': 2203, 'craig': 1030, 'bond': 532, 'anne': 246, 'bobby': 525, 'shocked': 3939, 'spends': 4107, 'afternoon': 144, 'pleasure': 3306, 'tea': 4373, 'previously': 3388, 'known': 2492, '2003': 33, '2004': 34, 'fails': 1628, 'reviewers': 3678, 'harsh': 2040, 'mark': 2739, 'heroes': 2089, 'carries': 699, 'bigger': 479, 'league': 2549, 'flashbacks': 1747, 'seconds': 3848, 'editing': 1421, 'connection': 946, 'soap': 4047, 'advice': 133, 'profound': 3423, 'succeed': 4262, 'artistic': 308, 'border': 539, 'hamilton': 2012, 'intimate': 2331, 'territory': 4411, 'focus': 1766, 'considered': 951, 'farce': 1654, 'slowly': 4032, 'cousin': 1021, 'virgin': 4749, 'caught': 722, 'cinematic': 818, 'forms': 1801, 'immediately': 2242, 'pushed': 3478, 'avoided': 364, 'included': 2262, 'threat': 4467, 'risk': 3704, 'topic': 4526, 'successful': 4266, '2006': 36, 'kane': 2442, 'wrestling': 4966, 'tag': 4348, 'defend': 1158, 'taylor': 4372, 'judging': 2425, 'chaos': 755, 'fest': 1696, 'jeff': 2390, 'moved': 2922, 'shortly': 3947, 'nearby': 2980, 'hits': 2125, 'joey': 2408, 'nail': 2957, 'value': 4709, 'suffered': 4276, 'nose': 3037, 'eight': 1436, 'german': 1896, 'wins': 4899, 'championship': 745, 'appreciate': 279, 'kennedy': 2454, 'ride': 3692, 'reaction': 3541, 'win': 4892, 'refreshing': 3586, 'ashley': 313, 'consider': 949, 'bathroom': 412, 'sold': 4052, 'finished': 1733, 'letting': 2583, 'stand': 4143, 'legs': 2566, 'safe': 3771, 'host': 2173, 'constructed': 959, 'security': 3854, 'needless': 2989, 'grade': 1951, 'captures': 678, 'ron': 3734, 'incredible': 2269, 'pop': 3330, 'continued': 970, 'asian': 314, 'currently': 1085, 'selling': 3873, 'highest': 2102, 'depressing': 1188, 'cases': 708, 'spirited': 4114, 'racism': 3502, 'chicago': 785, 'above': 68, 'japanese': 2382, '1996': 26, 'primary': 3394, 'casting': 711, 'musical': 2947, 'learning': 2552, 'kelly': 2452, 'japan': 2381, 'creating': 1039, 'universal': 4665, 'model': 2880, 'haunted': 2050, 'blind': 506, 'carradine': 695, 'devils': 1229, 'angels': 234, 'cameos': 658, 'walken': 4777, 'double': 1331, 'corpse': 999, 'neat': 2982, 'missed': 2867, 'teenager': 4390, 'tragedy': 4551, 'brando': 566, 'essential': 1522, 'terribly': 4408, 'convoluted': 987, 'smith': 4038, 'dick': 1239, 'blake': 498, 'wilson': 4891, 'rob': 3710, 'mans': 2730, 'resolution': 3649, 'ironic': 2355, 'followed': 1773, 'neck': 2985, 'brooks': 596, 'storytelling': 4209, 'melodrama': 2797, 'pitch': 3279, 'brutal': 603, 'narrator': 2967, 'criminals': 1058, 'conventional': 979, 'figures': 1713, 'necessarily': 2983, 'towards': 4540, 'vegas': 4717, 'personalities': 3241, 'daring': 1114, 'psychotic': 3459, 'complexity': 924, 'slick': 4026, 'confidence': 938, 'explanation': 1590, 'considering': 952, 'saga': 3773, 'pieces': 3273, 'surrounded': 4318, 'greed': 1968, 'treasure': 4571, 'staying': 4168, 'row': 3744, 'horrifying': 2167, 'vs': 4767, 'hung': 2197, 'bound': 553, 'tooth': 4524, 'fairy': 1632, 'prize': 3405, 'introduce': 2336, 'legend': 2564, 'worn': 4948, 'saved': 3795, 'candy': 668, 'bare': 398, 'redeeming': 3577, 'motivation': 2914, 'costumes': 1006, 'hopefully': 2157, 'pretentious': 3383, 'saving': 3797, 'innocence': 2293, 'slightly': 4029, 'villain': 4744, 'humans': 2190, 'tongue': 4518, 'teachers': 4376, 'education': 1424, 'costume': 1005, 'wizard': 4919, 'adds': 119, 'wears': 4832, 'perfectly': 3226, 'kicks': 2463, 'identity': 2217, 'listed': 2618, 'victims': 4730, 'attitude': 346, 'boys': 559, 'outrageous': 3145, 'blues': 519, 'segments': 3868, 'fully': 1847, 'necessary': 2984, 'gem': 1877, 'shining': 3933, 'represents': 3639, 'intelligence': 2313, 'dozen': 1338, 'discussion': 1284, 'solely': 4056, 'technique': 4383, 'success': 4265, 'service': 3896, 'logic': 2638, 'properly': 3437, 'length': 2569, 'caine': 647, 'gordon': 1940, 'possibilities': 3348, 'medium': 2792, 'hitchcock': 2123, 'pays': 3218, 'surprises': 4314, 'pleased': 3305, 'doc': 1303, 'calm': 655, 'occasional': 3074, 'savage': 3793, 'source': 4086, 'location': 2635, 'highlights': 2104, 'exciting': 1563, 'fabulous': 1615, 'captain': 674, 'chilling': 794, 'grand': 1953, 'vision': 4754, 'moody': 2899, 'seed': 3856, 'wake': 4774, 'riding': 3695, 'empty': 1465, 'hotel': 2175, 'garden': 1872, 'continuity': 972, 'errors': 1516, 'comparison': 914, 'terrifying': 4410, 'ties': 4490, 'eyed': 1612, 'belief': 451, 'african': 142, 'gods': 1928, 'decided': 1149, 'seek': 3858, 'relate': 3593, 'century': 736, 'dub': 1378, 'comment': 898, 'puts': 3481, 'relatives': 3601, 'meaningless': 2782, 'antics': 255, 'curiosity': 1082, 'requires': 3642, 'horrific': 2166, 'user': 4696, 'unfortunate': 4653, 'definite': 1161, 'bored': 541, 'intense': 2316, 'features': 1680, 'rambo': 3511, 'innovative': 2295, 'sports': 4130, 'football': 1783, 'games': 1865, 'weve': 4856, 'seven': 3903, '75': 57, 'website': 4834, 'dated': 1119, 'twilight': 4614, 'zone': 4999, 'womans': 4922, 'clean': 838, 'pack': 3165, 'disneys': 1290, 'idiotic': 2219, 'gadget': 1860, 'fool': 1779, 'unexpected': 4650, 'indie': 2276, 'producers': 3416, 'bucks': 606, 'decision': 1151, 'blob': 507, 'teens': 4392, 'lively': 2627, 'portray': 3340, 'positive': 3346, 'department': 1182, 'tune': 4602, 'meanwhile': 2785, 'unnecessary': 4672, 'writer': 4968, 'text': 4419, 'damage': 1099, 'suspicious': 4332, 'sullivan': 4288, 'jeremy': 2394, 'hired': 2117, 'training': 4558, 'foster': 1809, 'engaging': 1481, 'independent': 2272, 'disc': 1278, 'cube': 1076, 'vote': 4766, 'available': 361, 'surfing': 4311, 'endless': 1473, 'summer': 4291, 'brown': 601, 'spectacular': 4101, 'makers': 2715, 'hundred': 2195, 'ago': 154, 'interviews': 2330, 'performers': 3232, 'sport': 4129, 'provided': 3449, 'food': 1778, 'discovered': 1280, 'suspect': 4327, 'issues': 2365, 'mentioned': 2811, 'current': 1084, 'generation': 1883, '1960s': 15, '40': 48, 'contemporary': 965, 'involves': 2348, 'responsible': 3656, 'choices': 798, 'whenever': 4863, 'montage': 2894, 'fields': 1705, 'scripts': 3836, 'davies': 1125, 'dude': 1381, '1972': 18, 'dire': 1257, 'cost': 1003, '2005': 35, 'corner': 996, 'gotta': 1946, 'shark': 3921, 'ha': 2002, 'useful': 4694, 'tend': 4400, 'blew': 505, 'depicts': 1186, 'rage': 3505, 'teaching': 4377, 'university': 4667, 'manhattan': 2726, 'covers': 1024, 'generally': 1881, 'examples': 1554, 'midnight': 2834, 'henry': 2084, 'sounded': 4082, 'comedian': 887, 'rocks': 3722, 'ticket': 4487, 'factor': 1622, 'extreme': 1609, 'ultra': 4629, 'cinemas': 817, 'latter': 2528, 'theyve': 4446, 'homeless': 2143, 'wealthy': 4827, 'hunters': 2200, 'fascinated': 1657, 'nightmares': 3015, 'descent': 1193, 'madness': 2698, 'detailed': 1218, 'titled': 4505, 'vacation': 4704, 'canada': 666, 'mummy': 2937, 'deaths': 1142, 'amateur': 206, 'idiots': 2220, 'ladies': 2506, 'flop': 1760, 'stretched': 4222, 'fill': 1714, 'stunts': 4246, 'performed': 3230, 'kapoor': 2443, 'comic': 893, 'con': 928, 'loyal': 2679, 'discovers': 1281, 'pregnant': 3369, 'howard': 2182, 'jewish': 2401, 'send': 3875, 'led': 2558, 'teach': 4374, 'fault': 1668, 'slap': 4018, 'occurred': 3077, 'aspects': 322, 'outcome': 3142, 'print': 3399, 'colour': 880, 'barry': 401, 'brother': 598, 'inept': 2281, 'acid': 95, 'trip': 4588, 'inside': 2297, 'concept': 930, 'record': 3573, 'foul': 1810, 'ironically': 2356, 'cross': 1066, 'aforementioned': 139, 'train': 4556, 'lacking': 2504, 'whilst': 4869, 'device': 1227, 'rats': 3531, 'bag': 384, 'raw': 3532, 'meat': 2787, 'murphy': 2944, 'magical': 2704, 'charlotte': 766, 'golden': 1934, 'packed': 3166, 'generations': 1884, 'basic': 406, 'industry': 2280, 'path': 3209, 'kicked': 2461, 'tall': 4362, 'bollywood': 530, 'flawless': 1751, 'scenery': 3810, 'advise': 134, 'regardless': 3590, 'drives': 1367, 'remote': 3622, 'investigate': 2342, 'murders': 2943, 'suspects': 4328, 'altogether': 202, 'dangerous': 1110, 'improve': 2254, 'author': 359, 'heavily': 2069, 'expression': 1602, 'repetitive': 3633, 'piano': 3264, 'superbly': 4297, 'grey': 1973, 'aunt': 355, 'bed': 436, 'edie': 1419, 'performing': 3233, 'dances': 1106, 'born': 544, 'combine': 884, 'endure': 1475, 'soldiers': 4054, 'tim': 4494, 'blonde': 511, 'walter': 4784, 'conceived': 929, 'brains': 563, 'ryan': 3765, 'chemistry': 782, 'surface': 4310, 'insight': 2298, 'seemingly': 3863, 'false': 1641, 'impossible': 2249, 'hoped': 2156, 'celebrity': 729, 'achieve': 92, 'individual': 2277, 'anna': 245, 'increasingly': 2268, 'progresses': 3426, 'firstly': 1737, 'plane': 3288, 'methods': 2825, 'incomprehensible': 2267, 'busy': 635, 'kim': 2475, 'overlooked': 3154, 'managed': 2723, 'door': 1328, 'multi': 2935, 'facing': 1620, 'britain': 588, 'constantly': 958, 'hitting': 2126, 'disappeared': 1271, 'shallow': 3917, 'politically': 3325, 'chain': 741, 'survive': 4321, 'alas': 172, 'test': 4416, 'removed': 3624, 'somewhere': 4069, 'bang': 393, 'mere': 2814, 'streets': 4217, 'involve': 2345, 'temple': 4398, 'photographer': 3259, 'grew': 1972, 'sings': 3997, 'angry': 238, 'pushing': 3479, 'split': 4120, 'dragged': 1343, 'throws': 4482, 'hatred': 2049, 'hoping': 2160, 'dedicated': 1153, 'poverty': 3357, 'overwhelming': 3157, 'wanting': 4790, 'excitement': 1562, 'initially': 2291, 'cared': 685, 'scared': 3805, 'racist': 3503, 'lyrics': 2692, 'awards': 367, '90s': 61, 'hopeless': 2158, 'boyfriend': 558, 'weeks': 4839, 'broken': 594, 'yeah': 4977, 'hanks': 2025, 'hoffman': 2128, 'dawson': 1128, 'heston': 2094, 'shirley': 3936, 'mike': 2838, 'shelley': 3928, 'winters': 4901, 'qualities': 3483, 'consistent': 953, 'evening': 1534, 'uk': 4626, 'stuck': 4237, 'memory': 2804, 'search': 3841, 'south': 4087, 'faces': 1618, 'gold': 1932, 'listening': 2620, 'health': 2060, 'board': 522, 'battle': 414, 'stomach': 4196, 'shape': 3919, 'wore': 4939, 'enjoys': 1489, 'identify': 2216, 'bits': 490, 'namely': 2962, 'involving': 2349, 'solve': 4060, 'arm': 292, 'distribution': 1298, 'pass': 3201, 'buffs': 612, '40s': 49, '2nd': 41, 'kidding': 2465, 'block': 508, 'sisters': 4002, 'ramones': 3512, 'directs': 1267, 'miserable': 2863, 'loaded': 2632, 'brought': 600, 'evidence': 1546, 'population': 3335, 'smooth': 4041, 'planet': 3289, 'apes': 267, 'cash': 709, 'attacks': 339, 'hire': 2116, 'sutherland': 4333, 'ritter': 3705, 'campbell': 663, 'theaters': 4428, 'fooled': 1780, 'iron': 2354, 'thick': 4447, 'peoples': 3222, 'machines': 2694, 'twisted': 4618, 'species': 4098, 'alive': 186, 'progress': 3425, 'limited': 2606, 'praise': 3364, 'classics': 837, 'claim': 828, 'march': 2734, 'holding': 2130, 'explicit': 1591, 'freedom': 1828, 'channel': 753, 'political': 3324, 'witness': 4914, 'magnificent': 2705, 'inspiration': 2300, 'levels': 2585, 'cole': 873, 'ho': 2127, 'hunting': 2201, 'warrior': 4802, 'victim': 4729, 'utter': 4701, 'confusion': 943, 'repeated': 3631, 'viewings': 4741, 'monkeys': 2891, 'spoiled': 4122, 'survivor': 4324, 'peters': 3248, 'wicked': 4879, 'belong': 459, 'hold': 2129, 'week': 4837, 'copies': 992, 'generated': 1882, 'reasonably': 3559, 'gerard': 1895, 'butler': 637, 'regarding': 3589, 'rule': 3753, 'banned': 395, 'offer': 3087, 'chased': 770, 'enormous': 1490, 'horses': 2171, 'slave': 4022, 'closed': 854, 'timing': 4498, 'washington': 4806, 'challenge': 743, 'fx': 1858, 'natural': 2973, 'amateurish': 207, 'suffer': 4275, 'greatly': 1967, 'buried': 624, 'corrupt': 1001, 'vulnerable': 4768, 'producing': 3417, 'karloff': 2445, 'causes': 725, 'murderous': 2942, 'toys': 4543, 'steel': 4173, 'senseless': 3878, 'lips': 2615, 'mexican': 2826, 'national': 2970, 'wondered': 4927, 'built': 618, 'regard': 3588, 'mildly': 2840, 'daddy': 1096, 'asked': 317, 'cure': 1081, 'shorts': 3948, 'tremendous': 4579, 'exceptional': 1558, 'suited': 4286, 'empire': 1464, 'solo': 4058, 'official': 3094, 'established': 1524, 'alright': 198, 'luke': 2687, 'destruction': 1216, 'fitting': 1742, 'wars': 4804, 'details': 1219, 'loosely': 2651, 'reynolds': 3684, 'intent': 2318, 'sons': 4073, 'thrill': 4471, 'arrive': 300, 'threatening': 4468, 'phone': 3255, 'suggests': 4282, 'dating': 1120, 'further': 1853, 'davis': 1126, 'immensely': 2243, 'twists': 4619, 'demented': 1176, 'concern': 931, 'sincere': 3991, 'whoever': 4872, 'september': 3884, 'danny': 1112, 'bob': 524, 'accident': 84, 'raise': 3507, 'kate': 2446, 'following': 1774, 'description': 1197, 'elvis': 1451, 'parent': 3187, 'donna': 1323, 'aired': 165, 'enthusiasm': 1501, 'recognized': 3570, 'focused': 1767, 'charismatic': 763, 'walked': 4776, 'miserably': 2864, 'satire': 3788, 'redemption': 3578, 'hadnt': 2004, 'brief': 579, 'makeup': 2717, 'isolated': 2363, 'destroy': 1213, 'involvement': 2347, 'bite': 489, 'drops': 1372, 'duke': 1383, 'worlds': 4947, 'wide': 4880, 'angle': 236, 'blows': 517, 'walks': 4780, 'plant': 3293, 'burns': 628, 'lesser': 2576, 'entirely': 1503, 'cartoon': 704, 'pain': 3170, 'wells': 4845, 'weapon': 4828, 'choice': 797, 'purposes': 3475, 'honestly': 2147, 'disjointed': 1287, 'compelled': 915, 'skip': 4016, 'paid': 3169, 'portrait': 3339, 'decisions': 1152, 'mgm': 2828, 'rising': 3703, 'cartoons': 705, 'began': 441, 'theyd': 4443, 'oscars': 3134, 'colors': 879, 'jazz': 2387, 'johnny': 2410, 'degree': 1164, 'upper': 4685, 'teenagers': 4391, 'gabriel': 1859, 'eve': 1532, 'classes': 834, 'previous': 3387, 'rape': 3521, 'trio': 4587, 'dialogs': 1233, 'manipulative': 2727, 'promising': 3433, 'edition': 1422, 'capital': 673, 'bush': 632, 'novel': 3052, 'joseph': 2419, 'embarrassment': 1455, 'lloyd': 2630, 'trashy': 4566, 'revolves': 3682, 'apparent': 269, 'program': 3424, 'nomination': 3026, 'desire': 1205, 'displays': 1293, 'remarks': 3615, 'eat': 1411, 'related': 3594, 'types': 4622, 'besides': 468, 'boredom': 542, 'ancient': 225, 'ego': 1435, 'tense': 4403, 'godfather': 1927, 'deals': 1137, 'stretch': 4221, 'breath': 573, 'godzilla': 1929, 'protagonists': 3442, 'korean': 2495, 'kissing': 2484, 'reach': 3536, 'appalling': 268, 'closing': 859, 'rendition': 3625, 'comparing': 913, 'clichés': 846, 'appeal': 271, 'favourite': 1673, 'le': 2544, 'silver': 3977, 'reflection': 3585, 'finest': 1730, 'ray': 3533, 'unbelievably': 4635, 'andy': 230, 'tour': 4538, 'theatre': 4429, 'suffice': 4279, 'lie': 2590, 'definition': 1163, 'count': 1010, 'unforgettable': 4652, 'quotes': 3497, 'offered': 3088, 'wet': 4855, 'lights': 2597, 'glass': 1917, 'coffee': 870, '18': 10, 'ages': 152, 'witnesses': 4916, 'instant': 2305, 'muslim': 2949, 'cultural': 1078, 'realizing': 3555, 'thomas': 4458, 'nominated': 3025, 'maria': 2736, 'promises': 3432, 'richardson': 3688, 'mistress': 2874, 'wes': 4851, 'craven': 1034, 'providing': 3451, 'ethan': 1528, 'whereas': 4865, 'lust': 2689, 'intrigued': 2334, 'relatively': 3600, 'subjects': 4254, 'household': 2179, 'liberal': 2588, 'speech': 4102, 'occasion': 3073, 'semi': 3874, 'gift': 1906, 'inspiring': 2302, 'tricks': 4583, 'criticism': 1063, 'ignorant': 2223, 'grasp': 1960, 'pig': 3274, 'sunday': 4293, 'paint': 3173, 'seventies': 3904, 'twin': 4615, 'vietnam': 4735, 'heroic': 2090, 'depiction': 1185, 'covered': 1023, 'invasion': 2340, 'influence': 2286, 'equal': 1509, 'interpretation': 2328, 'map': 2733, 'states': 4163, 'existence': 1571, 'parallel': 3185, 'ear': 1397, 'dealing': 1136, 'eric': 1514, 'helen': 2075, 'hunt': 2198, 'sandra': 3782, 'noted': 3045, 'formulaic': 1803, 'darker': 1116, 'advertising': 132, 'screening': 3830, 'tonight': 4519, 'specifically': 4100, 'square': 4136, 'messages': 2820, 'depressed': 1187, 'dare': 1113, 'dropped': 1370, 'exposure': 1599, 'subplots': 4256, 'develop': 1222, 'window': 4894, 'allow': 189, 'holmes': 2139, 'yellow': 4981, 'bottle': 550, 'knock': 2488, 'switch': 4339, 'join': 2412, 'courage': 1018, 'explore': 1594, 'valuable': 4708, 'expressions': 1603, 'format': 1799, 'festival': 1697, 'desired': 1206, 'sellers': 3872, 'delight': 1167, 'faced': 1617, 'sid': 3964, 'albeit': 173, 'reaches': 3538, 'heights': 2073, 'viewing': 4740, 'stooges': 4200, 'rex': 3683, 'medical': 2790, 'doctors': 1305, 'spell': 4104, 'pan': 3180, 'bugs': 613, 'unwatchable': 4682, 'mst3k': 2932, 'turkey': 4604, 'rural': 3758, 'babe': 375, 'chuck': 812, 'uncomfortable': 4637, 'louise': 2666, 'sadistic': 3768, 'vicious': 4728, 'defined': 1160, 'billy': 482, 'bible': 477, 'judge': 2424, 'absurd': 73, 'grave': 1962, 'stands': 4147, 'environment': 1505, 'dealt': 1138, 'corruption': 1002, 'manage': 2722, 'intensity': 2317, 'promised': 3431, 'cable': 644, 'rental': 3627, 'diane': 1238, 'keaton': 2448, 'sympathy': 4343, 'fulci': 1845, 'italy': 2368, 'gas': 1874, 'beloved': 461, 'handed': 2016, 'inspired': 2301, 'pool': 3327, 'impress': 2250, 'souls': 4080, 'ashamed': 312, 'therefore': 4439, 'bother': 548, 'fiction': 1702, 'advanced': 128, 'technology': 4385, 'creates': 1038, '2001': 31, 'classical': 836, 'forbidden': 1785, 'logical': 2639, 'statement': 4162, 'limits': 2607, 'destiny': 1212, 'jaws': 2385, '1983': 22, 'jeffrey': 2391, 'trapped': 4564, 'larry': 2520, 'grinch': 1975, 'projects': 3428, 'chess': 783, 'dramas': 1347, 'spooky': 4128, 'wonders': 4931, 'dogs': 1311, 'voices': 4763, 'shadow': 3912, 'advantage': 129, 'susan': 4326, 'draws': 1352, 'catherine': 719, 'appearance': 274, 'philosophy': 3254, 'bus': 631, 'groups': 1981, 'spike': 4111, 'lawrence': 2539, 'claire': 831, 'competent': 917, 'nazi': 2977, 'pro': 3406, 'notion': 3050, 'root': 3737, 'suffers': 4278, 'showdown': 3955, 'punch': 3466, 'soccer': 4048, 'restored': 3659, 'childhood': 790, 'swear': 4334, 'scripted': 3835, 'ah': 158, 'arrived': 301, 'composed': 926, 'fifteen': 1706, 'scores': 3823, 'georges': 1894, 'emily': 1456, 'generous': 1886, 'bold': 528, 'unsettling': 4679, 'mild': 2839, 'victor': 4731, 'pet': 3246, 'louis': 2665, 'worried': 4949, 'wind': 4893, 'sitcom': 4004, 'army': 295, 'matthew': 2772, 'mid': 2832, 'passing': 3204, 'forth': 1804, 'thugs': 4484, 'excessive': 1560, 'underrated': 4642, 'decades': 1145, 'charisma': 762, 'jerk': 2395, 'chorus': 803, 'wedding': 4836, 'marriage': 2743, 'stone': 4197, 'eyre': 1614, 'timothy': 4499, 'dalton': 1098, 'rochester': 3719, 'broadway': 592, 'ludicrous': 2685, 'horribly': 2164, 'stranger': 4213, 'clown': 862, 'skill': 4013, 'cabin': 643, 'uncle': 4636, 'reflect': 3584, 'intentions': 2321, 'disbelief': 1277, 'contest': 967, 'spoke': 4125, 'shell': 3927, 'titanic': 4503, 'elegant': 1441, 'contrived': 976, 'recording': 3575, 'familys': 1646, 'tradition': 4549, 'appearances': 275, 'warriors': 4803, 'guessed': 1990, 'trilogy': 4586, 'critical': 1062, 'superman': 4301, 'returns': 3668, 'arts': 310, 'delivers': 1172, 'fresh': 1833, 'hed': 2072, 'studios': 4241, 'leo': 2571, 'rights': 3697, 'illogical': 2231, 'suspend': 4329, 'committed': 905, 'design': 1202, '3d': 46, 'hence': 2083, 'dolls': 1316, 'stiff': 4187, 'lacked': 2503, 'rules': 3754, 'transformation': 4560, 'stan': 4142, 'stinker': 4191, 'hysterical': 2208, 'credibility': 1047, 'urge': 4689, 'arrogant': 303, 'boxing': 556, 'round': 3742, 'jobs': 2406, 'factory': 1623, 'endearing': 1469, 'relevant': 3604, 'marks': 2742, 'maggie': 2702, 'tony': 4521, 'hat': 2045, 'arms': 294, 'ensemble': 1492, 'perfection': 3225, 'bone': 533, 'delivery': 1173, 'proceeds': 3411, 'pretending': 3382, 'females': 1694, 'shower': 3957, 'watches': 4814, 'cox': 1026, 'capable': 672, 'walker': 4778, 'arguably': 289, 'changing': 752, 'flash': 1745, 'creativity': 1042, 'noir': 3023, 'laura': 2536, 'andrews': 229, 'constant': 957, 'welles': 4844, 'likewise': 2603, 'gangsters': 1869, 'cage': 645, 'repeat': 3630, 'universe': 4666, 'anderson': 227, 'spin': 4112, 'atlantis': 332, 'guessing': 1991, 'hills': 2109, 'fish': 1738, 'plans': 3292, 'undoubtedly': 4648, 'smart': 4035, 'sheriff': 3929, 'receive': 3563, 'pilot': 3276, 'stale': 4141, 'directorial': 1265, 'stevens': 4183, 'agrees': 157, 'sue': 4274, 'incompetent': 2266, 'spare': 4093, 'cleverly': 842, 'italian': 2367, 'handle': 2018, 'fourth': 1813, 'wall': 4781, 'executed': 1565, 'worthless': 4954, 'prefer': 3368, 'artificial': 306, 'tight': 4492, 'numerous': 3062, 'franchise': 1817, 'poem': 3312, 'presentation': 3375, 'translation': 4562, 'ruin': 3750, 'existed': 1570, 'engage': 1479, 'danes': 1108, 'sword': 4340, 'offering': 3089, 'locations': 2636, 'forest': 1791, 'represent': 3637, 'symbolism': 4341, 'winning': 4898, 'tomatoes': 4515, 'russian': 3762, 'pretend': 3381, 'nurse': 3063, 'subsequent': 4257, 'relative': 3599, 'noise': 3024, 'martial': 2747, 'concerning': 933, 'purchase': 3469, '1990': 24, 'bbc': 417, 'devoted': 1231, 'supernatural': 4302, 'spider': 4109, 'simon': 3982, 'ought': 3138, 'notably': 3042, 'allowing': 191, 'ignored': 2225, 'jumps': 2432, 'rocket': 3721, 'secondly': 3847, 'relief': 3605, 'cringe': 1059, 'trek': 4578, 'roman': 3731, 'distant': 1295, 'futuristic': 1857, 'physically': 3263, 'system': 4345, 'thousand': 4465, 'equipment': 1511, 'button': 639, 'bullet': 620, 'petty': 3249, 'river': 3707, 'required': 3641, 'breathtaking': 574, 'christian': 808, 'endings': 1472, 'village': 4743, 'faster': 1662, 'birthday': 487, 'resembles': 3646, 'kay': 2447, 'roots': 3738, 'fix': 1744, 'clips': 852, 'described': 1195, 'downhill': 1336, 'goodness': 1938, 'reached': 3537, 'von': 4765, 'planned': 3290, 'aint': 163, 'molly': 2884, 'cell': 730, 'ripped': 3701, 'nervous': 2999, 'leslie': 2574, 'complaint': 920, 'bothered': 549, 'manager': 2724, 'coach': 868, 'regular': 3592, 'mel': 2796, 'typically': 4624, 'angel': 231, 'forever': 1792, 'trees': 4577, '1st': 28, 'forgot': 1796, 'helicopter': 2076, 'adorable': 124, 'singers': 3994, 'cliff': 847, 'tiresome': 4502, 'raising': 3509, 'hip': 2114, 'gross': 1978, 'pie': 3271, '50': 51, 'crocodile': 1065, 'awe': 370, 'li': 2587, 'wound': 4960, 'irritating': 2359, 'annoyed': 248, 'resemblance': 3645, 'majority': 2712, 'sally': 3776, 'san': 3780, 'urban': 4688, 'warming': 4795, 'drink': 1361, 'storm': 4206, 'icon': 2211, 'civil': 826, 'union': 4661, 'bands': 392, 'farm': 1656, 'germans': 1897, 'exposed': 1598, 'understated': 4646, 'houses': 2180, 'opera': 3116, 'depicting': 1184, 'hide': 2097, 'dear': 1140, 'birds': 485, 'exaggerated': 1552, 'latin': 2527, 'finger': 1731, 'phantom': 3251, 'mall': 2720, 'fits': 1741, 'brutally': 604, 'survived': 4322, 'desperately': 1209, 'satisfying': 3791, 'ken': 2453, 'karen': 2444, 'ridden': 3691, 'afraid': 140, 'cards': 683, 'sir': 4000, 'rough': 3741, 'daily': 1097, 'landscape': 2513, 'survival': 4320, 'revolution': 3680, 'struggle': 4234, 'fate': 1665, 'energy': 1478, 'distance': 1294, 'bears': 421, 'swim': 4337, 'experiment': 1583, 'per': 3223, 'vivid': 4760, 'cinematographer': 819, 'francis': 1818, 'smaller': 4034, 'gentle': 1890, 'lees': 2560, 'prior': 3400, 'trailers': 4555, 'admire': 121, 'denzel': 1181, 'sappy': 3784, 'hype': 2207, 'implausible': 2245, 'response': 3654, 'reduced': 3579, 'destroyed': 1214, 'demand': 1174, 'assumed': 329, 'anime': 243, 'gundam': 1997, 'wing': 4896, 'stereotypical': 4180, 'movements': 2924, 'hook': 2152, 'explaining': 1588, 'elaborate': 1439, 'crucial': 1068, 'forty': 1807, 'restaurant': 3658, 'cowboy': 1025, 'buck': 605, 'voight': 4764, 'carrie': 697, 'rocky': 3723, 'competition': 918, 'reveals': 3673, 'balls': 390, 'princess': 3397, 'elephant': 1444, 'cruel': 1070, 'treats': 4575, 'crash': 1033, 'blowing': 515, 'tons': 4520, 'throat': 4476, 'professor': 3422, 'headed': 2058, 'surreal': 4317, 'psychological': 3458, 'sadness': 3770, 'favorites': 1672, 'vague': 4705, 'flynn': 1765, 'frequent': 1831, 'editor': 1423, 'leonard': 2572, 'glover': 1923, 'margaret': 2735, 'gripping': 1976, 'woody': 4936, 'digital': 1251, 'intrigue': 2333, 'chick': 786, 'settings': 3901, 'chaplin': 756, 'spring': 4134, 'reminiscent': 3621, 'comedic': 888, 'eg': 1434, 'taxi': 4371, 'snow': 4045, 'rangers': 3517, 'airplane': 166, 'master': 2757, '3rd': 47, 'murdered': 2940, 'remembered': 3617, 'handsome': 2021, 'cusack': 1088, 'remotely': 3623, 'slapstick': 4019, 'raped': 3522, 'grandmother': 1955, 'odds': 3082, 'masterful': 2758, 'kitchen': 2485, 'reaching': 3539, 'florida': 1761, 'passion': 3205, 'waitress': 4773, 'ya': 4976, 'scenario': 3808, 'awfully': 373, 'tied': 4489, 'uwe': 4703, 'boll': 529, 'bud': 607, 'phony': 3256, 'julie': 2428, 'arrival': 299, 'drinking': 1362, 'witnessed': 4915, 'riveting': 3708, 'adams': 112, 'orders': 3127, 'yelling': 4980, 'dancers': 1105, 'wished': 4905, 'glorious': 1921, 'scheme': 3812, 'aid': 160, 'introduces': 2338, 'share': 3920, 'unintentionally': 4659, 'dreary': 1356, 'parties': 3196, 'topless': 4527, 'rubbish': 3748, 'alongside': 196, 'blend': 504, 'handful': 2017, 'ears': 1402, 'dignity': 1252, 'routine': 3743, 'frankenstein': 1822, 'destroying': 1215, 'amongst': 218, 'pamela': 3179, 'pants': 3182, '16': 8, 'bedroom': 437, '2002': 32, 'miike': 2837, '1999': 27, 'pulp': 3465, 'tarzan': 4367, 'terrorist': 4413, 'nation': 2969, 'soviet': 4089, 'disagree': 1269, 'cruise': 1071, 'mentions': 2813, 'analysis': 224, 'stanwyck': 4149, 'beer': 439, 'instinct': 2308, 'channels': 754, 'insulting': 2310, 'stinks': 4192, 'marry': 2745, 'convince': 983, 'plausible': 3295, 'severe': 3906, 'brave': 567, 'tiny': 4500, 'ham': 2011, 'property': 3438, 'wayne': 4821, 'butt': 638, 'victoria': 4732, 'norman': 3035, 'thumbs': 4485, 'sidney': 3968, 'lumet': 2688, 'legendary': 2565, '20th': 38, 'mistakes': 2873, 'someones': 4065, 'gray': 1963, 'hank': 2024, 'hates': 2048, 'misery': 2865, 'serving': 3897, 'philip': 3252, 'wreck': 4965, 'mario': 2738, 'nostalgia': 3038, 'beats': 426, 'sunshine': 4294, 'starred': 4153, 'pearl': 3220, 'kudos': 2497, 'versus': 4722, 'royal': 3746, 'heat': 2067, 'hardy': 2037, 'inevitably': 2283, 'crush': 1072, 'snl': 4044, 'quirky': 3493, 'fever': 1699, 'australian': 357, 'versions': 4721, 'orson': 3132, 'chases': 771, 'letters': 2582, 'simplicity': 3984, 'celluloid': 731, 'strip': 4228, 'intentionally': 2320, 'commit': 904, 'questionable': 3488, 'sandler': 3781, 'darkness': 1117, 'spoof': 4127, 'reel': 3581, 'jessica': 2398, 'clumsy': 866, 'united': 4664, 'scottish': 3825, 'dialogues': 1235, 'childish': 791, 'dimensional': 1253, 'returned': 3666, 'base': 402, 'ships': 3935, 'holly': 2136, 'audio': 354, '45': 50, 'circle': 821, 'plight': 3308, 'burned': 626, 'hunter': 2199, 'sends': 3876, 'domestic': 1318, 'unit': 4663, 'myers': 2952, 'sounding': 4083, 'sharp': 3922, 'highlight': 2103, 'kirk': 2482, 'inane': 2258, 'mechanical': 2788, 'dynamic': 1394, 'considerable': 950, 'evident': 1547, 'alfred': 181, 'uninspired': 4657, 'rolled': 3729, 'scare': 3803, 'exists': 1573, 'attraction': 350, 'instance': 2304, 'blacks': 494, 'ruby': 3749, 'suits': 4287, 'swimming': 4338, 'tribute': 4581, 'sinatra': 3989, 'mill': 2845, 'india': 2273, 'attitudes': 347, 'stewart': 4184, 'witches': 4910, 'variety': 4714, 'lemmon': 2567, 'minimal': 2855, 'historically': 2120, 'activities': 102, 'mixture': 2878, 'tunes': 4603, 'sink': 3999, 'choreography': 802, 'dickens': 1240, 'dutch': 1389, 'abraham': 69, 'dan': 1102, 'boom': 537, 'jenny': 2393, 'weight': 4840, 'crimes': 1056, 'plague': 3285, 'blunt': 520, 'troubles': 4594, 'kings': 2481, 'warm': 4794, 'breasts': 572, 'wed': 4835, 'fond': 1776, 'aids': 161, 'internet': 2327, 'market': 2740, 'cake': 648, 'shy': 3962, 'relation': 3595, 'creator': 1043, 'offended': 3085, 'capturing': 679, 'essence': 1521, 'accomplished': 87, 'serve': 3893, 'mindless': 2851, 'lessons': 2578, 'sentimental': 3882, 'yesterday': 4983, 'eighties': 1437, 'guilty': 1995, 'stones': 4198, 'drawing': 1350, 'beatty': 427, 'mildred': 2841, 'captivating': 675, 'ultimate': 4627, 'reveal': 3670, 'escapes': 1519, 'pal': 3177, 'leg': 2562, '2007': 37, 'signs': 3973, 'estate': 1525, 'expensive': 1579, 'mass': 2753, 'divorce': 1301, 'amy': 222, 'ease': 1404, 'santa': 3783, 'entertained': 1498, 'graphic': 1958, 'elvira': 1450, 'closet': 858, 'dentist': 1180, 'mate': 2765, 'catching': 716, 'slaughter': 4021, 'paltrow': 3178, 'carol': 693, 'lou': 2663, 'iran': 2350, 'deaf': 1134, 'unaware': 4632, 'report': 3635, 'frequently': 1832, 'akshay': 169, 'splatter': 4118, 'depicted': 1183, 'indians': 2275, 'wrapped': 4964, 'neo': 2998, '1990s': 25, 'st': 4137, 'wendy': 4846, 'responsibility': 3655, 'diamond': 1236, 'psychic': 3456, 'franco': 1820, 'brooklyn': 595, '60': 53, 'mtv': 2933, 'inducing': 2279, 'stood': 4199, 'jamie': 2379, 'grows': 1985, 'vice': 4727, 'attorney': 348, 'warned': 4798, 'justify': 2439, 'hood': 2151, 'closest': 857, 'smiling': 4037, 'dorothy': 1330, 'struggling': 4236, 'lovable': 2668, 'june': 2433, 'complicated': 925, 'thankfully': 4422, 'brilliance': 582, 'closely': 855, 'landscapes': 2514, 'cinderella': 815, 'struck': 4232, 'picking': 3267, 'rick': 3689, 'jake': 2377, 'civilization': 827, 'superficial': 4298, 'brenda': 575, 'jay': 2386, 'facial': 1619, 'ellen': 1446, 'thru': 4483, 'shine': 3931, 'contained': 963, 'alcohol': 176, 'cardboard': 682, 'musicals': 2948, 'lengthy': 2570, 'ballet': 389, 'alan': 171, 'flight': 1757, 'quote': 3496, 'documentaries': 1306, 'significant': 3972, 'countries': 1013, 'doll': 1313, 'virginia': 4750, 'marie': 2737, 'scooby': 3820, 'doo': 1325, 'simmons': 3981, 'twins': 4616, 'un': 4630, 'nicholas': 3010, 'easier': 1405, 'legal': 2563, 'bath': 411, 'focusing': 1769, 'husbands': 2205, 'carpenter': 694, 'schools': 3814, 'nights': 3016, 'earl': 1398, 'defense': 1159, 'wholly': 4874, 'illegal': 2229, 'cooper': 990, 'tap': 4364, 'educational': 1425, 'junior': 2435, 'construction': 960, 'prom': 3429, 'nuclear': 3057, 'causing': 726, 'melting': 2799, 'jumped': 2430, 'reactions': 3542, 'rubber': 3747, 'sneak': 4043, 'slight': 4027, 'ford': 1789, 'caused': 724, 'dolph': 1317, 'motivations': 2915, 'distracting': 1297, 'pulling': 3463, 'clichéd': 845, 'hudson': 2184, 'achieved': 93, 'timeless': 4496, 'carried': 698, 'revolutionary': 3681, 'sleep': 4024, 'settle': 3902, 'inappropriate': 2259, 'crack': 1027, 'guilt': 1994, 'careful': 688, 'task': 4368, 'dracula': 1341, 'fay': 1674, 'journalist': 2420, 'theory': 4437, 'presumably': 3380, 'contain': 962, 'receives': 3565, 'kingdom': 2480, 'chooses': 800, 'stanley': 4148, 'communist': 907, 'drivel': 1364, 'poster': 3353, 'lately': 2524, 'polanski': 3321, 'alike': 185, 'sympathetic': 4342, 'lol': 2640, 'unseen': 4678, 'ratings': 3530, 'linda': 2609, 'influenced': 2287, 'bacall': 377, 'oil': 3097, 'carefully': 689, 'dinosaur': 1255, 'reference': 3582, 'library': 2589, 'vaguely': 4706, 'testament': 4417, 'streep': 4215, 'patients': 3212, 'recognition': 3568, 'trained': 4557, 'voiced': 4762, 'lisa': 2616, 'oz': 3160, 'eastern': 1408, 'happily': 2030, 'delivering': 1171, 'andrew': 228, 'absence': 70, 'liking': 2604, 'robinson': 3716, 'transition': 4561, 'ambitious': 211, 'centered': 733, 'relations': 3596, 'reads': 3545, 'newspaper': 3006, 'doors': 1329, 'hal': 2006, 'purchased': 3470, 'matched': 2763, 'beaten': 424, 'neil': 2995, 'marty': 2749, 'chasing': 772, 'outfit': 3144, 'defeat': 1157, 'amitabh': 216, 'size': 4012, 'thirty': 4456, 'surviving': 4323, 'cynical': 1093, 'trap': 4563, 'heaven': 2068, 'strangely': 4212, 'wisdom': 4902, 'robot': 3717, 'greedy': 1969, 'understandable': 4644, 'april': 284, 'nonsensical': 3031, 'hyde': 2206, 'waters': 4817, 'domino': 1319, 'widely': 4881, 'techniques': 4384, 'describes': 1196, 'forgive': 1795, 'subtlety': 4261, 'corporate': 998, 'lincoln': 2608, 'taught': 4370, 'christians': 809, 'installment': 2303, 'china': 795, 'jet': 2400, 'officers': 3093, 'da': 1094, 'visits': 4756, 'silence': 3974, 'kubrick': 2496, 'attempting': 342, 'string': 4227, 'blond': 510, 'stilted': 4190, 'trail': 4553, 'rotten': 3740, 'segment': 3867, 'smoking': 4040, 'floating': 1758, 'laughably': 2531, 'displayed': 1292, 'inferior': 2285, 'aimed': 162, 'judy': 2426, 'hearted': 2065, 'planning': 3291, 'kicking': 2462, 'extraordinary': 1607, 'enterprise': 1495, 'devoid': 1230, 'photographed': 3258, 'pursuit': 3476, 'jealous': 2388, 'rival': 3706, 'nuts': 3064, 'explosion': 1596, 'eastwood': 1409, 'mickey': 2831, 'picks': 3268, 'curtis': 1087, 'incident': 2260, 'laurel': 2537, 'equivalent': 1512, 'sinister': 3998, 'cup': 1080, 'matrix': 2767, 'landing': 2512, 'waves': 4819, 'awake': 365, 'wealth': 4826, 'priceless': 3390, 'ensues': 1493, 'bourne': 554, 'eaten': 1412, 'samurai': 3779, 'seeks': 3860, 'randomly': 3515, 'preview': 3386, 'masterpieces': 2760, 'proceedings': 3410, 'irony': 2357, 'hop': 2154, 'tracy': 4546, 'cary': 706, 'argument': 291, 'mentioning': 2812, 'giallo': 1904, 'lay': 2542, 'transfer': 4559, 'pat': 3208, 'wives': 4918, 'troops': 4591, 'coherent': 871, 'areas': 287, 'cried': 1054, 'drunken': 1376, 'encounter': 1466, 'brady': 561, 'ocean': 3079, 'buff': 611, 'concert': 935, 'masters': 2761, 'couples': 1017, 'failing': 1627, 'valley': 4707, 'miller': 2846, 'chest': 784, 'guarantee': 1987, 'access': 83, 'paulie': 3215, 'olivier': 3103, 'dennis': 1179, 'colonel': 876, 'racial': 3501, 'brosnan': 597, 'maintain': 2710, 'ralph': 3510, 'glenn': 1918, 'passionate': 3206, 'command': 897, 'differences': 1247, 'adequate': 120, 'newly': 3004, 'exotic': 1574, 'painted': 3174, 'hilariously': 2107, 'month': 2896, 'fortune': 1806, 'doubts': 1333, 'bergman': 466, 'tends': 4402, 'photo': 3257, 'connect': 944, 'elm': 1447, 'madonna': 2699, 'pacino': 3164, 'nations': 2971, 'armed': 293, 'borrowed': 545, 'ian': 2209, 'dinosaurs': 1256, 'exploration': 1593, 'streisand': 4218, 'iraq': 2351, 'distinct': 1296, 'orange': 3125, 'folk': 1770, 'honesty': 2148, 'simplistic': 3985, 'shines': 3932, 'expressed': 1601, 'resident': 3647, '1940s': 13, 'catholic': 720, 'pride': 3391, 'vengeance': 4719, 'furthermore': 1854, 'hideous': 2098, 'succeeded': 4263, 'lily': 2605, 'whale': 4857, 'pseudo': 3454, 'unpredictable': 4675, 'polished': 3323, 'shelf': 3926, 'todd': 4510, 'moronic': 2907, 'performer': 3231, 'che': 773, 'shirt': 3937, 'resources': 3651, 'lena': 2568, 'showcase': 3954, 'simpson': 3987, 'cook': 988, 'smoke': 4039, 'bride': 577, 'bela': 450, 'lugosi': 2686, 'bumbling': 622, 'choreographed': 801, 'clip': 851, 'francisco': 1819, 'widmark': 4882, 'greek': 1970, 'swedish': 4335, 'models': 2881, 'climactic': 848, 'modesty': 2883, 'assault': 324, 'cagney': 646, 'contract': 973, 'trademark': 4548, 'spirits': 4115, 'pit': 3278, 'hippie': 2115, 'morris': 2908, 'wounded': 4961, 'lucas': 2680, 'ingredients': 2289, 'montana': 2895, 'hopper': 2161, 'attend': 344, 'sixties': 4011, 'americas': 215, 'branagh': 564, 'screens': 3832, 'convincingly': 986, 'wacky': 4769, 'scrooge': 3837, 'businessman': 634, 'derek': 1192, 'demons': 1178, 'resist': 3648, 'losers': 2656, 'pot': 3354, 'travesty': 4570, 'damon': 1101, 'safety': 3772, 'comfortable': 892, 'grandfather': 1954, 'disappear': 1270, 'feminist': 1695, 'mann': 2728, 'shadows': 3913, 'wandering': 4785, 'stunt': 4245, 'prequel': 3372, 'catches': 715, 'clint': 850, 'pokemon': 3320, 'companion': 909, 'illness': 2230, 'behave': 445, 'citizen': 824, 'bettie': 473, 'del': 1165, 'mail': 2706, 'khan': 2459, 'fonda': 1777, 'gandhi': 1866, 'rabbit': 3498, 'felix': 1689, 'ninja': 3018}\n"
     ]
    }
   ],
   "source": [
    "print(str(vocabulary))"
   ]
  },
  {
   "cell_type": "markdown",
   "metadata": {},
   "source": [
    "Once you have added the endpoint name to the Lambda function, click on **Save**. Your Lambda function is now up and running. Next we need to create a way for our web app to execute the Lambda function."
   ]
  },
  {
   "cell_type": "markdown",
   "metadata": {},
   "source": [
    "### Setting up API Gateway\n",
    "\n",
    "Now that our Lambda function is set up, it is time to create a new API using API Gateway that will trigger the Lambda function we have just created.\n",
    "\n",
    "Using AWS Console, navigate to **Amazon API Gateway** and then click on **Get started**.\n",
    "\n",
    "On the next page, make sure that **New API** is selected and give the new api a name, for example, `sentiment_analysis_web_app`. Then, click on **Create API**.\n",
    "\n",
    "Now we have created an API, however it doesn't currently do anything. What we want it to do is to trigger the Lambda function that we created earlier.\n",
    "\n",
    "Select the **Actions** dropdown menu and click **Create Method**. A new blank method will be created, select its dropdown menu and select **POST**, then click on the check mark beside it.\n",
    "\n",
    "For the integration point, make sure that **Lambda Function** is selected and click on the **Use Lambda Proxy integration**. This option makes sure that the data that is sent to the API is then sent directly to the Lambda function with no processing. It also means that the return value must be a proper response object as it will also not be processed by API Gateway.\n",
    "\n",
    "Type the name of the Lambda function you created earlier into the **Lambda Function** text entry box and then click on **Save**. Click on **OK** in the pop-up box that then appears, giving permission to API Gateway to invoke the Lambda function you created.\n",
    "\n",
    "The last step in creating the API Gateway is to select the **Actions** dropdown and click on **Deploy API**. You will need to create a new Deployment stage and name it anything you like, for example `prod`.\n",
    "\n",
    "You have now successfully set up a public API to access your SageMaker model. Make sure to copy or write down the URL provided to invoke your newly created public API as this will be needed in the next step. This URL can be found at the top of the page, highlighted in blue next to the text **Invoke URL**."
   ]
  },
  {
   "cell_type": "markdown",
   "metadata": {},
   "source": [
    "## Step 7: Deploying our web app\n",
    "\n",
    "Now that we have a publicly available API, we can start using it in a web app. For our purposes, we have provided a simple static html file which can make use of the public api you created earlier.\n",
    "\n",
    "In the `website` folder there should be a file called `index.html`. Download the file to your computer and open that file up in a text editor of your choice. There should be a line which contains **\\*\\*REPLACE WITH PUBLIC API URL\\*\\***. Replace this string with the url that you wrote down in the last step and then save the file.\n",
    "\n",
    "Now, if you open `index.html` on your local computer, your browser will behave as a local web server and you can use the provided site to interact with your SageMaker model.\n",
    "\n",
    "If you'd like to go further, you can host this html file anywhere you'd like, for example using github or hosting a static site on Amazon's S3. Once you have done this you can share the link with anyone you'd like and have them play with it too!\n",
    "\n",
    "> **Important Note** In order for the web app to communicate with the SageMaker endpoint, the endpoint has to actually be deployed and running. This means that you are paying for it. Make sure that the endpoint is running when you want to use the web app but that you shut it down when you don't need it, otherwise you will end up with a surprisingly large AWS bill."
   ]
  },
  {
   "cell_type": "markdown",
   "metadata": {},
   "source": [
    "### Delete the endpoint\n",
    "\n",
    "Remember to always shut down your endpoint if you are no longer using it. You are charged for the length of time that the endpoint is running so if you forget and leave it on you could end up with an unexpectedly large bill."
   ]
  },
  {
   "cell_type": "code",
   "execution_count": 50,
   "metadata": {},
   "outputs": [],
   "source": [
    "xgb_predictor.delete_endpoint()"
   ]
  },
  {
   "cell_type": "markdown",
   "metadata": {},
   "source": [
    "## Optional: Clean up\n",
    "\n",
    "The default notebook instance on SageMaker doesn't have a lot of excess disk space available. As you continue to complete and execute notebooks you will eventually fill up this disk space, leading to errors which can be difficult to diagnose. Once you are completely finished using a notebook it is a good idea to remove the files that you created along the way. Of course, you can do this from the terminal or from the notebook hub if you would like. The cell below contains some commands to clean up the created files from within the notebook."
   ]
  },
  {
   "cell_type": "code",
   "execution_count": 51,
   "metadata": {},
   "outputs": [],
   "source": [
    "# First we will remove all of the files contained in the data_dir directory\n",
    "!rm $data_dir/*\n",
    "\n",
    "# And then we delete the directory itself\n",
    "!rmdir $data_dir\n",
    "\n",
    "# Similarly we remove the files in the cache_dir directory and the directory itself\n",
    "!rm $cache_dir/*\n",
    "!rmdir $cache_dir"
   ]
  }
 ],
 "metadata": {
  "kernelspec": {
   "display_name": "conda_pytorch_p36",
   "language": "python",
   "name": "conda_pytorch_p36"
  },
  "language_info": {
   "codemirror_mode": {
    "name": "ipython",
    "version": 3
   },
   "file_extension": ".py",
   "mimetype": "text/x-python",
   "name": "python",
   "nbconvert_exporter": "python",
   "pygments_lexer": "ipython3",
   "version": "3.6.10"
  }
 },
 "nbformat": 4,
 "nbformat_minor": 2
}
