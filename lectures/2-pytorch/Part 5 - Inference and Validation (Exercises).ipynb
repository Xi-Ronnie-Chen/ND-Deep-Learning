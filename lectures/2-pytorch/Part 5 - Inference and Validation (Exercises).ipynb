{
 "cells": [
  {
   "cell_type": "markdown",
   "metadata": {},
   "source": [
    "# Inference and Validation\n",
    "\n",
    "Now that you have a trained network, you can use it for making predictions. This is typically called **inference**, a term borrowed from statistics. However, neural networks have a tendency to perform *too well* on the training data and aren't able to generalize to data that hasn't been seen before. This is called **overfitting** and it impairs inference performance. To test for overfitting while training, we measure the performance on data not in the training set called the **validation** set. We avoid overfitting through regularization such as dropout while monitoring the validation performance during training. In this notebook, I'll show you how to do this in PyTorch. \n",
    "\n",
    "As usual, let's start by loading the dataset through torchvision. You'll learn more about torchvision and loading data in a later part. This time we'll be taking advantage of the test set which you can get by setting `train=False` here:\n",
    "\n",
    "```python\n",
    "testset = datasets.FashionMNIST('~/.pytorch/F_MNIST_data/', download=True, train=False, transform=transform)\n",
    "```\n",
    "\n",
    "The test set contains images just like the training set. Typically you'll see 10-20% of the original dataset held out for testing and validation with the rest being used for training."
   ]
  },
  {
   "cell_type": "code",
   "execution_count": 1,
   "metadata": {},
   "outputs": [],
   "source": [
    "import pandas as pd"
   ]
  },
  {
   "cell_type": "code",
   "execution_count": 2,
   "metadata": {},
   "outputs": [],
   "source": [
    "import torch\n",
    "from torchvision import datasets, transforms\n",
    "\n",
    "# Define a transform to normalize the data\n",
    "transform = transforms.Compose([transforms.ToTensor(),\n",
    "                                transforms.Normalize((0.5,), (0.5,))])\n",
    "# Download and load the training data\n",
    "trainset = datasets.FashionMNIST('~/.pytorch/F_MNIST_data/', download=True, train=True, transform=transform)\n",
    "trainloader = torch.utils.data.DataLoader(trainset, batch_size=64, shuffle=True)\n",
    "\n",
    "# Download and load the test data\n",
    "testset = datasets.FashionMNIST('~/.pytorch/F_MNIST_data/', download=True, train=False, transform=transform)\n",
    "testloader = torch.utils.data.DataLoader(testset, batch_size=64, shuffle=True)"
   ]
  },
  {
   "cell_type": "markdown",
   "metadata": {},
   "source": [
    "Here I'll create a model like normal, using the same one from my solution for part 4."
   ]
  },
  {
   "cell_type": "code",
   "execution_count": 3,
   "metadata": {},
   "outputs": [],
   "source": [
    "from torch import nn, optim\n",
    "import torch.nn.functional as F\n",
    "\n",
    "class Classifier(nn.Module):\n",
    "    def __init__(self):\n",
    "        super().__init__()\n",
    "        self.fc1 = nn.Linear(784, 256)\n",
    "        self.fc2 = nn.Linear(256, 128)\n",
    "        self.fc3 = nn.Linear(128, 64)\n",
    "        self.fc4 = nn.Linear(64, 10)\n",
    "        \n",
    "    def forward(self, x):\n",
    "        # make sure input tensor is flattened\n",
    "        x = x.view(x.shape[0], -1)\n",
    "        \n",
    "        x = F.relu(self.fc1(x))\n",
    "        x = F.relu(self.fc2(x))\n",
    "        x = F.relu(self.fc3(x))\n",
    "        x = F.log_softmax(self.fc4(x), dim=1)\n",
    "        \n",
    "        return x"
   ]
  },
  {
   "cell_type": "markdown",
   "metadata": {},
   "source": [
    "The goal of validation is to measure the model's performance on data that isn't part of the training set. Performance here is up to the developer to define though. Typically this is just accuracy, the percentage of classes the network predicted correctly. Other options are [precision and recall](https://en.wikipedia.org/wiki/Precision_and_recall#Definition_(classification_context)) and top-5 error rate. We'll focus on accuracy here. First I'll do a forward pass with one batch from the test set."
   ]
  },
  {
   "cell_type": "code",
   "execution_count": 4,
   "metadata": {},
   "outputs": [
    {
     "name": "stdout",
     "output_type": "stream",
     "text": [
      "torch.Size([64, 10])\n"
     ]
    }
   ],
   "source": [
    "model = Classifier()\n",
    "\n",
    "images, labels = next(iter(testloader))\n",
    "# Get the class probabilities\n",
    "ps = torch.exp(model(images))\n",
    "# Make sure the shape is appropriate, we should get 10 class probabilities for 64 examples\n",
    "print(ps.shape)"
   ]
  },
  {
   "cell_type": "markdown",
   "metadata": {},
   "source": [
    "With the probabilities, we can get the most likely class using the `ps.topk` method. This returns the $k$ highest values. Since we just want the most likely class, we can use `ps.topk(1)`. This returns a tuple of the top-$k$ values and the top-$k$ indices. If the highest value is the fifth element, we'll get back 4 as the index."
   ]
  },
  {
   "cell_type": "code",
   "execution_count": 5,
   "metadata": {},
   "outputs": [
    {
     "name": "stdout",
     "output_type": "stream",
     "text": [
      "tensor([[2],\n",
      "        [2],\n",
      "        [2],\n",
      "        [2],\n",
      "        [2],\n",
      "        [2],\n",
      "        [2],\n",
      "        [2],\n",
      "        [6],\n",
      "        [2]])\n"
     ]
    }
   ],
   "source": [
    "top_p, top_class = ps.topk(1, dim=1)\n",
    "# Look at the most likely classes for the first 10 examples\n",
    "print(top_class[:10,:])"
   ]
  },
  {
   "cell_type": "markdown",
   "metadata": {},
   "source": [
    "Now we can check if the predicted classes match the labels. This is simple to do by equating `top_class` and `labels`, but we have to be careful of the shapes. Here `top_class` is a 2D tensor with shape `(64, 1)` while `labels` is 1D with shape `(64)`. To get the equality to work out the way we want, `top_class` and `labels` must have the same shape.\n",
    "\n",
    "If we do\n",
    "\n",
    "```python\n",
    "equals = top_class == labels\n",
    "```\n",
    "\n",
    "`equals` will have shape `(64, 64)`, try it yourself. What it's doing is comparing the one element in each row of `top_class` with each element in `labels` which returns 64 True/False boolean values for each row."
   ]
  },
  {
   "cell_type": "code",
   "execution_count": 6,
   "metadata": {},
   "outputs": [],
   "source": [
    "equals = top_class == labels.view(*top_class.shape)"
   ]
  },
  {
   "cell_type": "markdown",
   "metadata": {},
   "source": [
    "Now we need to calculate the percentage of correct predictions. `equals` has binary values, either 0 or 1. This means that if we just sum up all the values and divide by the number of values, we get the percentage of correct predictions. This is the same operation as taking the mean, so we can get the accuracy with a call to `torch.mean`. If only it was that simple. If you try `torch.mean(equals)`, you'll get an error\n",
    "\n",
    "```\n",
    "RuntimeError: mean is not implemented for type torch.ByteTensor\n",
    "```\n",
    "\n",
    "This happens because `equals` has type `torch.ByteTensor` but `torch.mean` isn't implemented for tensors with that type. So we'll need to convert `equals` to a float tensor. Note that when we take `torch.mean` it returns a scalar tensor, to get the actual value as a float we'll need to do `accuracy.item()`."
   ]
  },
  {
   "cell_type": "code",
   "execution_count": 7,
   "metadata": {},
   "outputs": [
    {
     "name": "stdout",
     "output_type": "stream",
     "text": [
      "Accuracy: 10.9375%\n"
     ]
    }
   ],
   "source": [
    "accuracy = torch.mean(equals.type(torch.FloatTensor))\n",
    "print(f'Accuracy: {accuracy.item()*100}%')"
   ]
  },
  {
   "cell_type": "markdown",
   "metadata": {},
   "source": [
    "The network is untrained so it's making random guesses and we should see an accuracy around 10%. Now let's train our network and include our validation pass so we can measure how well the network is performing on the test set. Since we're not updating our parameters in the validation pass, we can speed up our code by turning off gradients using `torch.no_grad()`:\n",
    "\n",
    "```python\n",
    "# turn off gradients\n",
    "with torch.no_grad():\n",
    "    # validation pass here\n",
    "    for images, labels in testloader:\n",
    "        ...\n",
    "```\n",
    "\n",
    ">**Exercise:** Implement the validation loop below and print out the total accuracy after the loop. You can largely copy and paste the code from above, but I suggest typing it in because writing it out yourself is essential for building the skill. In general you'll always learn more by typing it rather than copy-pasting. You should be able to get an accuracy above 80%."
   ]
  },
  {
   "cell_type": "code",
   "execution_count": 8,
   "metadata": {},
   "outputs": [
    {
     "name": "stdout",
     "output_type": "stream",
     "text": [
      "(1, 2, 3)\n",
      "([1, 2, 3],)\n",
      "(1, 2, 3)\n"
     ]
    }
   ],
   "source": [
    "def myfunc(*args):\n",
    "    print(args)\n",
    "\n",
    "myfunc(1,2,3)\n",
    "myfunc([1,2,3])\n",
    "myfunc(*[1,2,3])"
   ]
  },
  {
   "cell_type": "code",
   "execution_count": 9,
   "metadata": {
    "scrolled": false
   },
   "outputs": [
    {
     "name": "stdout",
     "output_type": "stream",
     "text": [
      "[Epoch] 1/30\n",
      "Training Loss: 0.5120179648560755\n",
      "Test Loss: 0.46816398288793626\n",
      "Test Accruacy: 0.8228503465652466\n",
      "[Epoch] 2/30\n",
      "Training Loss: 0.38974380723512503\n",
      "Test Loss: 0.392909279959217\n",
      "Test Accruacy: 0.8580812215805054\n",
      "[Epoch] 3/30\n",
      "Training Loss: 0.3546916946355722\n",
      "Test Loss: 0.39734142771951714\n",
      "Test Accruacy: 0.856289803981781\n",
      "[Epoch] 4/30\n",
      "Training Loss: 0.3321604405972622\n",
      "Test Loss: 0.38987612002974104\n",
      "Test Accruacy: 0.865545392036438\n",
      "[Epoch] 5/30\n",
      "Training Loss: 0.3145205609357433\n",
      "Test Loss: 0.3706657801559017\n",
      "Test Accruacy: 0.8712181448936462\n",
      "[Epoch] 6/30\n",
      "Training Loss: 0.3077470582685491\n",
      "Test Loss: 0.373387089770311\n",
      "Test Accruacy: 0.8723129034042358\n",
      "[Epoch] 7/30\n",
      "Training Loss: 0.29376486087563447\n",
      "Test Loss: 0.35034773693342874\n",
      "Test Accruacy: 0.8800756335258484\n",
      "[Epoch] 8/30\n",
      "Training Loss: 0.2807078840318265\n",
      "Test Loss: 0.3661190081553854\n",
      "Test Accruacy: 0.8730095624923706\n",
      "[Epoch] 9/30\n",
      "Training Loss: 0.27601621657419306\n",
      "Test Loss: 0.39427795806887805\n",
      "Test Accruacy: 0.862957775592804\n",
      "[Epoch] 10/30\n",
      "Training Loss: 0.26786130023345767\n",
      "Test Loss: 0.3683975276294028\n",
      "Test Accruacy: 0.8741043210029602\n",
      "[Epoch] 11/30\n",
      "Training Loss: 0.2614484753912446\n",
      "Test Loss: 0.38187802848732394\n",
      "Test Accruacy: 0.8734076619148254\n",
      "[Epoch] 12/30\n",
      "Training Loss: 0.25357263586890977\n",
      "Test Loss: 0.3983424578312856\n",
      "Test Accruacy: 0.8701233863830566\n",
      "[Epoch] 13/30\n",
      "Training Loss: 0.24624885637749996\n",
      "Test Loss: 0.38896485451300433\n",
      "Test Accruacy: 0.8723129034042358\n",
      "[Epoch] 14/30\n",
      "Training Loss: 0.24340208295359414\n",
      "Test Loss: 0.38085878559738207\n",
      "Test Accruacy: 0.8807722926139832\n",
      "[Epoch] 15/30\n",
      "Training Loss: 0.24029464062962577\n",
      "Test Loss: 0.40740414789527846\n",
      "Test Accruacy: 0.8691281676292419\n",
      "[Epoch] 16/30\n",
      "Training Loss: 0.2306829586283548\n",
      "Test Loss: 0.3740252953046446\n",
      "Test Accruacy: 0.8804737329483032\n",
      "[Epoch] 17/30\n",
      "Training Loss: 0.23114246960038315\n",
      "Test Loss: 0.3678076296190547\n",
      "Test Accruacy: 0.8815684914588928\n",
      "[Epoch] 18/30\n",
      "Training Loss: 0.22853402693722166\n",
      "Test Loss: 0.36617528457360665\n",
      "Test Accruacy: 0.8815684914588928\n",
      "[Epoch] 19/30\n",
      "Training Loss: 0.22050009375569155\n",
      "Test Loss: 0.4114853310736881\n",
      "Test Accruacy: 0.877886176109314\n",
      "[Epoch] 20/30\n",
      "Training Loss: 0.2188920195994855\n",
      "Test Loss: 0.39160159220741053\n",
      "Test Accruacy: 0.878284215927124\n",
      "[Epoch] 21/30\n",
      "Training Loss: 0.21126501244713247\n",
      "Test Loss: 0.3742975718845987\n",
      "Test Accruacy: 0.8876393437385559\n",
      "[Epoch] 22/30\n",
      "Training Loss: 0.21358475050152237\n",
      "Test Loss: 0.38571724580351713\n",
      "Test Accruacy: 0.8828622698783875\n",
      "[Epoch] 23/30\n",
      "Training Loss: 0.20760606583962435\n",
      "Test Loss: 0.3742157808819394\n",
      "Test Accruacy: 0.8852508068084717\n",
      "[Epoch] 24/30\n",
      "Training Loss: 0.20107448677709108\n",
      "Test Loss: 0.42074284821179264\n",
      "Test Accruacy: 0.8796775341033936\n",
      "[Epoch] 25/30\n",
      "Training Loss: 0.1995386389145719\n",
      "Test Loss: 0.4118149757954725\n",
      "Test Accruacy: 0.8808718323707581\n",
      "[Epoch] 26/30\n",
      "Training Loss: 0.19670603108177306\n",
      "Test Loss: 0.40824797279705666\n",
      "Test Accruacy: 0.8852508068084717\n",
      "[Epoch] 27/30\n",
      "Training Loss: 0.18781668094715584\n",
      "Test Loss: 0.4204764748644677\n",
      "Test Accruacy: 0.8799760937690735\n",
      "[Epoch] 28/30\n",
      "Training Loss: 0.19250311515828186\n",
      "Test Loss: 0.4226554036615001\n",
      "Test Accruacy: 0.8856489062309265\n",
      "[Epoch] 29/30\n",
      "Training Loss: 0.19122727219261595\n",
      "Test Loss: 0.4060800735168396\n",
      "Test Accruacy: 0.887340784072876\n",
      "[Epoch] 30/30\n",
      "Training Loss: 0.1915776693343576\n",
      "Test Loss: 0.4297499594747261\n",
      "Test Accruacy: 0.8859474658966064\n"
     ]
    }
   ],
   "source": [
    "model = Classifier()\n",
    "criterion = nn.NLLLoss()\n",
    "optimizer = optim.Adam(model.parameters(), lr=0.003)\n",
    "\n",
    "epochs = 30\n",
    "steps = 0\n",
    "\n",
    "train_losses, test_losses = [], []\n",
    "for e in range(epochs):\n",
    "    running_loss = 0\n",
    "    # training\n",
    "    for images, labels in trainloader:\n",
    "        optimizer.zero_grad()\n",
    "        log_ps = model(images)\n",
    "        loss = criterion(log_ps, labels)\n",
    "        loss.backward()\n",
    "        optimizer.step()\n",
    "        running_loss += loss.item()\n",
    "    # validation\n",
    "    accuracy = 0\n",
    "    test_loss = 0\n",
    "    # turn off gradients for validation, save memory and computations\n",
    "    with torch.no_grad():\n",
    "        for images, labels in testloader:\n",
    "            log_ps = model(images)\n",
    "            ps = torch.exp(log_ps)\n",
    "            _, top_class = ps.topk(1, dim=1)\n",
    "            equals = (top_class == labels.view(*top_class.shape))\n",
    "            accuracy += torch.mean(equals.type(torch.FloatTensor))\n",
    "            loss = criterion(log_ps, labels)\n",
    "            test_loss += loss.item()\n",
    "    # store evaluative matrices\n",
    "    n_train = len(trainloader)\n",
    "    n_test = len(testloader)\n",
    "    train_losses.append(running_loss/n_train)\n",
    "    test_losses.append(test_loss/n_test)\n",
    "    print(f'[Epoch] {e+1}/{epochs}')\n",
    "    print(f'Training Loss: {train_losses[-1]}')\n",
    "    print(f'Test Loss: {test_losses[-1]}')\n",
    "    print(f'Test Accruacy: {accuracy/n_test}')"
   ]
  },
  {
   "cell_type": "code",
   "execution_count": 10,
   "metadata": {},
   "outputs": [
    {
     "data": {
      "image/png": "[encoded data removed]",
      "text/plain": [
       "<Figure size 576x432 with 1 Axes>"
      ]
     },
     "metadata": {
      "needs_background": "light"
     },
     "output_type": "display_data"
    }
   ],
   "source": [
    "pd.DataFrame({\n",
    "    'Training Loss': train_losses,\n",
    "    'Test Loss': test_losses\n",
    "}).plot(figsize=(8,6))\n",
    "pass"
   ]
  },
  {
   "cell_type": "markdown",
   "metadata": {},
   "source": [
    "[Using else conditional statement with for loop](https://www.geeksforgeeks.org/using-else-conditional-statement-with-for-loop-in-python/): the else block just after for/while is executed only when the loop is NOT terminated by `break`."
   ]
  },
  {
   "cell_type": "code",
   "execution_count": 11,
   "metadata": {},
   "outputs": [
    {
     "name": "stdout",
     "output_type": "stream",
     "text": [
      "For List 1:\n",
      "list contains an even number\n",
      "\n",
      "For List 2:\n",
      "list does not contain an even number\n"
     ]
    }
   ],
   "source": [
    "# Python 3.x program to check if an array consists  \n",
    "# of even number \n",
    "def contains_even_number(l): \n",
    "    for ele in l:\n",
    "        if ele % 2 == 0: \n",
    "            print(\"list contains an even number\") \n",
    "            break\n",
    "    # This else executes only if break is NEVER\n",
    "    # reached and loop terminated after all iterations.\n",
    "    else:\n",
    "        print(\"list does not contain an even number\") \n",
    "\n",
    "# Driver code \n",
    "print (\"For List 1:\") \n",
    "contains_even_number([1, 9, 8]) \n",
    "print (\"\\nFor List 2:\") \n",
    "contains_even_number([1, 3, 5]) "
   ]
  },
  {
   "cell_type": "markdown",
   "metadata": {},
   "source": [
    "## Overfitting\n",
    "\n",
    "If we look at the training and validation losses as we train the network, we can see a phenomenon known as overfitting.\n",
    "\n",
    "<img src='assets/overfitting.png' width=450px>\n",
    "\n",
    "The network learns the training set better and better, resulting in lower training losses. However, it starts having problems generalizing to data outside the training set leading to the validation loss increasing. The ultimate goal of any deep learning model is to make predictions on new data, so we should strive to get the lowest validation loss possible. One option is to use the version of the model with the lowest validation loss, here the one around 8-10 training epochs. This strategy is called *early-stopping*. In practice, you'd save the model frequently as you're training then later choose the model with the lowest validation loss.\n",
    "\n",
    "The most common method to reduce overfitting (outside of early-stopping) is *dropout*, where we randomly drop input units. This forces the network to share information between weights, increasing it's ability to generalize to new data. Adding dropout in PyTorch is straightforward using the [`nn.Dropout`](https://pytorch.org/docs/stable/nn.html#torch.nn.Dropout) module.\n",
    "\n",
    "```python\n",
    "class Classifier(nn.Module):\n",
    "    def __init__(self):\n",
    "        super().__init__()\n",
    "        self.fc1 = nn.Linear(784, 256)\n",
    "        self.fc2 = nn.Linear(256, 128)\n",
    "        self.fc3 = nn.Linear(128, 64)\n",
    "        self.fc4 = nn.Linear(64, 10)\n",
    "        \n",
    "        # Dropout module with 0.2 drop probability\n",
    "        self.dropout = nn.Dropout(p=0.2)\n",
    "        \n",
    "    def forward(self, x):\n",
    "        # make sure input tensor is flattened\n",
    "        x = x.view(x.shape[0], -1)\n",
    "        \n",
    "        # Now with dropout\n",
    "        x = self.dropout(F.relu(self.fc1(x)))\n",
    "        x = self.dropout(F.relu(self.fc2(x)))\n",
    "        x = self.dropout(F.relu(self.fc3(x)))\n",
    "        \n",
    "        # output so no dropout here\n",
    "        x = F.log_softmax(self.fc4(x), dim=1)\n",
    "        \n",
    "        return x\n",
    "```\n",
    "\n",
    "During training we want to use dropout to prevent overfitting, but during inference we want to use the entire network. So, we need to turn off dropout during validation, testing, and whenever we're using the network to make predictions. To do this, you use `model.eval()`. This sets the model to evaluation mode where the dropout probability is 0. You can turn dropout back on by setting the model to train mode with `model.train()`. In general, the pattern for the validation loop will look like this, where you turn off gradients, set the model to evaluation mode, calculate the validation loss and metric, then set the model back to train mode.\n",
    "\n",
    "```python\n",
    "# turn off gradients\n",
    "with torch.no_grad():\n",
    "    \n",
    "    # set model to evaluation mode\n",
    "    model.eval()\n",
    "    \n",
    "    # validation pass here\n",
    "    for images, labels in testloader:\n",
    "        ...\n",
    "\n",
    "# set model back to train mode\n",
    "model.train()\n",
    "```"
   ]
  },
  {
   "cell_type": "markdown",
   "metadata": {},
   "source": [
    "> **Exercise:** Add dropout to your model and train it on Fashion-MNIST again. See if you can get a lower validation loss or higher accuracy."
   ]
  },
  {
   "cell_type": "code",
   "execution_count": 12,
   "metadata": {},
   "outputs": [],
   "source": [
    "## Define your model with dropout added\n",
    "model = nn.Sequential(\n",
    "    nn.Linear(784, 256),\n",
    "    nn.ReLU(),\n",
    "    nn.Dropout(p=0.2),\n",
    "    nn.Linear(256, 128),\n",
    "    nn.ReLU(),\n",
    "    nn.Dropout(p=0.2),\n",
    "    nn.Linear(128, 64),\n",
    "    nn.ReLU(),\n",
    "    nn.Dropout(p=0.2),\n",
    "    nn.Linear(64, 10),\n",
    "    nn.LogSoftmax(dim=1)\n",
    ")"
   ]
  },
  {
   "cell_type": "code",
   "execution_count": 13,
   "metadata": {
    "scrolled": false
   },
   "outputs": [
    {
     "name": "stdout",
     "output_type": "stream",
     "text": [
      "[Epoch] 1/30\n",
      "Training Loss: 0.5998498957389707\n",
      "Test Loss: 0.48441031632150056\n",
      "Test Accruacy: 0.8277269005775452\n",
      "[Epoch] 2/30\n",
      "Training Loss: 0.48095228353034714\n",
      "Test Loss: 0.4591604648691833\n",
      "Test Accruacy: 0.8359872698783875\n",
      "[Epoch] 3/30\n",
      "Training Loss: 0.45467390680808756\n",
      "Test Loss: 0.4267758575214702\n",
      "Test Accruacy: 0.8376791477203369\n",
      "[Epoch] 4/30\n",
      "Training Loss: 0.43810755041425925\n",
      "Test Loss: 0.43212946727397333\n",
      "Test Accruacy: 0.8482285141944885\n",
      "[Epoch] 5/30\n",
      "Training Loss: 0.4224584682790964\n",
      "Test Loss: 0.41244685298697964\n",
      "Test Accruacy: 0.8538017272949219\n",
      "[Epoch] 6/30\n",
      "Training Loss: 0.40953834111820153\n",
      "Test Loss: 0.38005997373419964\n",
      "Test Accruacy: 0.8646496534347534\n",
      "[Epoch] 7/30\n",
      "Training Loss: 0.3990748783926974\n",
      "Test Loss: 0.394662598990331\n",
      "Test Accruacy: 0.8566879034042358\n",
      "[Epoch] 8/30\n",
      "Training Loss: 0.39747263262393884\n",
      "Test Loss: 0.39544803748844537\n",
      "Test Accruacy: 0.8618630766868591\n",
      "[Epoch] 9/30\n",
      "Training Loss: 0.39448123463371926\n",
      "Test Loss: 0.3824188204327966\n",
      "Test Accruacy: 0.8687300682067871\n",
      "[Epoch] 10/30\n",
      "Training Loss: 0.387886592399464\n",
      "Test Loss: 0.38927295338955653\n",
      "Test Accruacy: 0.8634554147720337\n",
      "[Epoch] 11/30\n",
      "Training Loss: 0.38369339140557024\n",
      "Test Loss: 0.38924779140265886\n",
      "Test Accruacy: 0.8668391704559326\n",
      "[Epoch] 12/30\n",
      "Training Loss: 0.3874853867997747\n",
      "Test Loss: 0.3942670928444832\n",
      "Test Accruacy: 0.8678343892097473\n",
      "[Epoch] 13/30\n",
      "Training Loss: 0.38008331655185107\n",
      "Test Loss: 0.38592991394222165\n",
      "Test Accruacy: 0.8707205653190613\n",
      "[Epoch] 14/30\n",
      "Training Loss: 0.3776558637698449\n",
      "Test Loss: 0.37445216687621585\n",
      "Test Accruacy: 0.868829607963562\n",
      "[Epoch] 15/30\n",
      "Training Loss: 0.37898640766708075\n",
      "Test Loss: 0.38702710134208584\n",
      "Test Accruacy: 0.8648487329483032\n",
      "[Epoch] 16/30\n",
      "Training Loss: 0.3696566713310635\n",
      "Test Loss: 0.3865536532963917\n",
      "Test Accruacy: 0.8681329488754272\n",
      "[Epoch] 17/30\n",
      "Training Loss: 0.36327754587792893\n",
      "Test Loss: 0.38473097609866197\n",
      "Test Accruacy: 0.8681329488754272\n",
      "[Epoch] 18/30\n",
      "Training Loss: 0.36224428433249756\n",
      "Test Loss: 0.3698269465736523\n",
      "Test Accruacy: 0.8767914175987244\n",
      "[Epoch] 19/30\n",
      "Training Loss: 0.3613710029165882\n",
      "Test Loss: 0.38107988912208823\n",
      "Test Accruacy: 0.872113823890686\n",
      "[Epoch] 20/30\n",
      "Training Loss: 0.35663549435227665\n",
      "Test Loss: 0.36517997275871833\n",
      "Test Accruacy: 0.8716162443161011\n",
      "[Epoch] 21/30\n",
      "Training Loss: 0.35506589704357994\n",
      "Test Loss: 0.39745723631731267\n",
      "Test Accruacy: 0.8691281676292419\n",
      "[Epoch] 22/30\n",
      "Training Loss: 0.35669079945603416\n",
      "Test Loss: 0.3669924095842489\n",
      "Test Accruacy: 0.8746019005775452\n",
      "[Epoch] 23/30\n",
      "Training Loss: 0.3520733760570539\n",
      "Test Loss: 0.37287023075067316\n",
      "Test Accruacy: 0.8742038011550903\n",
      "[Epoch] 24/30\n",
      "Training Loss: 0.34936179841028603\n",
      "Test Loss: 0.3785031475838582\n",
      "Test Accruacy: 0.8754976391792297\n",
      "[Epoch] 25/30\n",
      "Training Loss: 0.3524788118311083\n",
      "Test Loss: 0.3758730111038609\n",
      "Test Accruacy: 0.871417224407196\n",
      "[Epoch] 26/30\n",
      "Training Loss: 0.34885903141264724\n",
      "Test Loss: 0.40101746597867105\n",
      "Test Accruacy: 0.8704219460487366\n",
      "[Epoch] 27/30\n",
      "Training Loss: 0.34673057347218367\n",
      "Test Loss: 0.3591357883848962\n",
      "Test Accruacy: 0.8775875568389893\n",
      "[Epoch] 28/30\n",
      "Training Loss: 0.34530571207944266\n",
      "Test Loss: 0.41018502404735346\n",
      "Test Accruacy: 0.8687300682067871\n",
      "[Epoch] 29/30\n",
      "Training Loss: 0.3450977652470694\n",
      "Test Loss: 0.38956652401359215\n",
      "Test Accruacy: 0.8679339289665222\n",
      "[Epoch] 30/30\n",
      "Training Loss: 0.3433357229841543\n",
      "Test Loss: 0.38000020584103406\n",
      "Test Accruacy: 0.8710191249847412\n"
     ]
    }
   ],
   "source": [
    "## Train your model with dropout, and monitor the training progress with the validation loss and accuracy\n",
    "criterion = nn.NLLLoss()\n",
    "optimizer = optim.Adam(model.parameters(), lr=0.003)\n",
    "\n",
    "epochs = 30\n",
    "steps = 0\n",
    "\n",
    "train_losses, test_losses = [], []\n",
    "for e in range(epochs):\n",
    "    running_loss = 0\n",
    "    # training\n",
    "    for images, labels in trainloader:\n",
    "        images = images.view(images.shape[0], -1)\n",
    "        optimizer.zero_grad()\n",
    "        log_ps = model(images)\n",
    "        loss = criterion(log_ps, labels)\n",
    "        loss.backward()\n",
    "        optimizer.step()\n",
    "        running_loss += loss.item()\n",
    "    # validation\n",
    "    accuracy = 0\n",
    "    test_loss = 0\n",
    "    # turn off gradients for validation, save memory and computations\n",
    "    with torch.no_grad():\n",
    "        model.eval()  # turn-off dropout\n",
    "        for images, labels in testloader:\n",
    "            images = images.view(images.shape[0], -1)\n",
    "            log_ps = model(images)\n",
    "            ps = torch.exp(log_ps)\n",
    "            _, top_class = ps.topk(1, dim=1)\n",
    "            equals = (top_class == labels.view(*top_class.shape))\n",
    "            # book-keeping\n",
    "            accuracy += torch.mean(equals.type(torch.FloatTensor))\n",
    "            loss = criterion(log_ps, labels)\n",
    "            test_loss += loss.item()\n",
    "    model.train()  # turn dropout back on\n",
    "    # store evaluative matrices\n",
    "    n_train = len(trainloader)\n",
    "    n_test = len(testloader)\n",
    "    train_losses.append(running_loss/n_train)\n",
    "    test_losses.append(test_loss/n_test)\n",
    "    print(f'[Epoch] {e+1}/{epochs}')\n",
    "    print(f'Training Loss: {train_losses[-1]}')\n",
    "    print(f'Test Loss: {test_losses[-1]}')\n",
    "    print(f'Test Accruacy: {accuracy/n_test}')"
   ]
  },
  {
   "cell_type": "code",
   "execution_count": 14,
   "metadata": {},
   "outputs": [
    {
     "data": {
      "image/png": "[encoded data removed]",
      "text/plain": [
       "<Figure size 576x432 with 1 Axes>"
      ]
     },
     "metadata": {
      "needs_background": "light"
     },
     "output_type": "display_data"
    }
   ],
   "source": [
    "pd.DataFrame({\n",
    "    'Training Loss': train_losses,\n",
    "    'Test Loss': test_losses\n",
    "}).plot(figsize=(8,6))\n",
    "pass"
   ]
  },
  {
   "cell_type": "markdown",
   "metadata": {},
   "source": [
    "## Inference\n",
    "\n",
    "Now that the model is trained, we can use it for inference. We've done this before, but now we need to remember to set the model in inference mode with `model.eval()`. You'll also want to turn off autograd with the `torch.no_grad()` context."
   ]
  },
  {
   "cell_type": "code",
   "execution_count": 15,
   "metadata": {},
   "outputs": [
    {
     "data": {
      "image/png": "[encoded data removed]",
      "text/plain": [
       "<Figure size 432x648 with 2 Axes>"
      ]
     },
     "metadata": {
      "needs_background": "light"
     },
     "output_type": "display_data"
    }
   ],
   "source": [
    "# Import helper module (should be in the repo)\n",
    "import helper\n",
    "\n",
    "# Test out your network!\n",
    "# set model to evaluation mode (no dropout)\n",
    "model.eval()\n",
    "\n",
    "dataiter = iter(testloader)\n",
    "images, labels = dataiter.next()\n",
    "img = images[0]\n",
    "# Convert 2D image to 1D vector\n",
    "img = img.view(1, 784)\n",
    "\n",
    "# Calculate the class probabilities (softmax) for img\n",
    "with torch.no_grad():\n",
    "    output = model.forward(img)\n",
    "\n",
    "ps = torch.exp(output)\n",
    "\n",
    "# Plot the image and probabilities\n",
    "helper.view_classify(img.view(1, 28, 28), ps, version='Fashion')"
   ]
  },
  {
   "cell_type": "markdown",
   "metadata": {},
   "source": [
    "## Next Up!\n",
    "\n",
    "In the next part, I'll show you how to save your trained models. In general, you won't want to train a model everytime you need it. Instead, you'll train once, save it, then load the model when you want to train more or use if for inference."
   ]
  }
 ],
 "metadata": {
  "kernelspec": {
   "display_name": "Python 3",
   "language": "python",
   "name": "python3"
  },
  "language_info": {
   "codemirror_mode": {
    "name": "ipython",
    "version": 3
   },
   "file_extension": ".py",
   "mimetype": "text/x-python",
   "name": "python",
   "nbconvert_exporter": "python",
   "pygments_lexer": "ipython3",
   "version": "3.8.5"
  }
 },
 "nbformat": 4,
 "nbformat_minor": 2
}
