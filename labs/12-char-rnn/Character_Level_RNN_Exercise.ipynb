{
 "cells": [
  {
   "cell_type": "markdown",
   "metadata": {},
   "source": [
    "# Character-Level LSTM in PyTorch\n",
    "\n",
    "In this notebook, I'll construct a character-level LSTM with PyTorch. The network will train character by character on some text, then generate new text character by character. As an example, I will train on Anna Karenina. **This model will be able to generate new text based on the text from the book!**\n",
    "\n",
    "This network is based off of Andrej Karpathy's [post on RNNs](http://karpathy.github.io/2015/05/21/rnn-effectiveness/) and [implementation in Torch](https://github.com/karpathy/char-rnn). Below is the general architecture of the character-wise RNN.\n",
    "\n",
    "<img src=\"assets/charseq.jpeg\" width=\"500\">"
   ]
  },
  {
   "cell_type": "markdown",
   "metadata": {},
   "source": [
    "First let's load in our required resources for data loading and model creation."
   ]
  },
  {
   "cell_type": "code",
   "execution_count": 1,
   "metadata": {},
   "outputs": [],
   "source": [
    "import numpy as np\n",
    "import torch\n",
    "from torch import nn\n",
    "import torch.nn.functional as F"
   ]
  },
  {
   "cell_type": "markdown",
   "metadata": {},
   "source": [
    "## Load in Data\n",
    "\n",
    "Then, we'll load the Anna Karenina text file and convert it into integers for our network to use. "
   ]
  },
  {
   "cell_type": "code",
   "execution_count": 2,
   "metadata": {},
   "outputs": [],
   "source": [
    "# open text file and read in data as `text`\n",
    "with open('data/anna.txt', 'r') as f:\n",
    "    text = f.read()"
   ]
  },
  {
   "cell_type": "markdown",
   "metadata": {},
   "source": [
    "Let's check out the first 100 characters, make sure everything is peachy. According to the [American Book Review](http://americanbookreview.org/100bestlines.asp), this is the 6th best first line of a book ever."
   ]
  },
  {
   "cell_type": "code",
   "execution_count": 3,
   "metadata": {},
   "outputs": [
    {
     "data": {
      "text/plain": [
       "'Chapter 1\\n\\n\\nHappy families are all alike; every unhappy family is unhappy in its own\\nway.\\n\\nEverythin'"
      ]
     },
     "execution_count": 3,
     "metadata": {},
     "output_type": "execute_result"
    }
   ],
   "source": [
    "text[:100]"
   ]
  },
  {
   "cell_type": "markdown",
   "metadata": {},
   "source": [
    "### Tokenization\n",
    "\n",
    "In the cells, below, I'm creating a couple **dictionaries** to convert the characters to and from integers. Encoding the characters as integers makes it easier to use as input in the network."
   ]
  },
  {
   "cell_type": "code",
   "execution_count": 4,
   "metadata": {},
   "outputs": [],
   "source": [
    "# encode the text and map each character to an integer and vice versa\n",
    "\n",
    "# we create two dictionaries:\n",
    "# 1. int2char, which maps integers to characters\n",
    "# 2. char2int, which maps characters to unique integers\n",
    "chars = tuple(set(text))\n",
    "int2char = dict(enumerate(chars))\n",
    "char2int = {ch: ii for ii, ch in int2char.items()}\n",
    "\n",
    "# encode the text\n",
    "encoded = np.array([char2int[ch] for ch in text])"
   ]
  },
  {
   "cell_type": "markdown",
   "metadata": {},
   "source": [
    "And we can see those same characters from above, encoded as integers."
   ]
  },
  {
   "cell_type": "code",
   "execution_count": 5,
   "metadata": {},
   "outputs": [
    {
     "data": {
      "text/plain": [
       "array([ 3, 57, 29, 43, 64, 37, 35, 65,  5,  7,  7,  7, 49, 29, 43, 43, 32,\n",
       "       65, 24, 29, 27, 50, 62, 50, 37, 14, 65, 29, 35, 37, 65, 29, 62, 62,\n",
       "       65, 29, 62, 50, 36, 37, 53, 65, 37, 82, 37, 35, 32, 65, 39, 12, 57,\n",
       "       29, 43, 43, 32, 65, 24, 29, 27, 50, 62, 32, 65, 50, 14, 65, 39, 12,\n",
       "       57, 29, 43, 43, 32, 65, 50, 12, 65, 50, 64, 14, 65, 59,  6, 12,  7,\n",
       "        6, 29, 32, 33,  7,  7, 58, 82, 37, 35, 32, 64, 57, 50, 12])"
      ]
     },
     "execution_count": 5,
     "metadata": {},
     "output_type": "execute_result"
    }
   ],
   "source": [
    "encoded[:100]"
   ]
  },
  {
   "cell_type": "markdown",
   "metadata": {},
   "source": [
    "## Pre-processing the data\n",
    "\n",
    "As you can see in our char-RNN image above, our LSTM expects an input that is **one-hot encoded** meaning that each character is converted into an integer (via our created dictionary) and *then* converted into a column vector where only it's corresponding integer index will have the value of 1 and the rest of the vector will be filled with 0's. Since we're one-hot encoding the data, let's make a function to do that!\n"
   ]
  },
  {
   "cell_type": "code",
   "execution_count": 6,
   "metadata": {},
   "outputs": [],
   "source": [
    "def one_hot_encode(arr, n_labels):\n",
    "    \n",
    "    # Initialize the the encoded array\n",
    "    one_hot = np.zeros((arr.size, n_labels), dtype=np.float32)\n",
    "    \n",
    "    # Fill the appropriate elements with ones\n",
    "    one_hot[np.arange(one_hot.shape[0]), arr.flatten()] = 1.\n",
    "    \n",
    "    # Finally reshape it to get back to the original array\n",
    "    one_hot = one_hot.reshape((*arr.shape, n_labels))\n",
    "    \n",
    "    return one_hot"
   ]
  },
  {
   "cell_type": "code",
   "execution_count": 7,
   "metadata": {},
   "outputs": [
    {
     "name": "stdout",
     "output_type": "stream",
     "text": [
      "[[[0. 0. 0. 1. 0. 0. 0. 0.]\n",
      "  [0. 0. 0. 0. 0. 1. 0. 0.]\n",
      "  [0. 1. 0. 0. 0. 0. 0. 0.]]]\n"
     ]
    }
   ],
   "source": [
    "# check that the function works as expected\n",
    "test_seq = np.array([[3, 5, 1]])\n",
    "one_hot = one_hot_encode(test_seq, 8)\n",
    "\n",
    "print(one_hot)"
   ]
  },
  {
   "cell_type": "markdown",
   "metadata": {},
   "source": [
    "## Making training mini-batches\n",
    "\n",
    "\n",
    "To train on this data, we also want to create mini-batches for training. Remember that we want our batches to be multiple sequences of some desired number of sequence steps. Considering a simple example, our batches would look like this:\n",
    "\n",
    "<img src=\"assets/sequence_batching@1x.png\" width=500px>\n",
    "\n",
    "\n",
    "<br>\n",
    "\n",
    "In this example, we'll take the encoded characters (passed in as the `arr` parameter) and split them into multiple sequences, given by `batch_size`. Each of our sequences will be `seq_length` long.\n",
    "\n",
    "### Creating Batches\n",
    "\n",
    "**1. The first thing we need to do is discard some of the text so we only have completely full mini-batches.**\n",
    "\n",
    "Each batch contains $N \\times M$ characters, where $N$ is the batch size (the number of sequences in a batch) and $M$ is the seq_length or number of time steps in a sequence. Then, to get the total number of batches, $K$, that we can make from the array `arr`, you divide the length of `arr` by the number of characters per batch. Once you know the number of batches, you can get the total number of characters to keep from `arr`, $N * M * K$.\n",
    "\n",
    "**2. After that, we need to split `arr` into $N$ batches.** \n",
    "\n",
    "You can do this using `arr.reshape(size)` where `size` is a tuple containing the dimensions sizes of the reshaped array. We know we want $N$ sequences in a batch, so let's make that the size of the first dimension. For the second dimension, you can use `-1` as a placeholder in the size, it'll fill up the array with the appropriate data for you. After this, you should have an array that is $N \\times (M * K)$.\n",
    "\n",
    "**3. Now that we have this array, we can iterate through it to get our mini-batches.**\n",
    "\n",
    "The idea is each batch is a $N \\times M$ window on the $N \\times (M * K)$ array. For each subsequent batch, the window moves over by `seq_length`. We also want to create both the input and target arrays. Remember that the targets are just the inputs shifted over by one character. The way I like to do this window is use `range` to take steps of size `n_steps` from $0$ to `arr.shape[1]`, the total number of tokens in each sequence. That way, the integers you get from `range` always point to the start of a batch, and each window is `seq_length` wide.\n",
    "\n",
    "> **TODO:** Write the code for creating batches in the function below. The exercises in this notebook _will not be easy_. I've provided a notebook with solutions alongside this notebook. If you get stuck, checkout the solutions. The most important thing is that you don't copy and paste the code into here, **type out the solution code yourself.**"
   ]
  },
  {
   "cell_type": "code",
   "execution_count": 8,
   "metadata": {},
   "outputs": [],
   "source": [
    "def get_batches(arr, batch_size, seq_length):\n",
    "    '''Create a generator that returns batches of size\n",
    "       batch_size x seq_length from arr.\n",
    "       \n",
    "       Arguments\n",
    "       ---------\n",
    "       arr: Array you want to make batches from\n",
    "       batch_size: Batch size, the number of sequences per batch\n",
    "       seq_length: Number of encoded chars in a sequence\n",
    "    '''\n",
    "    \n",
    "    ## TODO: Get the number of batches we can make\n",
    "    n_batches = len(arr) // (batch_size*seq_length)\n",
    "    \n",
    "    ## TODO: Keep only enough characters to make full batches\n",
    "    arr = arr[:n_batches*batch_size*seq_length]\n",
    "    \n",
    "    ## TODO: Reshape into batch_size rows\n",
    "    arr = arr.reshape((batch_size, -1))\n",
    "    \n",
    "    ## TODO: Iterate over the batches using a window of size seq_length\n",
    "    for n in range(0, arr.shape[1], seq_length):\n",
    "        # The features\n",
    "        x = arr[:,n:(n+seq_length)]\n",
    "        # The targets, shifted by one\n",
    "        y = np.zeros_like(x)\n",
    "        try:\n",
    "            y[:,:-1], y[:,-1] = x[:,1:], arr[:,n+seq_length]\n",
    "        except:\n",
    "            y[:,:-1], y[:,-1] = x[:,1:], arr[:,0]\n",
    "        yield x, y"
   ]
  },
  {
   "cell_type": "markdown",
   "metadata": {},
   "source": [
    "### Test Your Implementation\n",
    "\n",
    "Now I'll make some data sets and we can check out what's going on as we batch data. Here, as an example, I'm going to use a batch size of 8 and 50 sequence steps."
   ]
  },
  {
   "cell_type": "code",
   "execution_count": 9,
   "metadata": {},
   "outputs": [],
   "source": [
    "batches = get_batches(encoded, 8, 50)\n",
    "x, y = next(batches)"
   ]
  },
  {
   "cell_type": "code",
   "execution_count": 10,
   "metadata": {},
   "outputs": [
    {
     "name": "stdout",
     "output_type": "stream",
     "text": [
      "x\n",
      " [[ 3 57 29 43 64 37 35 65  5  7]\n",
      " [14 59 12 65 64 57 29 64 65 29]\n",
      " [37 12 75 65 59 35 65 29 65 24]\n",
      " [14 65 64 57 37 65  1 57 50 37]\n",
      " [65 14 29  6 65 57 37 35 65 64]\n",
      " [ 1 39 14 14 50 59 12 65 29 12]\n",
      " [65 34 12 12 29 65 57 29 75 65]\n",
      " [11 55 62 59 12 14 36 32 33 65]]\n",
      "\n",
      "y\n",
      " [[57 29 43 64 37 35 65  5  7  7]\n",
      " [59 12 65 64 57 29 64 65 29 64]\n",
      " [12 75 65 59 35 65 29 65 24 59]\n",
      " [65 64 57 37 65  1 57 50 37 24]\n",
      " [14 29  6 65 57 37 35 65 64 37]\n",
      " [39 14 14 50 59 12 65 29 12 75]\n",
      " [34 12 12 29 65 57 29 75 65 14]\n",
      " [55 62 59 12 14 36 32 33 65 72]]\n"
     ]
    }
   ],
   "source": [
    "# printing out the first 10 items in a sequence\n",
    "print('x\\n', x[:10, :10])\n",
    "print('\\ny\\n', y[:10, :10])"
   ]
  },
  {
   "cell_type": "markdown",
   "metadata": {},
   "source": [
    "If you implemented `get_batches` correctly, the above output should look something like \n",
    "```\n",
    "x\n",
    " [[25  8 60 11 45 27 28 73  1  2]\n",
    " [17  7 20 73 45  8 60 45 73 60]\n",
    " [27 20 80 73  7 28 73 60 73 65]\n",
    " [17 73 45  8 27 73 66  8 46 27]\n",
    " [73 17 60 12 73  8 27 28 73 45]\n",
    " [66 64 17 17 46  7 20 73 60 20]\n",
    " [73 76 20 20 60 73  8 60 80 73]\n",
    " [47 35 43  7 20 17 24 50 37 73]]\n",
    "\n",
    "y\n",
    " [[ 8 60 11 45 27 28 73  1  2  2]\n",
    " [ 7 20 73 45  8 60 45 73 60 45]\n",
    " [20 80 73  7 28 73 60 73 65  7]\n",
    " [73 45  8 27 73 66  8 46 27 65]\n",
    " [17 60 12 73  8 27 28 73 45 27]\n",
    " [64 17 17 46  7 20 73 60 20 80]\n",
    " [76 20 20 60 73  8 60 80 73 17]\n",
    " [35 43  7 20 17 24 50 37 73 36]]\n",
    " ```\n",
    " although the exact numbers may be different. Check to make sure the data is shifted over one step for `y`."
   ]
  },
  {
   "cell_type": "markdown",
   "metadata": {},
   "source": [
    "---\n",
    "## Defining the network with PyTorch\n",
    "\n",
    "Below is where you'll define the network.\n",
    "\n",
    "<img src=\"assets/charRNN.png\" width=500px>\n",
    "\n",
    "Next, you'll use PyTorch to define the architecture of the network. We start by defining the layers and operations we want. Then, define a method for the forward pass. You've also been given a method for predicting characters."
   ]
  },
  {
   "cell_type": "markdown",
   "metadata": {},
   "source": [
    "### Model Structure\n",
    "\n",
    "In `__init__` the suggested structure is as follows:\n",
    "* Create and store the necessary dictionaries (this has been done for you)\n",
    "* Define an LSTM layer that takes as params: an input size (the number of characters), a hidden layer size `n_hidden`, a number of layers `n_layers`, a dropout probability `drop_prob`, and a batch_first boolean (True, since we are batching)\n",
    "* Define a dropout layer with `drop_prob`\n",
    "* Define a fully-connected layer with params: input size `n_hidden` and output size (the number of characters)\n",
    "* Finally, initialize the weights (again, this has been given)\n",
    "\n",
    "Note that some parameters have been named and given in the `__init__` function, and we use them and store them by doing something like `self.drop_prob = drop_prob`."
   ]
  },
  {
   "cell_type": "markdown",
   "metadata": {},
   "source": [
    "---\n",
    "### LSTM Inputs/Outputs\n",
    "\n",
    "You can create a basic [LSTM layer](https://pytorch.org/docs/stable/generated/torch.nn.LSTM.html) as follows\n",
    "\n",
    "```python\n",
    "self.lstm = nn.LSTM(input_size, n_hidden, n_layers, dropout=drop_prob, batch_first=True)\n",
    "```\n",
    "\n",
    "where \n",
    "\n",
    "- `input_size` is the number of characters this cell expects to see as sequential input, and\n",
    "- `n_hidden` is the number of units in the hidden layers in the cell.\n",
    "- And we can add dropout by adding a `dropout` parameter with a specified probability; this will automatically add dropout to the inputs or outputs.\n",
    "- Finally, in the `forward` function, we can stack up the LSTM cells into layers using `.view`. With this, you pass in a list of cells and it will send the output of one cell into the next cell.\n",
    "\n",
    "We also need to create an initial hidden state of all zeros. This is done like so\n",
    "\n",
    "```python\n",
    "self.init_hidden()\n",
    "```"
   ]
  },
  {
   "cell_type": "code",
   "execution_count": 11,
   "metadata": {},
   "outputs": [
    {
     "name": "stdout",
     "output_type": "stream",
     "text": [
      "Training on GPU!\n"
     ]
    }
   ],
   "source": [
    "# check if GPU is available\n",
    "train_on_gpu = torch.cuda.is_available()\n",
    "if(train_on_gpu):\n",
    "    print('Training on GPU!')\n",
    "else: \n",
    "    print('No GPU available, training on CPU; consider making n_epochs very small.')"
   ]
  },
  {
   "cell_type": "code",
   "execution_count": 12,
   "metadata": {},
   "outputs": [],
   "source": [
    "class CharRNN(nn.Module):\n",
    "    \n",
    "    def __init__(self, tokens, n_hidden=256, n_layers=2, drop_prob=0.5, lr=0.001):\n",
    "        super().__init__()\n",
    "        \n",
    "        # hyper-parameters\n",
    "        self.drop_prob = drop_prob\n",
    "        self.n_layers = n_layers\n",
    "        self.n_hidden = n_hidden\n",
    "        self.lr = lr\n",
    "        \n",
    "        # creating character dictionaries\n",
    "        self.chars = tokens\n",
    "        self.int2char = dict(enumerate(self.chars))\n",
    "        self.char2int = {ch: ii for ii, ch in self.int2char.items()}\n",
    "        \n",
    "        ## TODO: define the layers of the model\n",
    "        self.lstm = nn.LSTM(len(self.chars), self.n_hidden, self.n_layers,\n",
    "                            dropout=self.drop_prob, batch_first=True)\n",
    "        self.dropout = nn.Dropout(self.drop_prob)\n",
    "        self.fc = nn.Linear(self.n_hidden, len(self.chars))\n",
    "    \n",
    "    \n",
    "    def forward(self, x, hidden):\n",
    "        ''' Forward pass through the network. \n",
    "            These inputs are x, and the hidden/cell state `hidden`. '''\n",
    "        \n",
    "        ## TODO: Get the outputs and the new hidden state from the lstm\n",
    "        r_out, hidden = self.lstm(x, hidden)\n",
    "        out = self.dropout(r_out)\n",
    "        out = out.reshape(-1, self.n_hidden)\n",
    "        output = self.fc(out)\n",
    "        \n",
    "        # return the final output and the hidden state\n",
    "        return output, hidden\n",
    "    \n",
    "    \n",
    "    def init_hidden(self, batch_size):\n",
    "        ''' Initializes hidden state '''\n",
    "        # Create two new tensors with sizes n_layers x batch_size x n_hidden,\n",
    "        # initialized to zero, for hidden state and cell state of LSTM\n",
    "        weight = next(self.parameters()).data\n",
    "        \n",
    "        if (train_on_gpu):\n",
    "            hidden = (weight.new(self.n_layers, batch_size, self.n_hidden).zero_().cuda(),\n",
    "                      weight.new(self.n_layers, batch_size, self.n_hidden).zero_().cuda())\n",
    "        else:\n",
    "            hidden = (weight.new(self.n_layers, batch_size, self.n_hidden).zero_(),\n",
    "                      weight.new(self.n_layers, batch_size, self.n_hidden).zero_())\n",
    "        \n",
    "        return hidden"
   ]
  },
  {
   "cell_type": "markdown",
   "metadata": {},
   "source": [
    "## Time to train\n",
    "\n",
    "The train function gives us the ability to set the number of epochs, the learning rate, and other parameters.\n",
    "\n",
    "Below we're using an Adam optimizer and cross entropy loss since we are looking at character class scores as output. We calculate the loss and perform backpropagation, as usual!\n",
    "\n",
    "A couple of details about training: \n",
    ">* Within the batch loop, we detach the hidden state from its history; this time setting it equal to a new *tuple* variable because an LSTM has a hidden state that is a tuple of the hidden and cell states.\n",
    "* We use [`clip_grad_norm_`](https://pytorch.org/docs/stable/_modules/torch/nn/utils/clip_grad.html) to help prevent exploding gradients."
   ]
  },
  {
   "cell_type": "code",
   "execution_count": 13,
   "metadata": {},
   "outputs": [],
   "source": [
    "def train(net, data, epochs=10, batch_size=10, seq_length=50, lr=0.001, clip=5, val_frac=0.1, print_every=10):\n",
    "    ''' Training a network \n",
    "    \n",
    "        Arguments\n",
    "        ---------\n",
    "        \n",
    "        net: CharRNN network\n",
    "        data: text data to train the network\n",
    "        epochs: Number of epochs to train\n",
    "        batch_size: Number of mini-sequences per mini-batch, aka batch size\n",
    "        seq_length: Number of character steps per mini-batch\n",
    "        lr: learning rate\n",
    "        clip: gradient clipping\n",
    "        val_frac: Fraction of data to hold out for validation\n",
    "        print_every: Number of steps for printing training and validation loss\n",
    "    \n",
    "    '''\n",
    "    net.train()\n",
    "    \n",
    "    opt = torch.optim.Adam(net.parameters(), lr=lr)\n",
    "    criterion = nn.CrossEntropyLoss()\n",
    "    \n",
    "    # create training and validation data\n",
    "    val_idx = int(len(data)*(1-val_frac))\n",
    "    data, val_data = data[:val_idx], data[val_idx:]\n",
    "    \n",
    "    if(train_on_gpu):\n",
    "        net.cuda()\n",
    "    \n",
    "    counter = 0\n",
    "    n_chars = len(net.chars)\n",
    "    for e in range(epochs):\n",
    "        # initialize hidden state\n",
    "        h = net.init_hidden(batch_size)\n",
    "        \n",
    "        for x, y in get_batches(data, batch_size, seq_length):\n",
    "            counter += 1\n",
    "            \n",
    "            # One-hot encode our data and make them Torch tensors\n",
    "            x = one_hot_encode(x, n_chars)\n",
    "            inputs, targets = torch.from_numpy(x), torch.from_numpy(y)\n",
    "            \n",
    "            if(train_on_gpu):\n",
    "                inputs, targets = inputs.cuda(), targets.cuda()\n",
    "\n",
    "            # Creating new variables for the hidden state, otherwise\n",
    "            # we'd backprop through the entire training history\n",
    "            h = tuple([each.data for each in h])\n",
    "\n",
    "            # zero accumulated gradients\n",
    "            net.zero_grad()\n",
    "            \n",
    "            # get the output from the model\n",
    "            output, h = net(inputs, h)\n",
    "            \n",
    "            # calculate the loss and perform backprop\n",
    "            loss = criterion(output, targets.view(batch_size*seq_length).long())\n",
    "            loss.backward()\n",
    "            # `clip_grad_norm` helps prevent the exploding gradient problem in RNNs / LSTMs.\n",
    "            nn.utils.clip_grad_norm_(net.parameters(), clip)\n",
    "            opt.step()\n",
    "            \n",
    "            # loss stats\n",
    "            if counter % print_every == 0:\n",
    "                # Get validation loss\n",
    "                val_h = net.init_hidden(batch_size)\n",
    "                val_losses = []\n",
    "                net.eval()\n",
    "                for x, y in get_batches(val_data, batch_size, seq_length):\n",
    "                    # One-hot encode our data and make them Torch tensors\n",
    "                    x = one_hot_encode(x, n_chars)\n",
    "                    x, y = torch.from_numpy(x), torch.from_numpy(y)\n",
    "                    \n",
    "                    # Creating new variables for the hidden state, otherwise\n",
    "                    # we'd backprop through the entire training history\n",
    "                    val_h = tuple([each.data for each in val_h])\n",
    "                    \n",
    "                    inputs, targets = x, y\n",
    "                    if(train_on_gpu):\n",
    "                        inputs, targets = inputs.cuda(), targets.cuda()\n",
    "\n",
    "                    output, val_h = net(inputs, val_h)\n",
    "                    val_loss = criterion(output, targets.view(batch_size*seq_length).long())\n",
    "                \n",
    "                    val_losses.append(val_loss.item())\n",
    "                \n",
    "                net.train() # reset to train mode after iterationg through validation data\n",
    "                \n",
    "                print(\"Epoch: {}/{}...\".format(e+1, epochs),\n",
    "                      \"Step: {}...\".format(counter),\n",
    "                      \"Loss: {:.4f}...\".format(loss.item()),\n",
    "                      \"Val Loss: {:.4f}\".format(np.mean(val_losses)))"
   ]
  },
  {
   "cell_type": "markdown",
   "metadata": {},
   "source": [
    "## Instantiating the model\n",
    "\n",
    "Now we can actually train the network. First we'll create the network itself, with some given hyperparameters. Then, define the mini-batches sizes, and start training!"
   ]
  },
  {
   "cell_type": "code",
   "execution_count": 14,
   "metadata": {},
   "outputs": [
    {
     "name": "stdout",
     "output_type": "stream",
     "text": [
      "CharRNN(\n",
      "  (lstm): LSTM(83, 512, num_layers=2, batch_first=True, dropout=0.5)\n",
      "  (dropout): Dropout(p=0.5, inplace=False)\n",
      "  (fc): Linear(in_features=512, out_features=83, bias=True)\n",
      ")\n"
     ]
    }
   ],
   "source": [
    "## TODO: set your model hyperparameters\n",
    "# define and print the net\n",
    "n_hidden = 512  # hidden dim: the numnber of features our model can detect\n",
    "n_layers = 2\n",
    "\n",
    "net = CharRNN(chars, n_hidden, n_layers)\n",
    "print(net)"
   ]
  },
  {
   "cell_type": "markdown",
   "metadata": {},
   "source": [
    "### Set your training hyperparameters!"
   ]
  },
  {
   "cell_type": "code",
   "execution_count": 15,
   "metadata": {
    "scrolled": true
   },
   "outputs": [
    {
     "name": "stdout",
     "output_type": "stream",
     "text": [
      "Epoch: 1/20... Step: 10... Loss: 3.2633... Val Loss: 3.2118\n",
      "Epoch: 1/20... Step: 20... Loss: 3.1517... Val Loss: 3.1391\n",
      "Epoch: 1/20... Step: 30... Loss: 3.1466... Val Loss: 3.1263\n",
      "Epoch: 1/20... Step: 40... Loss: 3.1138... Val Loss: 3.1189\n",
      "Epoch: 1/20... Step: 50... Loss: 3.1416... Val Loss: 3.1175\n",
      "Epoch: 1/20... Step: 60... Loss: 3.1187... Val Loss: 3.1138\n",
      "Epoch: 1/20... Step: 70... Loss: 3.1048... Val Loss: 3.1095\n",
      "Epoch: 1/20... Step: 80... Loss: 3.1177... Val Loss: 3.1043\n",
      "Epoch: 1/20... Step: 90... Loss: 3.1094... Val Loss: 3.0913\n",
      "Epoch: 1/20... Step: 100... Loss: 3.0644... Val Loss: 3.0489\n",
      "Epoch: 1/20... Step: 110... Loss: 2.9751... Val Loss: 2.9661\n",
      "Epoch: 1/20... Step: 120... Loss: 2.8409... Val Loss: 2.8143\n",
      "Epoch: 1/20... Step: 130... Loss: 2.8332... Val Loss: 2.8087\n",
      "Epoch: 2/20... Step: 140... Loss: 2.7068... Val Loss: 2.6574\n",
      "Epoch: 2/20... Step: 150... Loss: 2.6271... Val Loss: 2.5866\n",
      "Epoch: 2/20... Step: 160... Loss: 2.5618... Val Loss: 2.5291\n",
      "Epoch: 2/20... Step: 170... Loss: 2.4940... Val Loss: 2.4886\n",
      "Epoch: 2/20... Step: 180... Loss: 2.4681... Val Loss: 2.4523\n",
      "Epoch: 2/20... Step: 190... Loss: 2.4203... Val Loss: 2.4163\n",
      "Epoch: 2/20... Step: 200... Loss: 2.4129... Val Loss: 2.3815\n",
      "Epoch: 2/20... Step: 210... Loss: 2.3770... Val Loss: 2.3508\n",
      "Epoch: 2/20... Step: 220... Loss: 2.3377... Val Loss: 2.3211\n",
      "Epoch: 2/20... Step: 230... Loss: 2.3252... Val Loss: 2.3204\n",
      "Epoch: 2/20... Step: 240... Loss: 2.3019... Val Loss: 2.2744\n",
      "Epoch: 2/20... Step: 250... Loss: 2.2425... Val Loss: 2.2402\n",
      "Epoch: 2/20... Step: 260... Loss: 2.2093... Val Loss: 2.2098\n",
      "Epoch: 2/20... Step: 270... Loss: 2.2112... Val Loss: 2.1835\n",
      "Epoch: 3/20... Step: 280... Loss: 2.2074... Val Loss: 2.1639\n",
      "Epoch: 3/20... Step: 290... Loss: 2.1672... Val Loss: 2.1376\n",
      "Epoch: 3/20... Step: 300... Loss: 2.1504... Val Loss: 2.1164\n",
      "Epoch: 3/20... Step: 310... Loss: 2.1288... Val Loss: 2.0988\n",
      "Epoch: 3/20... Step: 320... Loss: 2.0925... Val Loss: 2.0762\n",
      "Epoch: 3/20... Step: 330... Loss: 2.0618... Val Loss: 2.0587\n",
      "Epoch: 3/20... Step: 340... Loss: 2.0875... Val Loss: 2.0432\n",
      "Epoch: 3/20... Step: 350... Loss: 2.0647... Val Loss: 2.0288\n",
      "Epoch: 3/20... Step: 360... Loss: 2.0012... Val Loss: 2.0080\n",
      "Epoch: 3/20... Step: 370... Loss: 2.0195... Val Loss: 1.9916\n",
      "Epoch: 3/20... Step: 380... Loss: 2.0051... Val Loss: 1.9743\n",
      "Epoch: 3/20... Step: 390... Loss: 1.9735... Val Loss: 1.9596\n",
      "Epoch: 3/20... Step: 400... Loss: 1.9492... Val Loss: 1.9440\n",
      "Epoch: 3/20... Step: 410... Loss: 1.9661... Val Loss: 1.9335\n",
      "Epoch: 4/20... Step: 420... Loss: 1.9446... Val Loss: 1.9162\n",
      "Epoch: 4/20... Step: 430... Loss: 1.9369... Val Loss: 1.9036\n",
      "Epoch: 4/20... Step: 440... Loss: 1.9232... Val Loss: 1.8979\n",
      "Epoch: 4/20... Step: 450... Loss: 1.8654... Val Loss: 1.8773\n",
      "Epoch: 4/20... Step: 460... Loss: 1.8584... Val Loss: 1.8652\n",
      "Epoch: 4/20... Step: 470... Loss: 1.8847... Val Loss: 1.8611\n",
      "Epoch: 4/20... Step: 480... Loss: 1.8697... Val Loss: 1.8490\n",
      "Epoch: 4/20... Step: 490... Loss: 1.8743... Val Loss: 1.8317\n",
      "Epoch: 4/20... Step: 500... Loss: 1.8680... Val Loss: 1.8227\n",
      "Epoch: 4/20... Step: 510... Loss: 1.8436... Val Loss: 1.8112\n",
      "Epoch: 4/20... Step: 520... Loss: 1.8486... Val Loss: 1.8061\n",
      "Epoch: 4/20... Step: 530... Loss: 1.8176... Val Loss: 1.7962\n",
      "Epoch: 4/20... Step: 540... Loss: 1.7796... Val Loss: 1.7822\n",
      "Epoch: 4/20... Step: 550... Loss: 1.8233... Val Loss: 1.7738\n",
      "Epoch: 5/20... Step: 560... Loss: 1.7912... Val Loss: 1.7655\n",
      "Epoch: 5/20... Step: 570... Loss: 1.7748... Val Loss: 1.7507\n",
      "Epoch: 5/20... Step: 580... Loss: 1.7461... Val Loss: 1.7450\n",
      "Epoch: 5/20... Step: 590... Loss: 1.7497... Val Loss: 1.7357\n",
      "Epoch: 5/20... Step: 600... Loss: 1.7448... Val Loss: 1.7314\n",
      "Epoch: 5/20... Step: 610... Loss: 1.7264... Val Loss: 1.7228\n",
      "Epoch: 5/20... Step: 620... Loss: 1.7317... Val Loss: 1.7119\n",
      "Epoch: 5/20... Step: 630... Loss: 1.7496... Val Loss: 1.7082\n",
      "Epoch: 5/20... Step: 640... Loss: 1.7116... Val Loss: 1.6994\n",
      "Epoch: 5/20... Step: 650... Loss: 1.7005... Val Loss: 1.6906\n",
      "Epoch: 5/20... Step: 660... Loss: 1.6724... Val Loss: 1.6851\n",
      "Epoch: 5/20... Step: 670... Loss: 1.6994... Val Loss: 1.6790\n",
      "Epoch: 5/20... Step: 680... Loss: 1.7042... Val Loss: 1.6714\n",
      "Epoch: 5/20... Step: 690... Loss: 1.6760... Val Loss: 1.6662\n",
      "Epoch: 6/20... Step: 700... Loss: 1.6709... Val Loss: 1.6603\n",
      "Epoch: 6/20... Step: 710... Loss: 1.6621... Val Loss: 1.6541\n",
      "Epoch: 6/20... Step: 720... Loss: 1.6604... Val Loss: 1.6438\n",
      "Epoch: 6/20... Step: 730... Loss: 1.6712... Val Loss: 1.6411\n",
      "Epoch: 6/20... Step: 740... Loss: 1.6356... Val Loss: 1.6373\n",
      "Epoch: 6/20... Step: 750... Loss: 1.6206... Val Loss: 1.6306\n",
      "Epoch: 6/20... Step: 760... Loss: 1.6572... Val Loss: 1.6243\n",
      "Epoch: 6/20... Step: 770... Loss: 1.6365... Val Loss: 1.6228\n",
      "Epoch: 6/20... Step: 780... Loss: 1.6107... Val Loss: 1.6144\n",
      "Epoch: 6/20... Step: 790... Loss: 1.6084... Val Loss: 1.6087\n",
      "Epoch: 6/20... Step: 800... Loss: 1.6204... Val Loss: 1.6068\n",
      "Epoch: 6/20... Step: 810... Loss: 1.6091... Val Loss: 1.6010\n",
      "Epoch: 6/20... Step: 820... Loss: 1.5752... Val Loss: 1.5937\n",
      "Epoch: 6/20... Step: 830... Loss: 1.6092... Val Loss: 1.5916\n",
      "Epoch: 7/20... Step: 840... Loss: 1.5749... Val Loss: 1.5843\n",
      "Epoch: 7/20... Step: 850... Loss: 1.5934... Val Loss: 1.5816\n",
      "Epoch: 7/20... Step: 860... Loss: 1.5733... Val Loss: 1.5757\n",
      "Epoch: 7/20... Step: 870... Loss: 1.5863... Val Loss: 1.5733\n",
      "Epoch: 7/20... Step: 880... Loss: 1.5867... Val Loss: 1.5677\n",
      "Epoch: 7/20... Step: 890... Loss: 1.5784... Val Loss: 1.5637\n",
      "Epoch: 7/20... Step: 900... Loss: 1.5580... Val Loss: 1.5593\n",
      "Epoch: 7/20... Step: 910... Loss: 1.5284... Val Loss: 1.5549\n",
      "Epoch: 7/20... Step: 920... Loss: 1.5580... Val Loss: 1.5514\n",
      "Epoch: 7/20... Step: 930... Loss: 1.5372... Val Loss: 1.5532\n",
      "Epoch: 7/20... Step: 940... Loss: 1.5506... Val Loss: 1.5448\n",
      "Epoch: 7/20... Step: 950... Loss: 1.5476... Val Loss: 1.5422\n",
      "Epoch: 7/20... Step: 960... Loss: 1.5560... Val Loss: 1.5368\n",
      "Epoch: 7/20... Step: 970... Loss: 1.5631... Val Loss: 1.5376\n",
      "Epoch: 8/20... Step: 980... Loss: 1.5287... Val Loss: 1.5341\n",
      "Epoch: 8/20... Step: 990... Loss: 1.5376... Val Loss: 1.5264\n",
      "Epoch: 8/20... Step: 1000... Loss: 1.5302... Val Loss: 1.5216\n",
      "Epoch: 8/20... Step: 1010... Loss: 1.5596... Val Loss: 1.5169\n",
      "Epoch: 8/20... Step: 1020... Loss: 1.5305... Val Loss: 1.5133\n",
      "Epoch: 8/20... Step: 1030... Loss: 1.5185... Val Loss: 1.5141\n",
      "Epoch: 8/20... Step: 1040... Loss: 1.5284... Val Loss: 1.5120\n",
      "Epoch: 8/20... Step: 1050... Loss: 1.5005... Val Loss: 1.5079\n",
      "Epoch: 8/20... Step: 1060... Loss: 1.5066... Val Loss: 1.5030\n",
      "Epoch: 8/20... Step: 1070... Loss: 1.5142... Val Loss: 1.5042\n",
      "Epoch: 8/20... Step: 1080... Loss: 1.5080... Val Loss: 1.4988\n",
      "Epoch: 8/20... Step: 1090... Loss: 1.4900... Val Loss: 1.4958\n",
      "Epoch: 8/20... Step: 1100... Loss: 1.4880... Val Loss: 1.4916\n",
      "Epoch: 8/20... Step: 1110... Loss: 1.4921... Val Loss: 1.4899\n",
      "Epoch: 9/20... Step: 1120... Loss: 1.5095... Val Loss: 1.4872\n",
      "Epoch: 9/20... Step: 1130... Loss: 1.4827... Val Loss: 1.4833\n",
      "Epoch: 9/20... Step: 1140... Loss: 1.4917... Val Loss: 1.4797\n",
      "Epoch: 9/20... Step: 1150... Loss: 1.4993... Val Loss: 1.4779\n",
      "Epoch: 9/20... Step: 1160... Loss: 1.4620... Val Loss: 1.4764\n",
      "Epoch: 9/20... Step: 1170... Loss: 1.4739... Val Loss: 1.4716\n",
      "Epoch: 9/20... Step: 1180... Loss: 1.4702... Val Loss: 1.4694\n",
      "Epoch: 9/20... Step: 1190... Loss: 1.4979... Val Loss: 1.4704\n",
      "Epoch: 9/20... Step: 1200... Loss: 1.4465... Val Loss: 1.4679\n",
      "Epoch: 9/20... Step: 1210... Loss: 1.4661... Val Loss: 1.4613\n",
      "Epoch: 9/20... Step: 1220... Loss: 1.4604... Val Loss: 1.4633\n",
      "Epoch: 9/20... Step: 1230... Loss: 1.4392... Val Loss: 1.4593\n",
      "Epoch: 9/20... Step: 1240... Loss: 1.4537... Val Loss: 1.4566\n",
      "Epoch: 9/20... Step: 1250... Loss: 1.4526... Val Loss: 1.4532\n",
      "Epoch: 10/20... Step: 1260... Loss: 1.4594... Val Loss: 1.4522\n",
      "Epoch: 10/20... Step: 1270... Loss: 1.4512... Val Loss: 1.4494\n",
      "Epoch: 10/20... Step: 1280... Loss: 1.4567... Val Loss: 1.4461\n",
      "Epoch: 10/20... Step: 1290... Loss: 1.4471... Val Loss: 1.4482\n",
      "Epoch: 10/20... Step: 1300... Loss: 1.4382... Val Loss: 1.4497\n",
      "Epoch: 10/20... Step: 1310... Loss: 1.4465... Val Loss: 1.4422\n",
      "Epoch: 10/20... Step: 1320... Loss: 1.4048... Val Loss: 1.4412\n",
      "Epoch: 10/20... Step: 1330... Loss: 1.4330... Val Loss: 1.4373\n",
      "Epoch: 10/20... Step: 1340... Loss: 1.4164... Val Loss: 1.4332\n"
     ]
    },
    {
     "name": "stdout",
     "output_type": "stream",
     "text": [
      "Epoch: 10/20... Step: 1350... Loss: 1.4025... Val Loss: 1.4334\n",
      "Epoch: 10/20... Step: 1360... Loss: 1.4082... Val Loss: 1.4348\n",
      "Epoch: 10/20... Step: 1370... Loss: 1.4030... Val Loss: 1.4300\n",
      "Epoch: 10/20... Step: 1380... Loss: 1.4371... Val Loss: 1.4255\n",
      "Epoch: 10/20... Step: 1390... Loss: 1.4441... Val Loss: 1.4286\n",
      "Epoch: 11/20... Step: 1400... Loss: 1.4417... Val Loss: 1.4256\n",
      "Epoch: 11/20... Step: 1410... Loss: 1.4582... Val Loss: 1.4229\n",
      "Epoch: 11/20... Step: 1420... Loss: 1.4427... Val Loss: 1.4213\n",
      "Epoch: 11/20... Step: 1430... Loss: 1.4037... Val Loss: 1.4212\n",
      "Epoch: 11/20... Step: 1440... Loss: 1.4410... Val Loss: 1.4186\n",
      "Epoch: 11/20... Step: 1450... Loss: 1.3631... Val Loss: 1.4129\n",
      "Epoch: 11/20... Step: 1460... Loss: 1.3836... Val Loss: 1.4122\n",
      "Epoch: 11/20... Step: 1470... Loss: 1.3826... Val Loss: 1.4121\n",
      "Epoch: 11/20... Step: 1480... Loss: 1.4056... Val Loss: 1.4064\n",
      "Epoch: 11/20... Step: 1490... Loss: 1.3813... Val Loss: 1.4082\n",
      "Epoch: 11/20... Step: 1500... Loss: 1.3780... Val Loss: 1.4100\n",
      "Epoch: 11/20... Step: 1510... Loss: 1.3589... Val Loss: 1.4078\n",
      "Epoch: 11/20... Step: 1520... Loss: 1.4045... Val Loss: 1.4027\n",
      "Epoch: 12/20... Step: 1530... Loss: 1.4435... Val Loss: 1.4025\n",
      "Epoch: 12/20... Step: 1540... Loss: 1.4013... Val Loss: 1.3971\n",
      "Epoch: 12/20... Step: 1550... Loss: 1.4014... Val Loss: 1.3932\n",
      "Epoch: 12/20... Step: 1560... Loss: 1.4111... Val Loss: 1.3915\n",
      "Epoch: 12/20... Step: 1570... Loss: 1.3652... Val Loss: 1.3935\n",
      "Epoch: 12/20... Step: 1580... Loss: 1.3341... Val Loss: 1.3911\n",
      "Epoch: 12/20... Step: 1590... Loss: 1.3336... Val Loss: 1.3862\n",
      "Epoch: 12/20... Step: 1600... Loss: 1.3622... Val Loss: 1.3840\n",
      "Epoch: 12/20... Step: 1610... Loss: 1.3539... Val Loss: 1.3837\n",
      "Epoch: 12/20... Step: 1620... Loss: 1.3410... Val Loss: 1.3802\n",
      "Epoch: 12/20... Step: 1630... Loss: 1.3686... Val Loss: 1.3797\n",
      "Epoch: 12/20... Step: 1640... Loss: 1.3532... Val Loss: 1.3860\n",
      "Epoch: 12/20... Step: 1650... Loss: 1.3274... Val Loss: 1.3793\n",
      "Epoch: 12/20... Step: 1660... Loss: 1.3870... Val Loss: 1.3766\n",
      "Epoch: 13/20... Step: 1670... Loss: 1.3476... Val Loss: 1.3766\n",
      "Epoch: 13/20... Step: 1680... Loss: 1.3569... Val Loss: 1.3698\n",
      "Epoch: 13/20... Step: 1690... Loss: 1.3413... Val Loss: 1.3695\n",
      "Epoch: 13/20... Step: 1700... Loss: 1.3438... Val Loss: 1.3667\n",
      "Epoch: 13/20... Step: 1710... Loss: 1.3234... Val Loss: 1.3721\n",
      "Epoch: 13/20... Step: 1720... Loss: 1.3355... Val Loss: 1.3721\n",
      "Epoch: 13/20... Step: 1730... Loss: 1.3637... Val Loss: 1.3632\n",
      "Epoch: 13/20... Step: 1740... Loss: 1.3355... Val Loss: 1.3627\n",
      "Epoch: 13/20... Step: 1750... Loss: 1.3047... Val Loss: 1.3669\n",
      "Epoch: 13/20... Step: 1760... Loss: 1.3347... Val Loss: 1.3581\n",
      "Epoch: 13/20... Step: 1770... Loss: 1.3542... Val Loss: 1.3580\n",
      "Epoch: 13/20... Step: 1780... Loss: 1.3118... Val Loss: 1.3539\n",
      "Epoch: 13/20... Step: 1790... Loss: 1.3055... Val Loss: 1.3520\n",
      "Epoch: 13/20... Step: 1800... Loss: 1.3410... Val Loss: 1.3555\n",
      "Epoch: 14/20... Step: 1810... Loss: 1.3359... Val Loss: 1.3581\n",
      "Epoch: 14/20... Step: 1820... Loss: 1.3170... Val Loss: 1.3534\n",
      "Epoch: 14/20... Step: 1830... Loss: 1.3464... Val Loss: 1.3508\n",
      "Epoch: 14/20... Step: 1840... Loss: 1.2893... Val Loss: 1.3493\n",
      "Epoch: 14/20... Step: 1850... Loss: 1.2778... Val Loss: 1.3526\n",
      "Epoch: 14/20... Step: 1860... Loss: 1.3410... Val Loss: 1.3553\n",
      "Epoch: 14/20... Step: 1870... Loss: 1.3373... Val Loss: 1.3462\n",
      "Epoch: 14/20... Step: 1880... Loss: 1.3199... Val Loss: 1.3490\n",
      "Epoch: 14/20... Step: 1890... Loss: 1.3398... Val Loss: 1.3542\n",
      "Epoch: 14/20... Step: 1900... Loss: 1.3316... Val Loss: 1.3472\n",
      "Epoch: 14/20... Step: 1910... Loss: 1.3256... Val Loss: 1.3454\n",
      "Epoch: 14/20... Step: 1920... Loss: 1.3186... Val Loss: 1.3445\n",
      "Epoch: 14/20... Step: 1930... Loss: 1.2735... Val Loss: 1.3378\n",
      "Epoch: 14/20... Step: 1940... Loss: 1.3432... Val Loss: 1.3380\n",
      "Epoch: 15/20... Step: 1950... Loss: 1.3060... Val Loss: 1.3418\n",
      "Epoch: 15/20... Step: 1960... Loss: 1.3032... Val Loss: 1.3381\n",
      "Epoch: 15/20... Step: 1970... Loss: 1.2962... Val Loss: 1.3326\n",
      "Epoch: 15/20... Step: 1980... Loss: 1.2922... Val Loss: 1.3371\n",
      "Epoch: 15/20... Step: 1990... Loss: 1.2883... Val Loss: 1.3349\n",
      "Epoch: 15/20... Step: 2000... Loss: 1.2747... Val Loss: 1.3420\n",
      "Epoch: 15/20... Step: 2010... Loss: 1.2972... Val Loss: 1.3358\n",
      "Epoch: 15/20... Step: 2020... Loss: 1.3141... Val Loss: 1.3308\n",
      "Epoch: 15/20... Step: 2030... Loss: 1.2832... Val Loss: 1.3335\n",
      "Epoch: 15/20... Step: 2040... Loss: 1.2932... Val Loss: 1.3302\n",
      "Epoch: 15/20... Step: 2050... Loss: 1.2803... Val Loss: 1.3283\n",
      "Epoch: 15/20... Step: 2060... Loss: 1.2937... Val Loss: 1.3276\n",
      "Epoch: 15/20... Step: 2070... Loss: 1.2991... Val Loss: 1.3259\n",
      "Epoch: 15/20... Step: 2080... Loss: 1.2939... Val Loss: 1.3344\n",
      "Epoch: 16/20... Step: 2090... Loss: 1.2994... Val Loss: 1.3304\n",
      "Epoch: 16/20... Step: 2100... Loss: 1.2841... Val Loss: 1.3270\n",
      "Epoch: 16/20... Step: 2110... Loss: 1.2685... Val Loss: 1.3265\n",
      "Epoch: 16/20... Step: 2120... Loss: 1.2918... Val Loss: 1.3267\n",
      "Epoch: 16/20... Step: 2130... Loss: 1.2627... Val Loss: 1.3284\n",
      "Epoch: 16/20... Step: 2140... Loss: 1.2719... Val Loss: 1.3245\n",
      "Epoch: 16/20... Step: 2150... Loss: 1.2961... Val Loss: 1.3206\n",
      "Epoch: 16/20... Step: 2160... Loss: 1.2721... Val Loss: 1.3197\n",
      "Epoch: 16/20... Step: 2170... Loss: 1.2762... Val Loss: 1.3208\n",
      "Epoch: 16/20... Step: 2180... Loss: 1.2651... Val Loss: 1.3177\n",
      "Epoch: 16/20... Step: 2190... Loss: 1.2883... Val Loss: 1.3179\n",
      "Epoch: 16/20... Step: 2200... Loss: 1.2667... Val Loss: 1.3166\n",
      "Epoch: 16/20... Step: 2210... Loss: 1.2247... Val Loss: 1.3159\n",
      "Epoch: 16/20... Step: 2220... Loss: 1.2698... Val Loss: 1.3183\n",
      "Epoch: 17/20... Step: 2230... Loss: 1.2561... Val Loss: 1.3189\n",
      "Epoch: 17/20... Step: 2240... Loss: 1.2694... Val Loss: 1.3158\n",
      "Epoch: 17/20... Step: 2250... Loss: 1.2445... Val Loss: 1.3205\n",
      "Epoch: 17/20... Step: 2260... Loss: 1.2519... Val Loss: 1.3138\n",
      "Epoch: 17/20... Step: 2270... Loss: 1.2676... Val Loss: 1.3166\n",
      "Epoch: 17/20... Step: 2280... Loss: 1.2760... Val Loss: 1.3108\n",
      "Epoch: 17/20... Step: 2290... Loss: 1.2732... Val Loss: 1.3128\n",
      "Epoch: 17/20... Step: 2300... Loss: 1.2348... Val Loss: 1.3131\n",
      "Epoch: 17/20... Step: 2310... Loss: 1.2535... Val Loss: 1.3131\n",
      "Epoch: 17/20... Step: 2320... Loss: 1.2528... Val Loss: 1.3101\n",
      "Epoch: 17/20... Step: 2330... Loss: 1.2494... Val Loss: 1.3090\n",
      "Epoch: 17/20... Step: 2340... Loss: 1.2626... Val Loss: 1.3048\n",
      "Epoch: 17/20... Step: 2350... Loss: 1.2676... Val Loss: 1.3060\n",
      "Epoch: 17/20... Step: 2360... Loss: 1.2708... Val Loss: 1.3127\n",
      "Epoch: 18/20... Step: 2370... Loss: 1.2486... Val Loss: 1.3076\n",
      "Epoch: 18/20... Step: 2380... Loss: 1.2463... Val Loss: 1.3038\n",
      "Epoch: 18/20... Step: 2390... Loss: 1.2476... Val Loss: 1.3092\n",
      "Epoch: 18/20... Step: 2400... Loss: 1.2713... Val Loss: 1.3017\n",
      "Epoch: 18/20... Step: 2410... Loss: 1.2667... Val Loss: 1.3008\n",
      "Epoch: 18/20... Step: 2420... Loss: 1.2490... Val Loss: 1.3016\n",
      "Epoch: 18/20... Step: 2430... Loss: 1.2528... Val Loss: 1.3022\n",
      "Epoch: 18/20... Step: 2440... Loss: 1.2405... Val Loss: 1.3001\n",
      "Epoch: 18/20... Step: 2450... Loss: 1.2372... Val Loss: 1.3033\n",
      "Epoch: 18/20... Step: 2460... Loss: 1.2591... Val Loss: 1.2978\n",
      "Epoch: 18/20... Step: 2470... Loss: 1.2416... Val Loss: 1.2981\n",
      "Epoch: 18/20... Step: 2480... Loss: 1.2404... Val Loss: 1.2992\n",
      "Epoch: 18/20... Step: 2490... Loss: 1.2273... Val Loss: 1.2900\n",
      "Epoch: 18/20... Step: 2500... Loss: 1.2307... Val Loss: 1.3066\n",
      "Epoch: 19/20... Step: 2510... Loss: 1.2375... Val Loss: 1.2984\n",
      "Epoch: 19/20... Step: 2520... Loss: 1.2430... Val Loss: 1.2919\n",
      "Epoch: 19/20... Step: 2530... Loss: 1.2574... Val Loss: 1.2991\n",
      "Epoch: 19/20... Step: 2540... Loss: 1.2631... Val Loss: 1.2949\n",
      "Epoch: 19/20... Step: 2550... Loss: 1.2288... Val Loss: 1.2966\n",
      "Epoch: 19/20... Step: 2560... Loss: 1.2380... Val Loss: 1.2907\n",
      "Epoch: 19/20... Step: 2570... Loss: 1.2331... Val Loss: 1.2962\n",
      "Epoch: 19/20... Step: 2580... Loss: 1.2562... Val Loss: 1.2932\n",
      "Epoch: 19/20... Step: 2590... Loss: 1.2185... Val Loss: 1.2964\n",
      "Epoch: 19/20... Step: 2600... Loss: 1.2284... Val Loss: 1.2919\n",
      "Epoch: 19/20... Step: 2610... Loss: 1.2352... Val Loss: 1.2913\n",
      "Epoch: 19/20... Step: 2620... Loss: 1.2185... Val Loss: 1.2945\n",
      "Epoch: 19/20... Step: 2630... Loss: 1.2220... Val Loss: 1.2853\n",
      "Epoch: 19/20... Step: 2640... Loss: 1.2384... Val Loss: 1.2936\n",
      "Epoch: 20/20... Step: 2650... Loss: 1.2356... Val Loss: 1.2862\n"
     ]
    },
    {
     "name": "stdout",
     "output_type": "stream",
     "text": [
      "Epoch: 20/20... Step: 2660... Loss: 1.2363... Val Loss: 1.2837\n",
      "Epoch: 20/20... Step: 2670... Loss: 1.2368... Val Loss: 1.2885\n",
      "Epoch: 20/20... Step: 2680... Loss: 1.2379... Val Loss: 1.2830\n",
      "Epoch: 20/20... Step: 2690... Loss: 1.2255... Val Loss: 1.2928\n",
      "Epoch: 20/20... Step: 2700... Loss: 1.2271... Val Loss: 1.2824\n",
      "Epoch: 20/20... Step: 2710... Loss: 1.2100... Val Loss: 1.2833\n",
      "Epoch: 20/20... Step: 2720... Loss: 1.1949... Val Loss: 1.2825\n",
      "Epoch: 20/20... Step: 2730... Loss: 1.2078... Val Loss: 1.2820\n",
      "Epoch: 20/20... Step: 2740... Loss: 1.2066... Val Loss: 1.2835\n",
      "Epoch: 20/20... Step: 2750... Loss: 1.2070... Val Loss: 1.2838\n",
      "Epoch: 20/20... Step: 2760... Loss: 1.2014... Val Loss: 1.2828\n",
      "Epoch: 20/20... Step: 2770... Loss: 1.2297... Val Loss: 1.2769\n",
      "Epoch: 20/20... Step: 2780... Loss: 1.2590... Val Loss: 1.2830\n"
     ]
    }
   ],
   "source": [
    "batch_size = 128\n",
    "seq_length = 100\n",
    "n_epochs = 20  # start small if you are just testing initial behavior\n",
    "\n",
    "# train the model\n",
    "train(net, encoded, epochs=n_epochs, batch_size=batch_size, seq_length=seq_length, lr=0.001, print_every=10)"
   ]
  },
  {
   "cell_type": "markdown",
   "metadata": {},
   "source": [
    "## Getting the best model\n",
    "\n",
    "To set your hyperparameters to get the best performance, you'll want to watch the training and validation losses. If your training loss is much lower than the validation loss, you're overfitting. Increase regularization (more dropout) or use a smaller network. If the training and validation losses are close, you're underfitting so you can increase the size of the network."
   ]
  },
  {
   "cell_type": "markdown",
   "metadata": {},
   "source": [
    "## Hyperparameters\n",
    "\n",
    "Here are the hyperparameters for the network.\n",
    "\n",
    "In defining the model:\n",
    "* `n_hidden` - The number of units in the hidden layers.\n",
    "* `n_layers` - Number of hidden LSTM layers to use.\n",
    "\n",
    "We assume that dropout probability and learning rate will be kept at the default, in this example.\n",
    "\n",
    "And in training:\n",
    "* `batch_size` - Number of sequences running through the network in one pass.\n",
    "* `seq_length` - Number of characters in the sequence the network is trained on. Larger is better typically, the network will learn more long range dependencies. But it takes longer to train. 100 is typically a good number here.\n",
    "* `lr` - Learning rate for training\n",
    "\n",
    "Here's some good advice from Andrej Karpathy on training the network. I'm going to copy it in here for your benefit, but also link to [the source](https://github.com/karpathy/char-rnn#tips-and-tricks).\n",
    "\n",
    "> ## Tips and Tricks\n",
    "\n",
    ">### Monitoring Validation Loss vs. Training Loss\n",
    ">If you're somewhat new to Machine Learning or Neural Networks it can take a bit of expertise to get good models. The most important quantity to keep track of is the difference between your training loss (printed during training) and the validation loss (printed once in a while when the RNN is run on the validation data (by default every 1000 iterations)). In particular:\n",
    "\n",
    "> - If your training loss is much lower than validation loss then this means the network might be **overfitting**. Solutions to this are to decrease your network size, or to increase dropout. For example you could try dropout of 0.5 and so on.\n",
    "> - If your training/validation loss are about equal then your model is **underfitting**. Increase the size of your model (either number of layers or the raw number of neurons per layer)\n",
    "\n",
    "> ### Approximate number of parameters\n",
    "\n",
    "> The two most important parameters that control the model are `n_hidden` and `n_layers`. I would advise that you always use `n_layers` of either 2/3. The `n_hidden` can be adjusted based on how much data you have. The two important quantities to keep track of here are:\n",
    "\n",
    "> - The number of parameters in your model. This is printed when you start training.\n",
    "> - The size of your dataset. 1MB file is approximately 1 million characters.\n",
    "\n",
    ">These two should be about the same order of magnitude. It's a little tricky to tell. Here are some examples:\n",
    "\n",
    "> - I have a 100MB dataset and I'm using the default parameter settings (which currently print 150K parameters). My data size is significantly larger (100 mil >> 0.15 mil), so I expect to heavily underfit. I am thinking I can comfortably afford to make `n_hidden` larger.\n",
    "> - I have a 10MB dataset and running a 10 million parameter model. I'm slightly nervous and I'm carefully monitoring my validation loss. If it's larger than my training loss then I may want to try to increase dropout a bit and see if that helps the validation loss.\n",
    "\n",
    "> ### Best models strategy\n",
    "\n",
    ">The winning strategy to obtaining very good models (if you have the compute time) is to always err on making the network larger (as large as you're willing to wait for it to compute) and then try different dropout values (between 0,1). Whatever model has the best validation performance (the loss, written in the checkpoint filename, low is good) is the one you should use in the end.\n",
    "\n",
    ">It is very common in deep learning to run many different models with many different hyperparameter settings, and in the end take whatever checkpoint gave the best validation performance.\n",
    "\n",
    ">By the way, the size of your training and validation splits are also parameters. Make sure you have a decent amount of data in your validation set or otherwise the validation performance will be noisy and not very informative."
   ]
  },
  {
   "cell_type": "markdown",
   "metadata": {},
   "source": [
    "## Checkpoint\n",
    "\n",
    "After training, we'll save the model so we can load it again later if we need too. Here I'm saving the parameters needed to create the same architecture, the hidden layer hyperparameters and the text characters."
   ]
  },
  {
   "cell_type": "code",
   "execution_count": 16,
   "metadata": {},
   "outputs": [],
   "source": [
    "# change the name, for saving multiple files\n",
    "model_name = 'rnn_x_epoch.net'\n",
    "\n",
    "checkpoint = {'n_hidden': net.n_hidden,\n",
    "              'n_layers': net.n_layers,\n",
    "              'state_dict': net.state_dict(),\n",
    "              'tokens': net.chars}\n",
    "\n",
    "with open(model_name, 'wb') as f:\n",
    "    torch.save(checkpoint, f)"
   ]
  },
  {
   "cell_type": "markdown",
   "metadata": {},
   "source": [
    "---\n",
    "## Making Predictions\n",
    "\n",
    "Now that the model is trained, we'll want to sample from it and make predictions about next characters! To sample, we pass in a character and have the network predict the next character. Then we take that character, pass it back in, and get another predicted character. Just keep doing this and you'll generate a bunch of text!\n",
    "\n",
    "### A note on the `predict`  function\n",
    "\n",
    "The output of our RNN is from a fully-connected layer and it outputs a **distribution of next-character scores**.\n",
    "\n",
    "> To actually get the next character, we apply a softmax function, which gives us a *probability* distribution that we can then sample to predict the next character.\n",
    "\n",
    "### Top K sampling\n",
    "\n",
    "Our predictions come from a categorical probability distribution over all the possible characters. We can make the sample text and make it more reasonable to handle (with less variables) by only considering some $K$ most probable characters. This will prevent the network from giving us completely absurd characters while allowing it to introduce some noise and randomness into the sampled text. Read more about [topk, here](https://pytorch.org/docs/stable/torch.html#torch.topk).\n"
   ]
  },
  {
   "cell_type": "code",
   "execution_count": 17,
   "metadata": {},
   "outputs": [],
   "source": [
    "def predict(net, char, h=None, top_k=None):\n",
    "    ''' Given a character, predict the next character.\n",
    "        Returns the predicted character and the hidden state.\n",
    "    '''\n",
    "\n",
    "    # tensor inputs\n",
    "    x = np.array([[net.char2int[char]]])\n",
    "    x = one_hot_encode(x, len(net.chars))\n",
    "    inputs = torch.from_numpy(x)\n",
    "\n",
    "    if(train_on_gpu):\n",
    "        inputs = inputs.cuda()\n",
    "\n",
    "    # detach hidden state from history\n",
    "    h = tuple([each.data for each in h])\n",
    "    # get the output of the model\n",
    "    out, h = net(inputs, h)\n",
    "\n",
    "    # get the character probabilities\n",
    "    p = F.softmax(out, dim=1).data\n",
    "    if(train_on_gpu):\n",
    "        p = p.cpu() # move to cpu\n",
    "\n",
    "    # get top characters\n",
    "    if top_k is None:\n",
    "        top_ch = np.arange(len(net.chars))\n",
    "    else:\n",
    "        p, top_ch = p.topk(top_k)\n",
    "        top_ch = top_ch.numpy().squeeze()\n",
    "\n",
    "    # select the likely next character with some element of randomness\n",
    "    p = p.numpy().squeeze()\n",
    "    char = np.random.choice(top_ch, p=p/p.sum())\n",
    "\n",
    "    # return the encoded value of the predicted char and the hidden state\n",
    "    return net.int2char[char], h"
   ]
  },
  {
   "cell_type": "markdown",
   "metadata": {},
   "source": [
    "### Priming and generating text \n",
    "\n",
    "Typically you'll want to prime the network so you can build up a hidden state. Otherwise the network will start out generating characters at random. In general the first bunch of characters will be a little rough since it hasn't built up a long history of characters to predict from."
   ]
  },
  {
   "cell_type": "code",
   "execution_count": 18,
   "metadata": {},
   "outputs": [],
   "source": [
    "def sample(net, size, prime='The', top_k=None):\n",
    "        \n",
    "    if(train_on_gpu):\n",
    "        net.cuda()\n",
    "    else:\n",
    "        net.cpu()\n",
    "    \n",
    "    net.eval() # eval mode\n",
    "    \n",
    "    # First off, run through the prime characters\n",
    "    chars = [ch for ch in prime]\n",
    "    h = net.init_hidden(1)\n",
    "    for ch in prime:\n",
    "        char, h = predict(net, ch, h, top_k=top_k)\n",
    "\n",
    "    chars.append(char)\n",
    "    \n",
    "    # Now pass in the previous character and get a new one\n",
    "    for ii in range(size):\n",
    "        char, h = predict(net, chars[-1], h, top_k=top_k)\n",
    "        chars.append(char)\n",
    "\n",
    "    return ''.join(chars)"
   ]
  },
  {
   "cell_type": "code",
   "execution_count": 19,
   "metadata": {},
   "outputs": [
    {
     "name": "stdout",
     "output_type": "stream",
     "text": [
      "Anna,\n",
      "when she was a caller of all his counding-raped for the moments of a\n",
      "treat as though the faint of the man, and though he could not hive\n",
      "attach, and the carviage of some side, and how took some time he\n",
      "walked alone with which the marsh, without his below that she drew no\n",
      "mouth again to the conversation in the first mishater--of this word\n",
      "to his hands in, said the people, that he could not be to be thought, and\n",
      "at answer, and had been sometimes to be all of them. He went\n",
      "to him in word were said to seal the same state to the same\n",
      "society. All at the princess was to say in the minute, he was\n",
      "to talk of something at a little, at all. Alexey Alexandrovitch had never\n",
      "too thought; besides in the driver of the drawing room of the mence of\n",
      "her to think about, and as she saw that they were signing, between his side. She\n",
      "saw that the carriage of her hand and hearing the courtess, he had never\n",
      "see the person, one of the cast and went to herself, and saw the\n",
      "same tendelle.\"\n",
      "\n",
      "\"Whis is, I so said.\n",
      "\n",
      "\n"
     ]
    }
   ],
   "source": [
    "print(sample(net, 1000, prime='Anna', top_k=5))"
   ]
  },
  {
   "cell_type": "markdown",
   "metadata": {},
   "source": [
    "## Loading a checkpoint"
   ]
  },
  {
   "cell_type": "code",
   "execution_count": 20,
   "metadata": {},
   "outputs": [
    {
     "data": {
      "text/plain": [
       "<All keys matched successfully>"
      ]
     },
     "execution_count": 20,
     "metadata": {},
     "output_type": "execute_result"
    }
   ],
   "source": [
    "# Here we have loaded in a model that trained over 20 epochs `rnn_20_epoch.net`\n",
    "with open('rnn_x_epoch.net', 'rb') as f:\n",
    "    checkpoint = torch.load(f)\n",
    "    \n",
    "loaded = CharRNN(checkpoint['tokens'], n_hidden=checkpoint['n_hidden'], n_layers=checkpoint['n_layers'])\n",
    "loaded.load_state_dict(checkpoint['state_dict'])"
   ]
  },
  {
   "cell_type": "code",
   "execution_count": 21,
   "metadata": {},
   "outputs": [
    {
     "name": "stdout",
     "output_type": "stream",
     "text": [
      "And Levin said\n",
      "to her. He was told the chorict arms, the point of his study and the\n",
      "mud was not to be done for him, and wished to him, and had to stand out that\n",
      "something women, she sat down at her as such a front of the church the\n",
      "corridor was time to him, but so horse taking on a carriage, he was\n",
      "saying with the portrait, the field was their hundred and\n",
      "an horter as the princess and her sound had a servant. The prays of which\n",
      "there was nothing about himself to the conversation of the same\n",
      "thing.\n",
      "\n",
      "\"I can't be manner of it, then? What cannot be merely at time, and I am so\n",
      "more than that the men of clear, whe he didn't take her to have begun timed\n",
      "to the stairs in the subject in spot the crims, but a little table is.\n",
      "Then you don't see the children to decide her thoughts. There's\n",
      "something of it.\"\n",
      "\n",
      "\"Well, what a minutes all the papers are anything what have you seen you a\n",
      "money,\" said Anna, when he had to consequent himself in hos\n",
      "soul, that his face, he shook her.\n",
      "\n",
      "\"If you see them to talk of the minute, and he will tell me, have\n",
      "you thinking with me? Then yis. And when I don't could not come, but it would have\n",
      "askance, but I should still make up all the sort of are. Terruped you. Alwoy times\n",
      "to treatly mean here in the men alone this attention, and then he's\n",
      "a convitceed of the more for you. I heard the children, but I do not\n",
      "come to have his son, the music fell, but there was a lady, but I should not\n",
      "conclasing a complete principal commindions.\"\n",
      "\n",
      "Stepan Arkadyevitch had a since would be strick a feeling of\n",
      "stringe and as happiness with him that the cheerful state had\n",
      "been alone was to her that, all to be as taken over them, and so aware, he\n",
      "crowded out, and they had thought of this watch, but he had a chair\n",
      "in the same take of them on the sunchatheries on all the picture.\n",
      "\n",
      "And he fancied he could not stand to her heart. \"Well, what is a frightened\n",
      "firmly,\" said Serpuhovskoy, she smiling, still shouting at Varenka. \"I\n",
      "don't. He said it all we thought. What can I mean?\" said Stepa\n"
     ]
    }
   ],
   "source": [
    "# Sample using a loaded model\n",
    "print(sample(loaded, 2000, top_k=5, prime=\"And Levin said\"))"
   ]
  }
 ],
 "metadata": {
  "kernelspec": {
   "display_name": "Python 3",
   "language": "python",
   "name": "python3"
  },
  "language_info": {
   "codemirror_mode": {
    "name": "ipython",
    "version": 3
   },
   "file_extension": ".py",
   "mimetype": "text/x-python",
   "name": "python",
   "nbconvert_exporter": "python",
   "pygments_lexer": "ipython3",
   "version": "3.8.5"
  }
 },
 "nbformat": 4,
 "nbformat_minor": 2
}
